{
 "cells": [
  {
   "cell_type": "markdown",
   "metadata": {},
   "source": [
    "https://huggingface.co/datasets/recmeapp/mobilerec"
   ]
  },
  {
   "cell_type": "code",
   "execution_count": 8,
   "metadata": {},
   "outputs": [
    {
     "name": "stdout",
     "output_type": "stream",
     "text": [
      "✅ mobilerec_final.csv shape: (19297019, 9)\n",
      "\n",
      "🔍 Sample rows:\n"
     ]
    },
    {
     "data": {
      "application/vnd.microsoft.datawrangler.viewer.v0+json": {
       "columns": [
        {
         "name": "index",
         "rawType": "int64",
         "type": "integer"
        },
        {
         "name": "app_package",
         "rawType": "object",
         "type": "string"
        },
        {
         "name": "review",
         "rawType": "object",
         "type": "string"
        },
        {
         "name": "rating",
         "rawType": "int64",
         "type": "integer"
        },
        {
         "name": "votes",
         "rawType": "int64",
         "type": "integer"
        },
        {
         "name": "date",
         "rawType": "object",
         "type": "string"
        },
        {
         "name": "uid",
         "rawType": "object",
         "type": "string"
        },
        {
         "name": "formated_date",
         "rawType": "object",
         "type": "string"
        },
        {
         "name": "unix_timestamp",
         "rawType": "float64",
         "type": "float"
        },
        {
         "name": "app_category",
         "rawType": "object",
         "type": "string"
        }
       ],
       "ref": "cafa4d25-8e9b-470a-b66c-263bf798668f",
       "rows": [
        [
         "0",
         "com.cleverapps.heroes",
         "It's really a fun game",
         "5",
         "1",
         "October 21, 2018",
         "shqoc6X1fcJRLEmx",
         "2018-10-21",
         "1540094400.0",
         "Casual"
        ],
        [
         "1",
         "com.bodyfast",
         "uninstalling. it was ok but felt like it was controlling the hours and especially how many days you would fast. not best for creating your own and tracking progress.",
         "2",
         "0",
         "January 18, 2019",
         "shqoc6X1fcJRLEmx",
         "2019-01-18",
         "1547787600.0",
         "Health & Fitness"
        ],
        [
         "2",
         "com.thrivegames.wordshapes",
         "Love this game",
         "4",
         "1",
         "January 16, 2021",
         "shqoc6X1fcJRLEmx",
         "2021-01-16",
         "1610773200.0",
         "Word"
        ],
        [
         "3",
         "com.affinity.rewarded_play",
         "Doesn't update play time. Just downloaded it 3 days ago and won't give credit for the game I play the most to earn the first $5 card.",
         "1",
         "1",
         "November 4, 2021",
         "shqoc6X1fcJRLEmx",
         "2021-11-04",
         "1635998400.0",
         "Entertainment"
        ],
        [
         "4",
         "dating.inmessage.net",
         "app crashes every time I try to log in. what gives.",
         "1",
         "0",
         "November 24, 2021",
         "shqoc6X1fcJRLEmx",
         "2021-11-24",
         "1637730000.0",
         "Dating"
        ]
       ],
       "shape": {
        "columns": 9,
        "rows": 5
       }
      },
      "text/html": [
       "<div>\n",
       "<style scoped>\n",
       "    .dataframe tbody tr th:only-of-type {\n",
       "        vertical-align: middle;\n",
       "    }\n",
       "\n",
       "    .dataframe tbody tr th {\n",
       "        vertical-align: top;\n",
       "    }\n",
       "\n",
       "    .dataframe thead th {\n",
       "        text-align: right;\n",
       "    }\n",
       "</style>\n",
       "<table border=\"1\" class=\"dataframe\">\n",
       "  <thead>\n",
       "    <tr style=\"text-align: right;\">\n",
       "      <th></th>\n",
       "      <th>app_package</th>\n",
       "      <th>review</th>\n",
       "      <th>rating</th>\n",
       "      <th>votes</th>\n",
       "      <th>date</th>\n",
       "      <th>uid</th>\n",
       "      <th>formated_date</th>\n",
       "      <th>unix_timestamp</th>\n",
       "      <th>app_category</th>\n",
       "    </tr>\n",
       "  </thead>\n",
       "  <tbody>\n",
       "    <tr>\n",
       "      <th>0</th>\n",
       "      <td>com.cleverapps.heroes</td>\n",
       "      <td>It's really a fun game</td>\n",
       "      <td>5</td>\n",
       "      <td>1</td>\n",
       "      <td>October 21, 2018</td>\n",
       "      <td>shqoc6X1fcJRLEmx</td>\n",
       "      <td>2018-10-21</td>\n",
       "      <td>1.540094e+09</td>\n",
       "      <td>Casual</td>\n",
       "    </tr>\n",
       "    <tr>\n",
       "      <th>1</th>\n",
       "      <td>com.bodyfast</td>\n",
       "      <td>uninstalling. it was ok but felt like it was c...</td>\n",
       "      <td>2</td>\n",
       "      <td>0</td>\n",
       "      <td>January 18, 2019</td>\n",
       "      <td>shqoc6X1fcJRLEmx</td>\n",
       "      <td>2019-01-18</td>\n",
       "      <td>1.547788e+09</td>\n",
       "      <td>Health &amp; Fitness</td>\n",
       "    </tr>\n",
       "    <tr>\n",
       "      <th>2</th>\n",
       "      <td>com.thrivegames.wordshapes</td>\n",
       "      <td>Love this game</td>\n",
       "      <td>4</td>\n",
       "      <td>1</td>\n",
       "      <td>January 16, 2021</td>\n",
       "      <td>shqoc6X1fcJRLEmx</td>\n",
       "      <td>2021-01-16</td>\n",
       "      <td>1.610773e+09</td>\n",
       "      <td>Word</td>\n",
       "    </tr>\n",
       "    <tr>\n",
       "      <th>3</th>\n",
       "      <td>com.affinity.rewarded_play</td>\n",
       "      <td>Doesn't update play time. Just downloaded it 3...</td>\n",
       "      <td>1</td>\n",
       "      <td>1</td>\n",
       "      <td>November 4, 2021</td>\n",
       "      <td>shqoc6X1fcJRLEmx</td>\n",
       "      <td>2021-11-04</td>\n",
       "      <td>1.635998e+09</td>\n",
       "      <td>Entertainment</td>\n",
       "    </tr>\n",
       "    <tr>\n",
       "      <th>4</th>\n",
       "      <td>dating.inmessage.net</td>\n",
       "      <td>app crashes every time I try to log in. what g...</td>\n",
       "      <td>1</td>\n",
       "      <td>0</td>\n",
       "      <td>November 24, 2021</td>\n",
       "      <td>shqoc6X1fcJRLEmx</td>\n",
       "      <td>2021-11-24</td>\n",
       "      <td>1.637730e+09</td>\n",
       "      <td>Dating</td>\n",
       "    </tr>\n",
       "  </tbody>\n",
       "</table>\n",
       "</div>"
      ],
      "text/plain": [
       "                  app_package  \\\n",
       "0       com.cleverapps.heroes   \n",
       "1                com.bodyfast   \n",
       "2  com.thrivegames.wordshapes   \n",
       "3  com.affinity.rewarded_play   \n",
       "4        dating.inmessage.net   \n",
       "\n",
       "                                              review  rating  votes  \\\n",
       "0                             It's really a fun game       5      1   \n",
       "1  uninstalling. it was ok but felt like it was c...       2      0   \n",
       "2                                     Love this game       4      1   \n",
       "3  Doesn't update play time. Just downloaded it 3...       1      1   \n",
       "4  app crashes every time I try to log in. what g...       1      0   \n",
       "\n",
       "                date               uid formated_date  unix_timestamp  \\\n",
       "0   October 21, 2018  shqoc6X1fcJRLEmx    2018-10-21    1.540094e+09   \n",
       "1   January 18, 2019  shqoc6X1fcJRLEmx    2019-01-18    1.547788e+09   \n",
       "2   January 16, 2021  shqoc6X1fcJRLEmx    2021-01-16    1.610773e+09   \n",
       "3   November 4, 2021  shqoc6X1fcJRLEmx    2021-11-04    1.635998e+09   \n",
       "4  November 24, 2021  shqoc6X1fcJRLEmx    2021-11-24    1.637730e+09   \n",
       "\n",
       "       app_category  \n",
       "0            Casual  \n",
       "1  Health & Fitness  \n",
       "2              Word  \n",
       "3     Entertainment  \n",
       "4            Dating  "
      ]
     },
     "execution_count": 8,
     "metadata": {},
     "output_type": "execute_result"
    }
   ],
   "source": [
    "import pandas as pd\n",
    "import os\n",
    "\n",
    "# Define the path to your CSV file\n",
    "data_path = '../data'  # adjust if needed\n",
    "file_path = os.path.join(data_path, 'mobilerec_final.csv')\n",
    "\n",
    "# Load the MobileRec dataset\n",
    "mobile = pd.read_csv(file_path)\n",
    "\n",
    "# Show shape and sample\n",
    "print(f\"✅ mobilerec_final.csv shape: {mobile.shape}\\n\")\n",
    "\n",
    "print(\"🔍 Sample rows:\")\n",
    "mobile.head()"
   ]
  },
  {
   "cell_type": "code",
   "execution_count": 9,
   "metadata": {},
   "outputs": [
    {
     "data": {
      "application/vnd.microsoft.datawrangler.viewer.v0+json": {
       "columns": [
        {
         "name": "index",
         "rawType": "int64",
         "type": "integer"
        },
        {
         "name": "app_package",
         "rawType": "object",
         "type": "string"
        },
        {
         "name": "review",
         "rawType": "object",
         "type": "string"
        },
        {
         "name": "rating",
         "rawType": "int64",
         "type": "integer"
        },
        {
         "name": "votes",
         "rawType": "int64",
         "type": "integer"
        },
        {
         "name": "date",
         "rawType": "object",
         "type": "string"
        },
        {
         "name": "uid",
         "rawType": "object",
         "type": "string"
        },
        {
         "name": "formated_date",
         "rawType": "object",
         "type": "string"
        },
        {
         "name": "unix_timestamp",
         "rawType": "float64",
         "type": "float"
        },
        {
         "name": "app_category",
         "rawType": "object",
         "type": "string"
        }
       ],
       "ref": "18a354c7-ba18-48d0-b6d2-2cb9ea9051d5",
       "rows": [
        [
         "0",
         "com.cleverapps.heroes",
         "It's really a fun game",
         "5",
         "1",
         "October 21, 2018",
         "shqoc6X1fcJRLEmx",
         "2018-10-21",
         "1540094400.0",
         "Casual"
        ],
        [
         "1",
         "com.bodyfast",
         "uninstalling. it was ok but felt like it was controlling the hours and especially how many days you would fast. not best for creating your own and tracking progress.",
         "2",
         "0",
         "January 18, 2019",
         "shqoc6X1fcJRLEmx",
         "2019-01-18",
         "1547787600.0",
         "Health & Fitness"
        ],
        [
         "2",
         "com.thrivegames.wordshapes",
         "Love this game",
         "4",
         "1",
         "January 16, 2021",
         "shqoc6X1fcJRLEmx",
         "2021-01-16",
         "1610773200.0",
         "Word"
        ],
        [
         "3",
         "com.affinity.rewarded_play",
         "Doesn't update play time. Just downloaded it 3 days ago and won't give credit for the game I play the most to earn the first $5 card.",
         "1",
         "1",
         "November 4, 2021",
         "shqoc6X1fcJRLEmx",
         "2021-11-04",
         "1635998400.0",
         "Entertainment"
        ],
        [
         "4",
         "dating.inmessage.net",
         "app crashes every time I try to log in. what gives.",
         "1",
         "0",
         "November 24, 2021",
         "shqoc6X1fcJRLEmx",
         "2021-11-24",
         "1637730000.0",
         "Dating"
        ]
       ],
       "shape": {
        "columns": 9,
        "rows": 5
       }
      },
      "text/html": [
       "<div>\n",
       "<style scoped>\n",
       "    .dataframe tbody tr th:only-of-type {\n",
       "        vertical-align: middle;\n",
       "    }\n",
       "\n",
       "    .dataframe tbody tr th {\n",
       "        vertical-align: top;\n",
       "    }\n",
       "\n",
       "    .dataframe thead th {\n",
       "        text-align: right;\n",
       "    }\n",
       "</style>\n",
       "<table border=\"1\" class=\"dataframe\">\n",
       "  <thead>\n",
       "    <tr style=\"text-align: right;\">\n",
       "      <th></th>\n",
       "      <th>app_package</th>\n",
       "      <th>review</th>\n",
       "      <th>rating</th>\n",
       "      <th>votes</th>\n",
       "      <th>date</th>\n",
       "      <th>uid</th>\n",
       "      <th>formated_date</th>\n",
       "      <th>unix_timestamp</th>\n",
       "      <th>app_category</th>\n",
       "    </tr>\n",
       "  </thead>\n",
       "  <tbody>\n",
       "    <tr>\n",
       "      <th>0</th>\n",
       "      <td>com.cleverapps.heroes</td>\n",
       "      <td>It's really a fun game</td>\n",
       "      <td>5</td>\n",
       "      <td>1</td>\n",
       "      <td>October 21, 2018</td>\n",
       "      <td>shqoc6X1fcJRLEmx</td>\n",
       "      <td>2018-10-21</td>\n",
       "      <td>1.540094e+09</td>\n",
       "      <td>Casual</td>\n",
       "    </tr>\n",
       "    <tr>\n",
       "      <th>1</th>\n",
       "      <td>com.bodyfast</td>\n",
       "      <td>uninstalling. it was ok but felt like it was c...</td>\n",
       "      <td>2</td>\n",
       "      <td>0</td>\n",
       "      <td>January 18, 2019</td>\n",
       "      <td>shqoc6X1fcJRLEmx</td>\n",
       "      <td>2019-01-18</td>\n",
       "      <td>1.547788e+09</td>\n",
       "      <td>Health &amp; Fitness</td>\n",
       "    </tr>\n",
       "    <tr>\n",
       "      <th>2</th>\n",
       "      <td>com.thrivegames.wordshapes</td>\n",
       "      <td>Love this game</td>\n",
       "      <td>4</td>\n",
       "      <td>1</td>\n",
       "      <td>January 16, 2021</td>\n",
       "      <td>shqoc6X1fcJRLEmx</td>\n",
       "      <td>2021-01-16</td>\n",
       "      <td>1.610773e+09</td>\n",
       "      <td>Word</td>\n",
       "    </tr>\n",
       "    <tr>\n",
       "      <th>3</th>\n",
       "      <td>com.affinity.rewarded_play</td>\n",
       "      <td>Doesn't update play time. Just downloaded it 3...</td>\n",
       "      <td>1</td>\n",
       "      <td>1</td>\n",
       "      <td>November 4, 2021</td>\n",
       "      <td>shqoc6X1fcJRLEmx</td>\n",
       "      <td>2021-11-04</td>\n",
       "      <td>1.635998e+09</td>\n",
       "      <td>Entertainment</td>\n",
       "    </tr>\n",
       "    <tr>\n",
       "      <th>4</th>\n",
       "      <td>dating.inmessage.net</td>\n",
       "      <td>app crashes every time I try to log in. what g...</td>\n",
       "      <td>1</td>\n",
       "      <td>0</td>\n",
       "      <td>November 24, 2021</td>\n",
       "      <td>shqoc6X1fcJRLEmx</td>\n",
       "      <td>2021-11-24</td>\n",
       "      <td>1.637730e+09</td>\n",
       "      <td>Dating</td>\n",
       "    </tr>\n",
       "  </tbody>\n",
       "</table>\n",
       "</div>"
      ],
      "text/plain": [
       "                  app_package  \\\n",
       "0       com.cleverapps.heroes   \n",
       "1                com.bodyfast   \n",
       "2  com.thrivegames.wordshapes   \n",
       "3  com.affinity.rewarded_play   \n",
       "4        dating.inmessage.net   \n",
       "\n",
       "                                              review  rating  votes  \\\n",
       "0                             It's really a fun game       5      1   \n",
       "1  uninstalling. it was ok but felt like it was c...       2      0   \n",
       "2                                     Love this game       4      1   \n",
       "3  Doesn't update play time. Just downloaded it 3...       1      1   \n",
       "4  app crashes every time I try to log in. what g...       1      0   \n",
       "\n",
       "                date               uid formated_date  unix_timestamp  \\\n",
       "0   October 21, 2018  shqoc6X1fcJRLEmx    2018-10-21    1.540094e+09   \n",
       "1   January 18, 2019  shqoc6X1fcJRLEmx    2019-01-18    1.547788e+09   \n",
       "2   January 16, 2021  shqoc6X1fcJRLEmx    2021-01-16    1.610773e+09   \n",
       "3   November 4, 2021  shqoc6X1fcJRLEmx    2021-11-04    1.635998e+09   \n",
       "4  November 24, 2021  shqoc6X1fcJRLEmx    2021-11-24    1.637730e+09   \n",
       "\n",
       "       app_category  \n",
       "0            Casual  \n",
       "1  Health & Fitness  \n",
       "2              Word  \n",
       "3     Entertainment  \n",
       "4            Dating  "
      ]
     },
     "execution_count": 9,
     "metadata": {},
     "output_type": "execute_result"
    }
   ],
   "source": [
    "mobile.head()"
   ]
  },
  {
   "cell_type": "code",
   "execution_count": 10,
   "metadata": {},
   "outputs": [
    {
     "data": {
      "text/plain": [
       "Index(['app_package', 'review', 'rating', 'votes', 'date', 'uid',\n",
       "       'formated_date', 'unix_timestamp', 'app_category'],\n",
       "      dtype='object')"
      ]
     },
     "execution_count": 10,
     "metadata": {},
     "output_type": "execute_result"
    }
   ],
   "source": [
    "mobile.columns"
   ]
  },
  {
   "cell_type": "code",
   "execution_count": null,
   "metadata": {},
   "outputs": [],
   "source": [
    "import pandas as pd\n",
    "import matplotlib.pyplot as plt\n",
    "\n",
    "# Copy mobile dataset\n",
    "df = mobile.copy()\n",
    "\n",
    "# ========== User & App Statistics ==========\n",
    "unique_users = df['uid'].nunique()\n",
    "unique_apps = df['app_package'].nunique()\n",
    "ratings_per_user = df.groupby('uid').size()\n",
    "average_ratings_per_user = ratings_per_user.mean()\n",
    "min_ratings_per_user = ratings_per_user.min()\n",
    "max_ratings_per_user = ratings_per_user.max()\n",
    "\n",
    "# ========== Category Statistics ==========\n",
    "unique_categories = df['app_category'].nunique()\n",
    "apps_per_category = df.groupby('app_category')['app_package'].nunique().sort_values(ascending=False)\n",
    "\n",
    "# ========== Plot: Apps per Category ==========\n",
    "plt.figure(figsize=(12, 6))\n",
    "apps_per_category.plot(kind='bar', color='skyblue')\n",
    "plt.title('Number of Unique Apps per Category')\n",
    "plt.xlabel('App Category')\n",
    "plt.ylabel('Number of Unique Apps')\n",
    "plt.xticks(rotation=45, ha='right')\n",
    "plt.tight_layout()\n",
    "plt.grid(axis='y')\n",
    "plt.show()\n",
    "\n",
    "# ========== Missing Values ==========\n",
    "missing_values = {\n",
    "    \"Missing ratings\": df['rating'].isnull().sum(),\n",
    "    \"Missing user IDs\": df['uid'].isnull().sum(),\n",
    "    \"Missing app categories\": df['app_category'].isnull().sum(),\n",
    "    \"Missing app packages\": df['app_package'].isnull().sum()\n",
    "}\n",
    "\n",
    "print(\"\\n🔍 Missing Value Report:\")\n",
    "for key, val in missing_values.items():\n",
    "    print(f\"{key}: {val}\")\n",
    "\n",
    "# ========== Duplicate Rows ==========\n",
    "duplicate_rows = df.duplicated().sum()\n",
    "print(f\"\\n🧾 Number of duplicate rows: {duplicate_rows}\")\n",
    "\n",
    "# ========== Ratings Info ==========\n",
    "total_rows = len(df)\n",
    "non_null_ratings = df['rating'].notnull().sum()\n",
    "print(f\"\\n📊 Total rows: {total_rows}\")\n",
    "print(f\"✅ Non-null ratings: {non_null_ratings}\")\n",
    "\n",
    "if total_rows == non_null_ratings:\n",
    "    print(\"✔️ All rows have a rating.\")\n",
    "else:\n",
    "    print(\"⚠️ Some rows are missing a rating.\")\n",
    "\n",
    "# ========== Summary ==========\n",
    "print(\"\\n📌 Dataset Summary:\")\n",
    "print(f\"Unique users: {unique_users}\")\n",
    "print(f\"Unique apps: {unique_apps}\")\n",
    "print(f\"Unique categories: {unique_categories}\")\n",
    "print(f\"Average ratings per user: {average_ratings_per_user:.2f}\")\n",
    "print(f\"Min ratings per user: {min_ratings_per_user}\")\n",
    "print(f\"Max ratings per user: {max_ratings_per_user}\")\n"
   ]
  },
  {
   "cell_type": "markdown",
   "metadata": {},
   "source": [
    "## Saving the cleaned df to start working on"
   ]
  },
  {
   "cell_type": "code",
   "execution_count": 1,
   "metadata": {},
   "outputs": [
    {
     "name": "stdout",
     "output_type": "stream",
     "text": [
      "(19297019, 4)\n"
     ]
    }
   ],
   "source": [
    "import pandas as pd\n",
    "\n",
    "# Replace this path with the actual location of your CSV file\n",
    "file_path = \"../data/mobilerec_final.csv\"\n",
    "\n",
    "# Load the dataset\n",
    "df = pd.read_csv(file_path)\n",
    "\n",
    "# Keep only the 4 required columns\n",
    "df = df[['rating', 'uid', 'app_category', 'app_package']]\n",
    "\n",
    "# Save the updated DataFrame back to the original location\n",
    "df.to_csv(file_path, index=False)\n",
    "\n",
    "# Confirm the new shape\n",
    "print(df.shape)\n"
   ]
  },
  {
   "cell_type": "code",
   "execution_count": null,
   "metadata": {},
   "outputs": [
    {
     "name": "stdout",
     "output_type": "stream",
     "text": [
      "Number of unique categories: 48\n",
      "Number of unique users: 700111\n",
      "Number of duplicate rows: 35395\n"
     ]
    },
    {
     "ename": "NameError",
     "evalue": "name 'mobile' is not defined",
     "output_type": "error",
     "traceback": [
      "\u001b[0;31m---------------------------------------------------------------------------\u001b[0m",
      "\u001b[0;31mNameError\u001b[0m                                 Traceback (most recent call last)",
      "Cell \u001b[0;32mIn [6], line 8\u001b[0m\n\u001b[1;32m      6\u001b[0m duplicates \u001b[38;5;241m=\u001b[39m df\u001b[38;5;241m.\u001b[39mduplicated()\u001b[38;5;241m.\u001b[39msum()\n\u001b[1;32m      7\u001b[0m \u001b[38;5;28mprint\u001b[39m(\u001b[38;5;124mf\u001b[39m\u001b[38;5;124m\"\u001b[39m\u001b[38;5;124mNumber of duplicate rows: \u001b[39m\u001b[38;5;132;01m{\u001b[39;00mduplicates\u001b[38;5;132;01m}\u001b[39;00m\u001b[38;5;124m\"\u001b[39m)\n\u001b[0;32m----> 8\u001b[0m duplicates \u001b[38;5;241m=\u001b[39m mobile\u001b[38;5;241m.\u001b[39mduplicated()\u001b[38;5;241m.\u001b[39msum()\n\u001b[1;32m      9\u001b[0m \u001b[38;5;28mprint\u001b[39m(\u001b[38;5;124mf\u001b[39m\u001b[38;5;124m\"\u001b[39m\u001b[38;5;124mNumber of duplicate rows: \u001b[39m\u001b[38;5;132;01m{\u001b[39;00mduplicates\u001b[38;5;132;01m}\u001b[39;00m\u001b[38;5;124m\"\u001b[39m)\n",
      "\u001b[0;31mNameError\u001b[0m: name 'mobile' is not defined"
     ]
    }
   ],
   "source": [
    "unique_categories = df['app_category'].nunique()\n",
    "print(f\"Number of unique categories: {unique_categories}\")\n",
    "unique_users = df['uid'].nunique()\n",
    "print(f\"Number of unique users: {unique_users}\")\n",
    "# Check for duplicates\n",
    "duplicates = df.duplicated().sum()\n",
    "print(f\"Number of duplicate rows: {duplicates}\")\n"
   ]
  },
  {
   "cell_type": "markdown",
   "metadata": {},
   "source": [
    "## computing user_entropy and clustering - initiate"
   ]
  },
  {
   "cell_type": "code",
   "execution_count": null,
   "metadata": {},
   "outputs": [
    {
     "data": {
      "application/vnd.microsoft.datawrangler.viewer.v0+json": {
       "columns": [
        {
         "name": "index",
         "rawType": "int64",
         "type": "integer"
        },
        {
         "name": "app_package",
         "rawType": "object",
         "type": "string"
        },
        {
         "name": "review",
         "rawType": "object",
         "type": "string"
        },
        {
         "name": "rating",
         "rawType": "int64",
         "type": "integer"
        },
        {
         "name": "votes",
         "rawType": "int64",
         "type": "integer"
        },
        {
         "name": "date",
         "rawType": "object",
         "type": "string"
        },
        {
         "name": "uid",
         "rawType": "object",
         "type": "string"
        },
        {
         "name": "formated_date",
         "rawType": "object",
         "type": "string"
        },
        {
         "name": "unix_timestamp",
         "rawType": "float64",
         "type": "float"
        },
        {
         "name": "app_category",
         "rawType": "object",
         "type": "string"
        }
       ],
       "ref": "1d9f6255-51e7-4d03-b5b7-0ba6393a4acc",
       "rows": [
        [
         "0",
         "com.cleverapps.heroes",
         "It's really a fun game",
         "5",
         "1",
         "October 21, 2018",
         "shqoc6X1fcJRLEmx",
         "2018-10-21",
         "1540094400.0",
         "Casual"
        ],
        [
         "1",
         "com.bodyfast",
         "uninstalling. it was ok but felt like it was controlling the hours and especially how many days you would fast. not best for creating your own and tracking progress.",
         "2",
         "0",
         "January 18, 2019",
         "shqoc6X1fcJRLEmx",
         "2019-01-18",
         "1547787600.0",
         "Health & Fitness"
        ],
        [
         "2",
         "com.thrivegames.wordshapes",
         "Love this game",
         "4",
         "1",
         "January 16, 2021",
         "shqoc6X1fcJRLEmx",
         "2021-01-16",
         "1610773200.0",
         "Word"
        ],
        [
         "3",
         "com.affinity.rewarded_play",
         "Doesn't update play time. Just downloaded it 3 days ago and won't give credit for the game I play the most to earn the first $5 card.",
         "1",
         "1",
         "November 4, 2021",
         "shqoc6X1fcJRLEmx",
         "2021-11-04",
         "1635998400.0",
         "Entertainment"
        ],
        [
         "4",
         "dating.inmessage.net",
         "app crashes every time I try to log in. what gives.",
         "1",
         "0",
         "November 24, 2021",
         "shqoc6X1fcJRLEmx",
         "2021-11-24",
         "1637730000.0",
         "Dating"
        ]
       ],
       "shape": {
        "columns": 9,
        "rows": 5
       }
      },
      "text/html": [
       "<div>\n",
       "<style scoped>\n",
       "    .dataframe tbody tr th:only-of-type {\n",
       "        vertical-align: middle;\n",
       "    }\n",
       "\n",
       "    .dataframe tbody tr th {\n",
       "        vertical-align: top;\n",
       "    }\n",
       "\n",
       "    .dataframe thead th {\n",
       "        text-align: right;\n",
       "    }\n",
       "</style>\n",
       "<table border=\"1\" class=\"dataframe\">\n",
       "  <thead>\n",
       "    <tr style=\"text-align: right;\">\n",
       "      <th></th>\n",
       "      <th>app_package</th>\n",
       "      <th>review</th>\n",
       "      <th>rating</th>\n",
       "      <th>votes</th>\n",
       "      <th>date</th>\n",
       "      <th>uid</th>\n",
       "      <th>formated_date</th>\n",
       "      <th>unix_timestamp</th>\n",
       "      <th>app_category</th>\n",
       "    </tr>\n",
       "  </thead>\n",
       "  <tbody>\n",
       "    <tr>\n",
       "      <th>0</th>\n",
       "      <td>com.cleverapps.heroes</td>\n",
       "      <td>It's really a fun game</td>\n",
       "      <td>5</td>\n",
       "      <td>1</td>\n",
       "      <td>October 21, 2018</td>\n",
       "      <td>shqoc6X1fcJRLEmx</td>\n",
       "      <td>2018-10-21</td>\n",
       "      <td>1.540094e+09</td>\n",
       "      <td>Casual</td>\n",
       "    </tr>\n",
       "    <tr>\n",
       "      <th>1</th>\n",
       "      <td>com.bodyfast</td>\n",
       "      <td>uninstalling. it was ok but felt like it was c...</td>\n",
       "      <td>2</td>\n",
       "      <td>0</td>\n",
       "      <td>January 18, 2019</td>\n",
       "      <td>shqoc6X1fcJRLEmx</td>\n",
       "      <td>2019-01-18</td>\n",
       "      <td>1.547788e+09</td>\n",
       "      <td>Health &amp; Fitness</td>\n",
       "    </tr>\n",
       "    <tr>\n",
       "      <th>2</th>\n",
       "      <td>com.thrivegames.wordshapes</td>\n",
       "      <td>Love this game</td>\n",
       "      <td>4</td>\n",
       "      <td>1</td>\n",
       "      <td>January 16, 2021</td>\n",
       "      <td>shqoc6X1fcJRLEmx</td>\n",
       "      <td>2021-01-16</td>\n",
       "      <td>1.610773e+09</td>\n",
       "      <td>Word</td>\n",
       "    </tr>\n",
       "    <tr>\n",
       "      <th>3</th>\n",
       "      <td>com.affinity.rewarded_play</td>\n",
       "      <td>Doesn't update play time. Just downloaded it 3...</td>\n",
       "      <td>1</td>\n",
       "      <td>1</td>\n",
       "      <td>November 4, 2021</td>\n",
       "      <td>shqoc6X1fcJRLEmx</td>\n",
       "      <td>2021-11-04</td>\n",
       "      <td>1.635998e+09</td>\n",
       "      <td>Entertainment</td>\n",
       "    </tr>\n",
       "    <tr>\n",
       "      <th>4</th>\n",
       "      <td>dating.inmessage.net</td>\n",
       "      <td>app crashes every time I try to log in. what g...</td>\n",
       "      <td>1</td>\n",
       "      <td>0</td>\n",
       "      <td>November 24, 2021</td>\n",
       "      <td>shqoc6X1fcJRLEmx</td>\n",
       "      <td>2021-11-24</td>\n",
       "      <td>1.637730e+09</td>\n",
       "      <td>Dating</td>\n",
       "    </tr>\n",
       "  </tbody>\n",
       "</table>\n",
       "</div>"
      ],
      "text/plain": [
       "                  app_package  \\\n",
       "0       com.cleverapps.heroes   \n",
       "1                com.bodyfast   \n",
       "2  com.thrivegames.wordshapes   \n",
       "3  com.affinity.rewarded_play   \n",
       "4        dating.inmessage.net   \n",
       "\n",
       "                                              review  rating  votes  \\\n",
       "0                             It's really a fun game       5      1   \n",
       "1  uninstalling. it was ok but felt like it was c...       2      0   \n",
       "2                                     Love this game       4      1   \n",
       "3  Doesn't update play time. Just downloaded it 3...       1      1   \n",
       "4  app crashes every time I try to log in. what g...       1      0   \n",
       "\n",
       "                date               uid formated_date  unix_timestamp  \\\n",
       "0   October 21, 2018  shqoc6X1fcJRLEmx    2018-10-21    1.540094e+09   \n",
       "1   January 18, 2019  shqoc6X1fcJRLEmx    2019-01-18    1.547788e+09   \n",
       "2   January 16, 2021  shqoc6X1fcJRLEmx    2021-01-16    1.610773e+09   \n",
       "3   November 4, 2021  shqoc6X1fcJRLEmx    2021-11-04    1.635998e+09   \n",
       "4  November 24, 2021  shqoc6X1fcJRLEmx    2021-11-24    1.637730e+09   \n",
       "\n",
       "       app_category  \n",
       "0            Casual  \n",
       "1  Health & Fitness  \n",
       "2              Word  \n",
       "3     Entertainment  \n",
       "4            Dating  "
      ]
     },
     "execution_count": 9,
     "metadata": {},
     "output_type": "execute_result"
    }
   ],
   "source": [
    "mobile = mobile[mobile['app_package'],['user_rating', 'app_category']].drop_duplicates()"
   ]
  },
  {
   "cell_type": "markdown",
   "metadata": {},
   "source": [
    "200\n",
    "500\n",
    "1000"
   ]
  }
 ],
 "metadata": {
  "kernelspec": {
   "display_name": "Python 3",
   "language": "python",
   "name": "python3"
  },
  "language_info": {
   "codemirror_mode": {
    "name": "ipython",
    "version": 3
   },
   "file_extension": ".py",
   "mimetype": "text/x-python",
   "name": "python",
   "nbconvert_exporter": "python",
   "pygments_lexer": "ipython3",
   "version": "3.9.6"
  }
 },
 "nbformat": 4,
 "nbformat_minor": 2
}

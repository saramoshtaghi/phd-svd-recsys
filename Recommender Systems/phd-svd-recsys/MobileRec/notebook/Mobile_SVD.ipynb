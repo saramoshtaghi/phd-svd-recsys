{
 "cells": [
  {
   "cell_type": "code",
   "execution_count": 1,
   "metadata": {},
   "outputs": [
    {
     "name": "stdout",
     "output_type": "stream",
     "text": [
      "Defaulting to user installation because normal site-packages is not writeable\n",
      "Requirement already satisfied: surprise in /home/moshtasa/.local/lib/python3.9/site-packages (0.1)\n",
      "Requirement already satisfied: scikit-surprise in /home/moshtasa/.local/lib/python3.9/site-packages (from surprise) (1.1.4)\n",
      "Requirement already satisfied: joblib>=1.2.0 in /home/moshtasa/.local/lib/python3.9/site-packages (from scikit-surprise->surprise) (1.4.2)\n",
      "Requirement already satisfied: numpy>=1.19.5 in /usr/local/anaconda3/lib/python3.9/site-packages (from scikit-surprise->surprise) (1.21.5)\n",
      "Requirement already satisfied: scipy>=1.6.0 in /usr/local/anaconda3/lib/python3.9/site-packages (from scikit-surprise->surprise) (1.9.1)\n",
      "Note: you may need to restart the kernel to use updated packages.\n"
     ]
    }
   ],
   "source": [
    "pip install surprise"
   ]
  },
  {
   "cell_type": "code",
   "execution_count": 1,
   "metadata": {},
   "outputs": [],
   "source": [
    "import pandas as pd\n",
    "from docx import Document"
   ]
  },
  {
   "cell_type": "code",
   "execution_count": 2,
   "metadata": {},
   "outputs": [],
   "source": [
    "df_final = pd.read_csv(\"../data/df_final.csv\") \n",
    "df_240 = pd.read_csv(\"../data/df_240.csv\") \n",
    "df_528 = pd.read_csv(\"../data/df_528.csv\")\n",
    "df_1056 = pd.read_csv(\"../data/df_1056.csv\")"
   ]
  },
  {
   "cell_type": "code",
   "execution_count": 3,
   "metadata": {},
   "outputs": [
    {
     "data": {
      "text/html": [
       "<div>\n",
       "<style scoped>\n",
       "    .dataframe tbody tr th:only-of-type {\n",
       "        vertical-align: middle;\n",
       "    }\n",
       "\n",
       "    .dataframe tbody tr th {\n",
       "        vertical-align: top;\n",
       "    }\n",
       "\n",
       "    .dataframe thead th {\n",
       "        text-align: right;\n",
       "    }\n",
       "</style>\n",
       "<table border=\"1\" class=\"dataframe\">\n",
       "  <thead>\n",
       "    <tr style=\"text-align: right;\">\n",
       "      <th></th>\n",
       "      <th>user_id</th>\n",
       "      <th>app_id</th>\n",
       "      <th>category</th>\n",
       "      <th>rating</th>\n",
       "    </tr>\n",
       "  </thead>\n",
       "  <tbody>\n",
       "    <tr>\n",
       "      <th>0</th>\n",
       "      <td>1</td>\n",
       "      <td>1</td>\n",
       "      <td>Strategy</td>\n",
       "      <td>4</td>\n",
       "    </tr>\n",
       "    <tr>\n",
       "      <th>1</th>\n",
       "      <td>2</td>\n",
       "      <td>2</td>\n",
       "      <td>Puzzle</td>\n",
       "      <td>3</td>\n",
       "    </tr>\n",
       "    <tr>\n",
       "      <th>2</th>\n",
       "      <td>3</td>\n",
       "      <td>3</td>\n",
       "      <td>Business</td>\n",
       "      <td>2</td>\n",
       "    </tr>\n",
       "    <tr>\n",
       "      <th>3</th>\n",
       "      <td>4</td>\n",
       "      <td>4</td>\n",
       "      <td>Simulation</td>\n",
       "      <td>1</td>\n",
       "    </tr>\n",
       "    <tr>\n",
       "      <th>4</th>\n",
       "      <td>5</td>\n",
       "      <td>5</td>\n",
       "      <td>Books &amp; Reference</td>\n",
       "      <td>3</td>\n",
       "    </tr>\n",
       "  </tbody>\n",
       "</table>\n",
       "</div>"
      ],
      "text/plain": [
       "   user_id  app_id           category  rating\n",
       "0        1       1           Strategy       4\n",
       "1        2       2             Puzzle       3\n",
       "2        3       3           Business       2\n",
       "3        4       4         Simulation       1\n",
       "4        5       5  Books & Reference       3"
      ]
     },
     "execution_count": 3,
     "metadata": {},
     "output_type": "execute_result"
    }
   ],
   "source": [
    "df_final.head()"
   ]
  },
  {
   "cell_type": "markdown",
   "metadata": {},
   "source": [
    "## Generating top n recommandation to users based on 4 diffrent datasets(original+ 3 biased)"
   ]
  },
  {
   "cell_type": "code",
   "execution_count": null,
   "metadata": {},
   "outputs": [
    {
     "name": "stdout",
     "output_type": "stream",
     "text": [
      "Training on df_1056, generating top-25 recommendations for df_final users...\n"
     ]
    },
    {
     "name": "stderr",
     "output_type": "stream",
     "text": [
      "/usr/local/anaconda3/lib/python3.9/site-packages/pandas/core/reshape/reshape.py:134: PerformanceWarning: The following operation may generate 7132971891 cells in the resulting pandas object.\n",
      "  warnings.warn(\n"
     ]
    },
    {
     "name": "stdout",
     "output_type": "stream",
     "text": [
      "Saved: ../result/rec/top25_df_1056_with_category.csv\n"
     ]
    }
   ],
   "source": [
    "import pandas as pd\n",
    "from scipy.sparse import csr_matrix\n",
    "from scipy.sparse.linalg import svds\n",
    "import numpy as np\n",
    "\n",
    "# Load datasets\n",
    "df_final = pd.read_csv(\"../data/df_final.csv\")\n",
    "df_240 = pd.read_csv(\"../data/df_240.csv\")\n",
    "df_528 = pd.read_csv(\"../data/df_528.csv\")\n",
    "df_1056 = pd.read_csv(\"../data/df_1056.csv\")\n",
    "\n",
    "# Define datasets\n",
    "datasets = {\n",
    "    \"df_final\": df_final,\n",
    "    \"df_240\": df_240,\n",
    "    \"df_528\": df_528,\n",
    "    'df_1056':df_1056\n",
    "}\n",
    "\n",
    "def train_and_recommend(train_df, test_users_df, k=50, top_k=25):\n",
    "    # Create training user-item matrix\n",
    "    train_matrix = train_df.pivot(index='user_id', columns='app_id', values='rating').fillna(0)\n",
    "    user_ids = train_matrix.index\n",
    "    app_ids = train_matrix.columns\n",
    "\n",
    "    # SVD\n",
    "    train_sparse = csr_matrix(train_matrix.values)\n",
    "    U, sigma, Vt = svds(train_sparse, k=k)\n",
    "    sigma = np.diag(sigma)\n",
    "    pred_matrix = np.dot(np.dot(U, sigma), Vt)\n",
    "    pred_df = pd.DataFrame(pred_matrix, index=user_ids, columns=app_ids)\n",
    "\n",
    "    # Already rated map\n",
    "    train_rated = train_df.groupby('user_id')['app_id'].apply(set).to_dict()\n",
    "\n",
    "    # Filter users and items present in both train and test\n",
    "    test_users_filtered = test_users_df[test_users_df['user_id'].isin(user_ids)]\n",
    "\n",
    "    # Generate top-K recommendations\n",
    "    top_recs = []\n",
    "    for user in test_users_filtered['user_id'].unique():\n",
    "        if user not in pred_df.index:\n",
    "            continue\n",
    "        user_pred = pred_df.loc[user]\n",
    "        rated_apps = train_rated.get(user, set())\n",
    "        recommendations = user_pred.drop(index=rated_apps, errors='ignore').sort_values(ascending=False).head(top_k)\n",
    "        for app_id, score in recommendations.items():\n",
    "            top_recs.append({'user_id': user, 'app_id': app_id, 'predicted_rating': score})\n",
    "\n",
    "    return pd.DataFrame(top_recs)\n",
    "\n",
    "def merge_with_category_on_app_id(recommendations_df, df_final):\n",
    "    df_final_subset = df_final[['app_id', 'category']].drop_duplicates()\n",
    "    merged_df = pd.merge(recommendations_df, df_final_subset, on='app_id', how='left')\n",
    "    return merged_df\n",
    "\n",
    "# Run SVD on each dataset, always test on df_final users\n",
    "for name, train_df in datasets.items():\n",
    "    print(f\"Training on {name}, generating top-25 recommendations for df_final users...\")\n",
    "    recs = train_and_recommend(train_df, df_final, k=50, top_k=25)\n",
    "    recs_with_category = merge_with_category_on_app_id(recs, df_final)\n",
    "\n",
    "    # Save to correct filename\n",
    "    filename = f\"../result/rec/top25_{name}_with_category.csv\"\n",
    "    recs_with_category.to_csv(filename, index=False)\n",
    "    print(f\"Saved: {filename}\")"
   ]
  },
  {
   "cell_type": "markdown",
   "metadata": {},
   "source": [
    "### Computing recommendation entropy per user, per dataset(all 6)"
   ]
  },
  {
   "cell_type": "code",
   "execution_count": 22,
   "metadata": {},
   "outputs": [
    {
     "name": "stdout",
     "output_type": "stream",
     "text": [
      "     user_id  cluster   entropy  RecEnt_final  RecEnt_240  RecEnt_528  \\\n",
      "0          1        2  2.809783      2.677950    2.619729    1.811208   \n",
      "25         2        2  3.066907      2.553455    0.661477    0.899564   \n",
      "50         3        2  3.063229      2.754332    2.243999    2.142310   \n",
      "75         4        2  3.409559      2.643428    2.456143    1.873357   \n",
      "100        5        2  3.427526      2.809783    2.698880    2.397922   \n",
      "\n",
      "     RecEnt_1056  \n",
      "0       0.958945  \n",
      "25      0.690457  \n",
      "50      1.356440  \n",
      "75      0.849269  \n",
      "100     1.241938  \n"
     ]
    }
   ],
   "source": [
    "import pandas as pd\n",
    "import os\n",
    "\n",
    "# Paths\n",
    "input_dir = '../result/rec'\n",
    "cluster_file = '../preprocessing/df_cluster.csv'\n",
    "df_cluster = pd.read_csv(cluster_file)\n",
    "\n",
    "# Recommendation suffixes\n",
    "suffixes = ['final', '240', '528', '1056']\n",
    "\n",
    "# Load and prepare entropy data\n",
    "entropy_dfs = {}\n",
    "for suffix in suffixes:\n",
    "    df = globals()[f'RecEnt_df_{suffix}'].rename(columns={\"recommendation_entropy\": f\"RecEnt_{suffix}\"})\n",
    "    entropy_dfs[suffix] = df[['user_id', f\"RecEnt_{suffix}\"]]\n",
    "\n",
    "# Merge all entropy values into one user-level dataframe\n",
    "merged_user_entropy = df_cluster.copy()\n",
    "for suffix in suffixes:\n",
    "    merged_user_entropy = merged_user_entropy.merge(entropy_dfs[suffix], on=\"user_id\", how=\"left\")\n",
    "\n",
    "# Save this clean user-level dataframe\n",
    "merged_user_entropy.to_csv('../result/rec/user_level_entropy_with_cluster.csv', index=False)\n",
    "\n",
    "# Now attach user-level info to each recommendation file\n",
    "merged_recs = []\n",
    "\n",
    "for suffix in suffixes:\n",
    "    rec_file = os.path.join(input_dir, f'top25_df_{suffix}_with_category.csv')\n",
    "    rec_df = pd.read_csv(rec_file)\n",
    "    \n",
    "    # Merge user-level info into recommendation-level file\n",
    "    rec_df = rec_df.merge(merged_user_entropy, on=\"user_id\", how=\"left\")\n",
    "    rec_df['source'] = suffix  # optional: track which recommendation version\n",
    "    merged_recs.append(rec_df)\n",
    "\n",
    "# Concatenate all into one final DataFrame\n",
    "full_merged_df = pd.concat(merged_recs, ignore_index=True)\n",
    "\n",
    "# Optional: reorder columns\n",
    "cols = ['user_id', 'item_id', 'category', 'cluster', 'entropy',\n",
    "        'RecEnt_final', 'RecEnt_240', 'RecEnt_528', 'RecEnt_1056', 'source']\n",
    "full_merged_df = full_merged_df[[c for c in cols if c in full_merged_df.columns]]\n",
    "\n",
    "# Save recommendation-level file (contains repetition — intended)\n",
    "full_merged_df.to_csv('../result/rec/merged_entropy_with_cluster.csv', index=False)\n",
    "\n",
    "# ✅ If needed: Deduplicated version of user-level info from rec data\n",
    "user_level_df = full_merged_df[[\n",
    "    'user_id', 'cluster', 'entropy',\n",
    "    'RecEnt_final', 'RecEnt_240', 'RecEnt_528', 'RecEnt_1056'\n",
    "]].drop_duplicates()\n",
    "\n",
    "user_level_df.to_csv('../result/rec/merged_entropy_with_cluster.csv', index=False)\n",
    "\n",
    "# Preview\n",
    "print(user_level_df.head())\n"
   ]
  },
  {
   "cell_type": "code",
   "execution_count": 19,
   "metadata": {},
   "outputs": [
    {
     "data": {
      "text/plain": [
       "user_id                   700111\n",
       "cluster                   700111\n",
       "entropy                   700111\n",
       "recommendation_entropy    700111\n",
       "dtype: int64"
      ]
     },
     "execution_count": 19,
     "metadata": {},
     "output_type": "execute_result"
    }
   ],
   "source": [
    "RecEnt_df_1056.count()"
   ]
  },
  {
   "cell_type": "code",
   "execution_count": 24,
   "metadata": {},
   "outputs": [
    {
     "name": "stdout",
     "output_type": "stream",
     "text": [
      "👥 Number of users per cluster:\n",
      "Cluster 0: 233371 users\n",
      "Cluster 1: 233370 users\n",
      "Cluster 2: 233370 users\n"
     ]
    }
   ],
   "source": [
    "# Count users per cluster\n",
    "cluster_counts = user_level_df['cluster'].value_counts().sort_index()\n",
    "\n",
    "# Print nicely\n",
    "print(\"👥 Number of users per cluster:\")\n",
    "for cluster_id, count in cluster_counts.items():\n",
    "    print(f\"Cluster {cluster_id}: {count} users\")\n"
   ]
  },
  {
   "cell_type": "markdown",
   "metadata": {},
   "source": [
    "## histogram"
   ]
  },
  {
   "cell_type": "code",
   "execution_count": 29,
   "metadata": {},
   "outputs": [
    {
     "name": "stderr",
     "output_type": "stream",
     "text": [
      "/tmp/ipykernel_1854085/1404551721.py:7: DtypeWarning: Columns (8) have mixed types. Specify dtype option on import or set low_memory=False.\n",
      "  df = pd.read_csv('../result/rec/merged_entropy_with_cluster.csv')\n"
     ]
    },
    {
     "name": "stdout",
     "output_type": "stream",
     "text": [
      "\n",
      "✅ All base entropy plots and text files saved successfully.\n"
     ]
    }
   ],
   "source": [
    "import numpy as np\n",
    "import matplotlib.pyplot as plt\n",
    "import os\n",
    "import pandas as pd\n",
    "\n",
    "# Load the updated dataset\n",
    "df = pd.read_csv('../result/rec/merged_entropy_with_cluster.csv')\n",
    "\n",
    "# Output folder for base entropy visualizations\n",
    "output_folder_base = '../result/rec/cluster_histograms/base'\n",
    "os.makedirs(output_folder_base, exist_ok=True)\n",
    "\n",
    "num_bins = 10\n",
    "\n",
    "# Base entropy set\n",
    "set_name = \"base\"\n",
    "entropy_columns = [\"RecEnt_final\", \"RecEnt_240\", \"RecEnt_528\", \"RecEnt_1056\"]\n",
    "\n",
    "for cluster_id in sorted(df[\"cluster\"].dropna().astype(int).unique()):\n",
    "    cluster_df = df[df[\"cluster\"] == cluster_id].sort_values(\"entropy\").reset_index(drop=True)\n",
    "    users_per_bin = max(1, len(cluster_df) // num_bins)\n",
    "\n",
    "    averages = {col: [] for col in entropy_columns}\n",
    "    counts = []\n",
    "    avg_entropy_per_bin = []\n",
    "\n",
    "    for i in range(num_bins):\n",
    "        start = i * users_per_bin\n",
    "        end = (i + 1) * users_per_bin if i < num_bins - 1 else len(cluster_df)\n",
    "        bin_df = cluster_df.iloc[start:end]\n",
    "        counts.append(len(bin_df))\n",
    "        avg_entropy_per_bin.append(bin_df[\"entropy\"].mean())\n",
    "        for col in entropy_columns:\n",
    "            averages[col].append(bin_df[col].mean())\n",
    "\n",
    "    # Plot\n",
    "    x = np.arange(num_bins)\n",
    "    width = 0.15\n",
    "\n",
    "    plt.figure(figsize=(16, 6))\n",
    "    for idx, col in enumerate(entropy_columns):\n",
    "        plt.bar(x + (idx - len(entropy_columns)/2) * width, averages[col], width=width, label=col)\n",
    "\n",
    "    plt.xlabel('User Bins (sorted by entropy)', fontsize=11)\n",
    "    plt.ylabel('Average Recommendation Entropy', fontsize=11)\n",
    "    plt.title(f'Cluster {cluster_id} - Entropy Across Bins ({set_name})', fontsize=13)\n",
    "    plt.xticks(x, [f'Bin {i+1}\\n({counts[i]})' for i in x], fontsize=10)\n",
    "    plt.yticks(fontsize=10)\n",
    "    plt.legend(fontsize=10)\n",
    "    plt.tight_layout()\n",
    "\n",
    "    # Save plot\n",
    "    filename = os.path.join(output_folder_base, f\"cluster_{cluster_id}_entropy_{set_name}.png\")\n",
    "    plt.savefig(filename)\n",
    "    plt.close()\n",
    "\n",
    "    # Save text file\n",
    "    text_output_path = os.path.join(output_folder_base, f\"cluster_{cluster_id}_entropy_{set_name}.txt\")\n",
    "    with open(text_output_path, 'w') as f:\n",
    "        f.write(f\"Cluster {cluster_id} - Average Entropy per Bin ({set_name})\\n\")\n",
    "        f.write(\"Bin\\tUserCount\\tRawEntropy\\t\" + \"\\t\".join(entropy_columns) + \"\\n\")\n",
    "        for i in range(num_bins):\n",
    "            f.write(f\"{i+1}\\t{counts[i]}\\t{avg_entropy_per_bin[i]:.4f}\\t\" +\n",
    "                    \"\\t\".join(f\"{averages[col][i]:.4f}\" for col in entropy_columns) + \"\\n\")\n",
    "\n",
    "print(\"\\n✅ All base entropy plots and text files saved successfully.\")\n"
   ]
  },
  {
   "cell_type": "code",
   "execution_count": null,
   "metadata": {},
   "outputs": [
    {
     "name": "stdout",
     "output_type": "stream",
     "text": [
      "\n",
      "📊 Average Entropy Values per Cluster:\n",
      "\n",
      "\n",
      "➡️ entropy (Mean per Cluster):\n",
      "  Cluster 0: 1.5666\n",
      "  Cluster 1: 1.9818\n",
      "  Cluster 2: 3.0335\n",
      "\n",
      "➡️ rec_entropy_final (Mean per Cluster):\n",
      "  Cluster 0: 2.6807\n",
      "  Cluster 1: 2.6829\n",
      "  Cluster 2: 2.6928\n",
      "\n",
      "➡️ rec_entropy_240 (Mean per Cluster):\n",
      "  Cluster 0: 1.8479\n",
      "  Cluster 1: 2.0584\n",
      "  Cluster 2: 2.2488\n",
      "\n",
      "➡️ rec_entropy_528 (Mean per Cluster):\n",
      "  Cluster 0: 0.9822\n",
      "  Cluster 1: 1.1587\n",
      "  Cluster 2: 1.5431\n",
      "\n",
      "➡️ rec_entropy_1056 (Mean per Cluster):\n",
      "  Cluster 0: 0.4456\n",
      "  Cluster 1: 0.5911\n",
      "  Cluster 2: 1.0723\n"
     ]
    }
   ],
   "source": [
    "import pandas as pd\n",
    "\n",
    "# === Load merged mobile dataset ===\n",
    "merged_df = pd.read_csv('../result/rec/merged_entropy_with_cluster.csv')\n",
    "\n",
    "# === Define columns to summarize ===\n",
    "rec_entropy_cols = ['rec_entropy_final', 'rec_entropy_240', 'rec_entropy_528', 'rec_entropy_1056']\n",
    "summary_cols = ['entropy'] + rec_entropy_cols\n",
    "\n",
    "# === Print average entropy per cluster ===\n",
    "print(\"\\n📊 Average Entropy Values per Cluster:\\n\")\n",
    "\n",
    "for col in summary_cols:\n",
    "    print(f\"\\n➡️ {col} (Mean per Cluster):\")\n",
    "    for cluster_id in sorted(merged_df['cluster'].dropna().astype(int).unique()):\n",
    "        cluster_data = merged_df[merged_df['cluster'] == cluster_id]\n",
    "        mean_val = cluster_data[col].mean()\n",
    "        print(f\"  Cluster {cluster_id}: {mean_val:.4f}\")\n"
   ]
  },
  {
   "cell_type": "code",
   "execution_count": null,
   "metadata": {},
   "outputs": [],
   "source": [
    "import pandas as pd\n",
    "\n",
    "# Load the dataset\n",
    "df = pd.read_csv('../result/rec/merged_entropy_with_cluster.csv')\n",
    "\n",
    "# Group by cluster and compute min and max entropy\n",
    "cluster_entropy_stats = df.groupby('cluster')['entropy'].agg(['min', 'max']).reset_index()\n",
    "\n",
    "# Print results\n",
    "for _, row in cluster_entropy_stats.iterrows():\n",
    "    print(f\"Cluster {int(row['cluster'])} → 🔻 Min entropy: {row['min']:.4f}, 🔺 Max entropy: {row['max']:.4f}\")\n"
   ]
  }
 ],
 "metadata": {
  "kernelspec": {
   "display_name": "base",
   "language": "python",
   "name": "python3"
  },
  "language_info": {
   "codemirror_mode": {
    "name": "ipython",
    "version": 3
   },
   "file_extension": ".py",
   "mimetype": "text/x-python",
   "name": "python",
   "nbconvert_exporter": "python",
   "pygments_lexer": "ipython3",
   "version": "3.9.13"
  }
 },
 "nbformat": 4,
 "nbformat_minor": 2
}

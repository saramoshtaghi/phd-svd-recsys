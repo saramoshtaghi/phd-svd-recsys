{
 "cells": [
  {
   "cell_type": "code",
   "execution_count": 1,
   "metadata": {},
   "outputs": [
    {
     "name": "stdout",
     "output_type": "stream",
     "text": [
      "Defaulting to user installation because normal site-packages is not writeable\n",
      "Requirement already satisfied: kagglehub in /Users/saramoshtaghi/Library/Python/3.9/lib/python/site-packages (0.3.12)\n",
      "Requirement already satisfied: packaging in /Users/saramoshtaghi/Library/Python/3.9/lib/python/site-packages (from kagglehub) (21.3)\n",
      "Requirement already satisfied: pyyaml in /Users/saramoshtaghi/Library/Python/3.9/lib/python/site-packages (from kagglehub) (6.0.2)\n",
      "Requirement already satisfied: requests in /Users/saramoshtaghi/Library/Python/3.9/lib/python/site-packages (from kagglehub) (2.32.3)\n",
      "Requirement already satisfied: tqdm in /Users/saramoshtaghi/Library/Python/3.9/lib/python/site-packages (from kagglehub) (4.66.6)\n",
      "Requirement already satisfied: pyparsing!=3.0.5,>=2.0.2 in /Users/saramoshtaghi/Library/Python/3.9/lib/python/site-packages (from packaging->kagglehub) (3.0.9)\n",
      "Requirement already satisfied: charset-normalizer<4,>=2 in /Users/saramoshtaghi/Library/Python/3.9/lib/python/site-packages (from requests->kagglehub) (3.4.0)\n",
      "Requirement already satisfied: idna<4,>=2.5 in /Users/saramoshtaghi/Library/Python/3.9/lib/python/site-packages (from requests->kagglehub) (3.10)\n",
      "Requirement already satisfied: urllib3<3,>=1.21.1 in /Users/saramoshtaghi/Library/Python/3.9/lib/python/site-packages (from requests->kagglehub) (2.2.3)\n",
      "Requirement already satisfied: certifi>=2017.4.17 in /Users/saramoshtaghi/Library/Python/3.9/lib/python/site-packages (from requests->kagglehub) (2024.8.30)\n",
      "\n",
      "\u001b[1m[\u001b[0m\u001b[34;49mnotice\u001b[0m\u001b[1;39;49m]\u001b[0m\u001b[39;49m A new release of pip is available: \u001b[0m\u001b[31;49m25.0.1\u001b[0m\u001b[39;49m -> \u001b[0m\u001b[32;49m25.1.1\u001b[0m\n",
      "\u001b[1m[\u001b[0m\u001b[34;49mnotice\u001b[0m\u001b[1;39;49m]\u001b[0m\u001b[39;49m To update, run: \u001b[0m\u001b[32;49m/Library/Developer/CommandLineTools/usr/bin/python3 -m pip install --upgrade pip\u001b[0m\n",
      "Note: you may need to restart the kernel to use updated packages.\n"
     ]
    }
   ],
   "source": [
    "pip install kagglehub"
   ]
  },
  {
   "cell_type": "code",
   "execution_count": 3,
   "metadata": {},
   "outputs": [
    {
     "name": "stdout",
     "output_type": "stream",
     "text": [
      "Downloaded to: /Users/saramoshtaghi/.cache/kagglehub/datasets/iamsumat/spotify-top-2000s-mega-dataset/versions/5\n",
      "Files inside downloaded folder: ['Spotify-2000.csv']\n",
      "All files successfully copied into: ./data/SpotufyTop2000s\n"
     ]
    }
   ],
   "source": [
    "import kagglehub\n",
    "import shutil\n",
    "import os\n",
    "\n",
    "# Download dataset\n",
    "path = kagglehub.dataset_download(\"iamsumat/spotify-top-2000s-mega-dataset\")\n",
    "print(\"Downloaded to:\", path)\n",
    "\n",
    "# Check what's inside path\n",
    "files = os.listdir(path)\n",
    "print(\"Files inside downloaded folder:\", files)\n",
    "\n",
    "# Create target directory if not exists\n",
    "target_path = './data/SpotufyTop2000s'\n",
    "os.makedirs(target_path, exist_ok=True)\n",
    "\n",
    "# Move all files (not the directory itself)\n",
    "for filename in files:\n",
    "    full_file_path = os.path.join(path, filename)\n",
    "    shutil.copy(full_file_path, target_path)\n",
    "\n",
    "print(\"All files successfully copied into:\", target_path)"
   ]
  },
  {
   "cell_type": "code",
   "execution_count": null,
   "metadata": {},
   "outputs": [
    {
     "name": "stdout",
     "output_type": "stream",
     "text": [
      "Total tracks: 1994\n",
      "Unique tracks: 1994\n",
      "Unique decades: 7\n",
      "Minimum popularity score: 11\n",
      "Maximum popularity score: 100\n",
      "\n",
      "Tracks per decade:\n",
      "   decade  track_count\n",
      "0    1950            9\n",
      "1    1960          158\n",
      "2    1970          353\n",
      "3    1980          344\n",
      "4    1990          331\n",
      "5    2000          400\n",
      "6    2010          399\n"
     ]
    }
   ],
   "source": [
    "import pandas as pd\n",
    "\n",
    "# Load the dataset\n",
    "df = pd.read_csv('../Spotify/data/SpotufyTop2000s/Spotify-2000.csv')\n",
    "\n",
    "# Extract the relevant columns\n",
    "df['decade'] = (df['Year'] // 10) * 10\n",
    "df = df[['Index', 'Title', 'Artist', 'Year', 'decade', 'Popularity']]\n",
    "\n",
    "# Count tracks per decade\n",
    "tracks_per_decade = df.groupby('decade')['Index'].count().reset_index(name='track_count')\n",
    "\n",
    "# Overall stats\n",
    "total_tracks = len(df)\n",
    "unique_tracks = df['Index'].nunique()\n",
    "unique_decades = df['decade'].nunique()\n",
    "\n",
    "# Popularity stats (treat as \"ratings\")\n",
    "min_popularity = df['Popularity'].min()\n",
    "max_popularity = df['Popularity'].max()\n",
    "\n",
    "# Print everything\n",
    "print(f\"Total tracks: {total_tracks}\")\n",
    "print(f\"Unique tracks: {unique_tracks}\")\n",
    "print(f\"Unique decades: {unique_decades}\")\n",
    "print(f\"Minimum popularity score: {min_popularity}\")\n",
    "print(f\"Maximum popularity score: {max_popularity}\")\n",
    "print(\"\\nTracks per decade:\")\n",
    "print(tracks_per_decade)"
   ]
  }
 ],
 "metadata": {
  "kernelspec": {
   "display_name": "Python 3",
   "language": "python",
   "name": "python3"
  },
  "language_info": {
   "codemirror_mode": {
    "name": "ipython",
    "version": 3
   },
   "file_extension": ".py",
   "mimetype": "text/x-python",
   "name": "python",
   "nbconvert_exporter": "python",
   "pygments_lexer": "ipython3",
   "version": "3.9.6"
  }
 },
 "nbformat": 4,
 "nbformat_minor": 2
}

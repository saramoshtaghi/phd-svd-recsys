{
 "cells": [
  {
   "cell_type": "markdown",
   "metadata": {},
   "source": [
    "https://github.com/zygmuntz/goodbooks-10k"
   ]
  },
  {
   "cell_type": "code",
   "execution_count": null,
   "metadata": {},
   "outputs": [],
   "source": [
    "pip install kaggle"
   ]
  },
  {
   "cell_type": "code",
   "execution_count": null,
   "metadata": {},
   "outputs": [],
   "source": [
    "pip install kagglehub"
   ]
  },
  {
   "cell_type": "code",
   "execution_count": null,
   "metadata": {},
   "outputs": [],
   "source": [
    "import os\n",
    "import pandas as pd"
   ]
  },
  {
   "cell_type": "code",
   "execution_count": 52,
   "metadata": {},
   "outputs": [
    {
     "name": "stdout",
     "output_type": "stream",
     "text": [
      "books.csv shape: (10000, 23)\n",
      "ratings.csv shape: (5976479, 3)\n",
      "to_read.csv shape: (912705, 2)\n",
      "book_tags.csv shape: (999912, 3)\n",
      "tags.csv shape: (34252, 2)\n",
      "\n",
      "Books sample:\n",
      "   book_id  goodreads_book_id  best_book_id  work_id  books_count       isbn  \\\n",
      "0        1            2767052       2767052  2792775          272  439023483   \n",
      "1        2                  3             3  4640799          491  439554934   \n",
      "2        3              41865         41865  3212258          226  316015849   \n",
      "3        4               2657          2657  3275794          487   61120081   \n",
      "4        5               4671          4671   245494         1356  743273567   \n",
      "\n",
      "         isbn13                      authors  original_publication_year  \\\n",
      "0  9.780439e+12              Suzanne Collins                     2008.0   \n",
      "1  9.780440e+12  J.K. Rowling, Mary GrandPré                     1997.0   \n",
      "2  9.780316e+12              Stephenie Meyer                     2005.0   \n",
      "3  9.780061e+12                   Harper Lee                     1960.0   \n",
      "4  9.780743e+12          F. Scott Fitzgerald                     1925.0   \n",
      "\n",
      "                             original_title  ... ratings_count  \\\n",
      "0                          The Hunger Games  ...       4780653   \n",
      "1  Harry Potter and the Philosopher's Stone  ...       4602479   \n",
      "2                                  Twilight  ...       3866839   \n",
      "3                     To Kill a Mockingbird  ...       3198671   \n",
      "4                          The Great Gatsby  ...       2683664   \n",
      "\n",
      "  work_ratings_count  work_text_reviews_count  ratings_1  ratings_2  \\\n",
      "0            4942365                   155254      66715     127936   \n",
      "1            4800065                    75867      75504     101676   \n",
      "2            3916824                    95009     456191     436802   \n",
      "3            3340896                    72586      60427     117415   \n",
      "4            2773745                    51992      86236     197621   \n",
      "\n",
      "   ratings_3  ratings_4  ratings_5  \\\n",
      "0     560092    1481305    2706317   \n",
      "1     455024    1156318    3011543   \n",
      "2     793319     875073    1355439   \n",
      "3     446835    1001952    1714267   \n",
      "4     606158     936012     947718   \n",
      "\n",
      "                                           image_url  \\\n",
      "0  https://images.gr-assets.com/books/1447303603m...   \n",
      "1  https://images.gr-assets.com/books/1474154022m...   \n",
      "2  https://images.gr-assets.com/books/1361039443m...   \n",
      "3  https://images.gr-assets.com/books/1361975680m...   \n",
      "4  https://images.gr-assets.com/books/1490528560m...   \n",
      "\n",
      "                                     small_image_url  \n",
      "0  https://images.gr-assets.com/books/1447303603s...  \n",
      "1  https://images.gr-assets.com/books/1474154022s...  \n",
      "2  https://images.gr-assets.com/books/1361039443s...  \n",
      "3  https://images.gr-assets.com/books/1361975680s...  \n",
      "4  https://images.gr-assets.com/books/1490528560s...  \n",
      "\n",
      "[5 rows x 23 columns]\n",
      "\n",
      "Ratings sample:\n",
      "   user_id  book_id  rating\n",
      "0        1      258       5\n",
      "1        2     4081       4\n",
      "2        2      260       5\n",
      "3        2     9296       5\n",
      "4        2     2318       3\n",
      "\n",
      "To-Read sample:\n",
      "   user_id  book_id\n",
      "0        9        8\n",
      "1       15      398\n",
      "2       15      275\n",
      "3       37     7173\n",
      "4       34      380\n",
      "\n",
      "Book Tags sample:\n",
      "   goodreads_book_id  tag_id   count\n",
      "0                  1   30574  167697\n",
      "1                  1   11305   37174\n",
      "2                  1   11557   34173\n",
      "3                  1    8717   12986\n",
      "4                  1   33114   12716\n",
      "\n",
      "Tags sample:\n",
      "   tag_id tag_name\n",
      "0       0        -\n",
      "1       1     --1-\n",
      "2       2    --10-\n",
      "3       3    --12-\n",
      "4       4   --122-\n"
     ]
    }
   ],
   "source": [
    "# Define your local data path\n",
    "data_path = '../data/goodbooks-10k'  # adjust path if needed\n",
    "\n",
    "# Load all available CSV files\n",
    "books = pd.read_csv(os.path.join(data_path, 'books.csv'))\n",
    "ratings = pd.read_csv(os.path.join(data_path, 'ratings.csv'))\n",
    "to_read = pd.read_csv(os.path.join(data_path, 'to_read.csv'))\n",
    "book_tags = pd.read_csv(os.path.join(data_path, 'book_tags.csv'))\n",
    "tags = pd.read_csv(os.path.join(data_path, 'tags.csv'))\n",
    "\n",
    "# Quick verification:\n",
    "print(f\"books.csv shape: {books.shape}\")\n",
    "print(f\"ratings.csv shape: {ratings.shape}\")\n",
    "print(f\"to_read.csv shape: {to_read.shape}\")\n",
    "print(f\"book_tags.csv shape: {book_tags.shape}\")\n",
    "print(f\"tags.csv shape: {tags.shape}\")\n",
    "\n",
    "# Preview few rows from each file:\n",
    "print(\"\\nBooks sample:\")\n",
    "print(books.head())\n",
    "\n",
    "print(\"\\nRatings sample:\")\n",
    "print(ratings.head())\n",
    "\n",
    "print(\"\\nTo-Read sample:\")\n",
    "print(to_read.head())\n",
    "\n",
    "print(\"\\nBook Tags sample:\")\n",
    "print(book_tags.head())\n",
    "\n",
    "print(\"\\nTags sample:\")\n",
    "print(tags.head())\n"
   ]
  },
  {
   "cell_type": "code",
   "execution_count": null,
   "metadata": {},
   "outputs": [],
   "source": [
    "# import pandas as pd\n",
    "# import os\n",
    "\n",
    "# # Load books.csv\n",
    "# data_path = '../data/goodbooks-10k'\n",
    "# books = pd.read_csv(os.path.join(data_path, 'books.csv'))\n",
    "\n",
    "# # Total number of books\n",
    "# total_books = len(books)\n",
    "\n",
    "# # Total number of unique languages (excluding NaN)\n",
    "# unique_languages = books['language_code'].nunique()\n",
    "\n",
    "# # Number of books with missing language_code\n",
    "# missing_languages = books['language_code'].isnull().sum()\n",
    "\n",
    "# # Count number of books per language\n",
    "# books_per_language = books['language_code'].value_counts()\n",
    "\n",
    "# # Full list of languages\n",
    "# languages_list = books['language_code'].dropna().unique()\n",
    "\n",
    "# # Print summary\n",
    "# print(f\"Total number of books: {total_books}\")\n",
    "# print(f\"Total unique languages: {unique_languages}\")\n",
    "# print(f\"Number of books missing language info: {missing_languages}\\n\")\n",
    "\n",
    "# print(\"Number of books per language:\")\n",
    "# print(books_per_language)\n",
    "\n",
    "# print(\"\\nList of languages:\")\n",
    "# print(languages_list)\n"
   ]
  },
  {
   "cell_type": "code",
   "execution_count": 53,
   "metadata": {},
   "outputs": [
    {
     "name": "stdout",
     "output_type": "stream",
     "text": [
      "Total books after cleaning: 9979\n"
     ]
    }
   ],
   "source": [
    "import pandas as pd\n",
    "import os\n",
    "\n",
    "# Load books.csv\n",
    "data_path = '../data/goodbooks-10k'\n",
    "books = pd.read_csv(os.path.join(data_path, 'books.csv'))\n",
    "\n",
    "# Drop books where publication year is missing\n",
    "books = books.dropna(subset=['original_publication_year'])\n",
    "\n",
    "# Convert year to integer for consistency\n",
    "books['original_publication_year'] = books['original_publication_year'].astype(int)\n",
    "\n",
    "# Verify\n",
    "print(f\"Total books after cleaning: {len(books)}\")\n",
    "\n",
    "# Save the cleaned dataframe (replacing the original file)\n",
    "books.to_csv(os.path.join(data_path, 'books.csv'), index=False)\n"
   ]
  },
  {
   "cell_type": "code",
   "execution_count": 54,
   "metadata": {},
   "outputs": [
    {
     "name": "stdout",
     "output_type": "stream",
     "text": [
      "Total books after cleaning: 9979\n",
      "\n",
      "Random sample of books:\n"
     ]
    },
    {
     "data": {
      "application/vnd.microsoft.datawrangler.viewer.v0+json": {
       "columns": [
        {
         "name": "index",
         "rawType": "int64",
         "type": "integer"
        },
        {
         "name": "book_id",
         "rawType": "int64",
         "type": "integer"
        },
        {
         "name": "goodreads_book_id",
         "rawType": "int64",
         "type": "integer"
        },
        {
         "name": "best_book_id",
         "rawType": "int64",
         "type": "integer"
        },
        {
         "name": "work_id",
         "rawType": "int64",
         "type": "integer"
        },
        {
         "name": "books_count",
         "rawType": "int64",
         "type": "integer"
        },
        {
         "name": "isbn",
         "rawType": "object",
         "type": "string"
        },
        {
         "name": "isbn13",
         "rawType": "float64",
         "type": "float"
        },
        {
         "name": "authors",
         "rawType": "object",
         "type": "string"
        },
        {
         "name": "original_publication_year",
         "rawType": "int64",
         "type": "integer"
        },
        {
         "name": "original_title",
         "rawType": "object",
         "type": "string"
        },
        {
         "name": "title",
         "rawType": "object",
         "type": "string"
        },
        {
         "name": "language_code",
         "rawType": "object",
         "type": "string"
        },
        {
         "name": "average_rating",
         "rawType": "float64",
         "type": "float"
        },
        {
         "name": "ratings_count",
         "rawType": "int64",
         "type": "integer"
        },
        {
         "name": "work_ratings_count",
         "rawType": "int64",
         "type": "integer"
        },
        {
         "name": "work_text_reviews_count",
         "rawType": "int64",
         "type": "integer"
        },
        {
         "name": "ratings_1",
         "rawType": "int64",
         "type": "integer"
        },
        {
         "name": "ratings_2",
         "rawType": "int64",
         "type": "integer"
        },
        {
         "name": "ratings_3",
         "rawType": "int64",
         "type": "integer"
        },
        {
         "name": "ratings_4",
         "rawType": "int64",
         "type": "integer"
        },
        {
         "name": "ratings_5",
         "rawType": "int64",
         "type": "integer"
        },
        {
         "name": "image_url",
         "rawType": "object",
         "type": "string"
        },
        {
         "name": "small_image_url",
         "rawType": "object",
         "type": "string"
        }
       ],
       "ref": "28fd537b-044b-4ea4-aa31-046abbe2799d",
       "rows": [
        [
         "0",
         "1",
         "2767052",
         "2767052",
         "2792775",
         "272",
         "439023483",
         "9780439023480.0",
         "Suzanne Collins",
         "2008",
         "The Hunger Games",
         "The Hunger Games (The Hunger Games, #1)",
         "eng",
         "4.34",
         "4780653",
         "4942365",
         "155254",
         "66715",
         "127936",
         "560092",
         "1481305",
         "2706317",
         "https://images.gr-assets.com/books/1447303603m/2767052.jpg",
         "https://images.gr-assets.com/books/1447303603s/2767052.jpg"
        ],
        [
         "1",
         "2",
         "3",
         "3",
         "4640799",
         "491",
         "439554934",
         "9780439554930.0",
         "J.K. Rowling, Mary GrandPré",
         "1997",
         "Harry Potter and the Philosopher's Stone",
         "Harry Potter and the Sorcerer's Stone (Harry Potter, #1)",
         "eng",
         "4.44",
         "4602479",
         "4800065",
         "75867",
         "75504",
         "101676",
         "455024",
         "1156318",
         "3011543",
         "https://images.gr-assets.com/books/1474154022m/3.jpg",
         "https://images.gr-assets.com/books/1474154022s/3.jpg"
        ],
        [
         "2",
         "3",
         "41865",
         "41865",
         "3212258",
         "226",
         "316015849",
         "9780316015840.0",
         "Stephenie Meyer",
         "2005",
         "Twilight",
         "Twilight (Twilight, #1)",
         "en-US",
         "3.57",
         "3866839",
         "3916824",
         "95009",
         "456191",
         "436802",
         "793319",
         "875073",
         "1355439",
         "https://images.gr-assets.com/books/1361039443m/41865.jpg",
         "https://images.gr-assets.com/books/1361039443s/41865.jpg"
        ],
        [
         "3",
         "4",
         "2657",
         "2657",
         "3275794",
         "487",
         "61120081",
         "9780061120080.0",
         "Harper Lee",
         "1960",
         "To Kill a Mockingbird",
         "To Kill a Mockingbird",
         "eng",
         "4.25",
         "3198671",
         "3340896",
         "72586",
         "60427",
         "117415",
         "446835",
         "1001952",
         "1714267",
         "https://images.gr-assets.com/books/1361975680m/2657.jpg",
         "https://images.gr-assets.com/books/1361975680s/2657.jpg"
        ],
        [
         "4",
         "5",
         "4671",
         "4671",
         "245494",
         "1356",
         "743273567",
         "9780743273560.0",
         "F. Scott Fitzgerald",
         "1925",
         "The Great Gatsby",
         "The Great Gatsby",
         "eng",
         "3.89",
         "2683664",
         "2773745",
         "51992",
         "86236",
         "197621",
         "606158",
         "936012",
         "947718",
         "https://images.gr-assets.com/books/1490528560m/4671.jpg",
         "https://images.gr-assets.com/books/1490528560s/4671.jpg"
        ],
        [
         "5",
         "6",
         "11870085",
         "11870085",
         "16827462",
         "226",
         "525478817",
         "9780525478810.0",
         "John Green",
         "2012",
         "The Fault in Our Stars",
         "The Fault in Our Stars",
         "eng",
         "4.26",
         "2346404",
         "2478609",
         "140739",
         "47994",
         "92723",
         "327550",
         "698471",
         "1311871",
         "https://images.gr-assets.com/books/1360206420m/11870085.jpg",
         "https://images.gr-assets.com/books/1360206420s/11870085.jpg"
        ],
        [
         "6",
         "7",
         "5907",
         "5907",
         "1540236",
         "969",
         "618260307",
         "9780618260300.0",
         "J.R.R. Tolkien",
         "1937",
         "The Hobbit or There and Back Again",
         "The Hobbit",
         "en-US",
         "4.25",
         "2071616",
         "2196809",
         "37653",
         "46023",
         "76784",
         "288649",
         "665635",
         "1119718",
         "https://images.gr-assets.com/books/1372847500m/5907.jpg",
         "https://images.gr-assets.com/books/1372847500s/5907.jpg"
        ],
        [
         "7",
         "8",
         "5107",
         "5107",
         "3036731",
         "360",
         "316769177",
         "9780316769170.0",
         "J.D. Salinger",
         "1951",
         "The Catcher in the Rye",
         "The Catcher in the Rye",
         "eng",
         "3.79",
         "2044241",
         "2120637",
         "44920",
         "109383",
         "185520",
         "455042",
         "661516",
         "709176",
         "https://images.gr-assets.com/books/1398034300m/5107.jpg",
         "https://images.gr-assets.com/books/1398034300s/5107.jpg"
        ],
        [
         "8",
         "9",
         "960",
         "960",
         "3338963",
         "311",
         "1416524797",
         "9781416524790.0",
         "Dan Brown",
         "2000",
         "Angels & Demons ",
         "Angels & Demons  (Robert Langdon, #1)",
         "en-CA",
         "3.85",
         "2001311",
         "2078754",
         "25112",
         "77841",
         "145740",
         "458429",
         "716569",
         "680175",
         "https://images.gr-assets.com/books/1303390735m/960.jpg",
         "https://images.gr-assets.com/books/1303390735s/960.jpg"
        ],
        [
         "9",
         "10",
         "1885",
         "1885",
         "3060926",
         "3455",
         "679783261",
         "9780679783270.0",
         "Jane Austen",
         "1813",
         "Pride and Prejudice",
         "Pride and Prejudice",
         "eng",
         "4.24",
         "2035490",
         "2191465",
         "49152",
         "54700",
         "86485",
         "284852",
         "609755",
         "1155673",
         "https://images.gr-assets.com/books/1320399351m/1885.jpg",
         "https://images.gr-assets.com/books/1320399351s/1885.jpg"
        ]
       ],
       "shape": {
        "columns": 23,
        "rows": 10
       }
      },
      "text/html": [
       "<div>\n",
       "<style scoped>\n",
       "    .dataframe tbody tr th:only-of-type {\n",
       "        vertical-align: middle;\n",
       "    }\n",
       "\n",
       "    .dataframe tbody tr th {\n",
       "        vertical-align: top;\n",
       "    }\n",
       "\n",
       "    .dataframe thead th {\n",
       "        text-align: right;\n",
       "    }\n",
       "</style>\n",
       "<table border=\"1\" class=\"dataframe\">\n",
       "  <thead>\n",
       "    <tr style=\"text-align: right;\">\n",
       "      <th></th>\n",
       "      <th>book_id</th>\n",
       "      <th>goodreads_book_id</th>\n",
       "      <th>best_book_id</th>\n",
       "      <th>work_id</th>\n",
       "      <th>books_count</th>\n",
       "      <th>isbn</th>\n",
       "      <th>isbn13</th>\n",
       "      <th>authors</th>\n",
       "      <th>original_publication_year</th>\n",
       "      <th>original_title</th>\n",
       "      <th>...</th>\n",
       "      <th>ratings_count</th>\n",
       "      <th>work_ratings_count</th>\n",
       "      <th>work_text_reviews_count</th>\n",
       "      <th>ratings_1</th>\n",
       "      <th>ratings_2</th>\n",
       "      <th>ratings_3</th>\n",
       "      <th>ratings_4</th>\n",
       "      <th>ratings_5</th>\n",
       "      <th>image_url</th>\n",
       "      <th>small_image_url</th>\n",
       "    </tr>\n",
       "  </thead>\n",
       "  <tbody>\n",
       "    <tr>\n",
       "      <th>0</th>\n",
       "      <td>1</td>\n",
       "      <td>2767052</td>\n",
       "      <td>2767052</td>\n",
       "      <td>2792775</td>\n",
       "      <td>272</td>\n",
       "      <td>439023483</td>\n",
       "      <td>9.780439e+12</td>\n",
       "      <td>Suzanne Collins</td>\n",
       "      <td>2008</td>\n",
       "      <td>The Hunger Games</td>\n",
       "      <td>...</td>\n",
       "      <td>4780653</td>\n",
       "      <td>4942365</td>\n",
       "      <td>155254</td>\n",
       "      <td>66715</td>\n",
       "      <td>127936</td>\n",
       "      <td>560092</td>\n",
       "      <td>1481305</td>\n",
       "      <td>2706317</td>\n",
       "      <td>https://images.gr-assets.com/books/1447303603m...</td>\n",
       "      <td>https://images.gr-assets.com/books/1447303603s...</td>\n",
       "    </tr>\n",
       "    <tr>\n",
       "      <th>1</th>\n",
       "      <td>2</td>\n",
       "      <td>3</td>\n",
       "      <td>3</td>\n",
       "      <td>4640799</td>\n",
       "      <td>491</td>\n",
       "      <td>439554934</td>\n",
       "      <td>9.780440e+12</td>\n",
       "      <td>J.K. Rowling, Mary GrandPré</td>\n",
       "      <td>1997</td>\n",
       "      <td>Harry Potter and the Philosopher's Stone</td>\n",
       "      <td>...</td>\n",
       "      <td>4602479</td>\n",
       "      <td>4800065</td>\n",
       "      <td>75867</td>\n",
       "      <td>75504</td>\n",
       "      <td>101676</td>\n",
       "      <td>455024</td>\n",
       "      <td>1156318</td>\n",
       "      <td>3011543</td>\n",
       "      <td>https://images.gr-assets.com/books/1474154022m...</td>\n",
       "      <td>https://images.gr-assets.com/books/1474154022s...</td>\n",
       "    </tr>\n",
       "    <tr>\n",
       "      <th>2</th>\n",
       "      <td>3</td>\n",
       "      <td>41865</td>\n",
       "      <td>41865</td>\n",
       "      <td>3212258</td>\n",
       "      <td>226</td>\n",
       "      <td>316015849</td>\n",
       "      <td>9.780316e+12</td>\n",
       "      <td>Stephenie Meyer</td>\n",
       "      <td>2005</td>\n",
       "      <td>Twilight</td>\n",
       "      <td>...</td>\n",
       "      <td>3866839</td>\n",
       "      <td>3916824</td>\n",
       "      <td>95009</td>\n",
       "      <td>456191</td>\n",
       "      <td>436802</td>\n",
       "      <td>793319</td>\n",
       "      <td>875073</td>\n",
       "      <td>1355439</td>\n",
       "      <td>https://images.gr-assets.com/books/1361039443m...</td>\n",
       "      <td>https://images.gr-assets.com/books/1361039443s...</td>\n",
       "    </tr>\n",
       "    <tr>\n",
       "      <th>3</th>\n",
       "      <td>4</td>\n",
       "      <td>2657</td>\n",
       "      <td>2657</td>\n",
       "      <td>3275794</td>\n",
       "      <td>487</td>\n",
       "      <td>61120081</td>\n",
       "      <td>9.780061e+12</td>\n",
       "      <td>Harper Lee</td>\n",
       "      <td>1960</td>\n",
       "      <td>To Kill a Mockingbird</td>\n",
       "      <td>...</td>\n",
       "      <td>3198671</td>\n",
       "      <td>3340896</td>\n",
       "      <td>72586</td>\n",
       "      <td>60427</td>\n",
       "      <td>117415</td>\n",
       "      <td>446835</td>\n",
       "      <td>1001952</td>\n",
       "      <td>1714267</td>\n",
       "      <td>https://images.gr-assets.com/books/1361975680m...</td>\n",
       "      <td>https://images.gr-assets.com/books/1361975680s...</td>\n",
       "    </tr>\n",
       "    <tr>\n",
       "      <th>4</th>\n",
       "      <td>5</td>\n",
       "      <td>4671</td>\n",
       "      <td>4671</td>\n",
       "      <td>245494</td>\n",
       "      <td>1356</td>\n",
       "      <td>743273567</td>\n",
       "      <td>9.780743e+12</td>\n",
       "      <td>F. Scott Fitzgerald</td>\n",
       "      <td>1925</td>\n",
       "      <td>The Great Gatsby</td>\n",
       "      <td>...</td>\n",
       "      <td>2683664</td>\n",
       "      <td>2773745</td>\n",
       "      <td>51992</td>\n",
       "      <td>86236</td>\n",
       "      <td>197621</td>\n",
       "      <td>606158</td>\n",
       "      <td>936012</td>\n",
       "      <td>947718</td>\n",
       "      <td>https://images.gr-assets.com/books/1490528560m...</td>\n",
       "      <td>https://images.gr-assets.com/books/1490528560s...</td>\n",
       "    </tr>\n",
       "    <tr>\n",
       "      <th>5</th>\n",
       "      <td>6</td>\n",
       "      <td>11870085</td>\n",
       "      <td>11870085</td>\n",
       "      <td>16827462</td>\n",
       "      <td>226</td>\n",
       "      <td>525478817</td>\n",
       "      <td>9.780525e+12</td>\n",
       "      <td>John Green</td>\n",
       "      <td>2012</td>\n",
       "      <td>The Fault in Our Stars</td>\n",
       "      <td>...</td>\n",
       "      <td>2346404</td>\n",
       "      <td>2478609</td>\n",
       "      <td>140739</td>\n",
       "      <td>47994</td>\n",
       "      <td>92723</td>\n",
       "      <td>327550</td>\n",
       "      <td>698471</td>\n",
       "      <td>1311871</td>\n",
       "      <td>https://images.gr-assets.com/books/1360206420m...</td>\n",
       "      <td>https://images.gr-assets.com/books/1360206420s...</td>\n",
       "    </tr>\n",
       "    <tr>\n",
       "      <th>6</th>\n",
       "      <td>7</td>\n",
       "      <td>5907</td>\n",
       "      <td>5907</td>\n",
       "      <td>1540236</td>\n",
       "      <td>969</td>\n",
       "      <td>618260307</td>\n",
       "      <td>9.780618e+12</td>\n",
       "      <td>J.R.R. Tolkien</td>\n",
       "      <td>1937</td>\n",
       "      <td>The Hobbit or There and Back Again</td>\n",
       "      <td>...</td>\n",
       "      <td>2071616</td>\n",
       "      <td>2196809</td>\n",
       "      <td>37653</td>\n",
       "      <td>46023</td>\n",
       "      <td>76784</td>\n",
       "      <td>288649</td>\n",
       "      <td>665635</td>\n",
       "      <td>1119718</td>\n",
       "      <td>https://images.gr-assets.com/books/1372847500m...</td>\n",
       "      <td>https://images.gr-assets.com/books/1372847500s...</td>\n",
       "    </tr>\n",
       "    <tr>\n",
       "      <th>7</th>\n",
       "      <td>8</td>\n",
       "      <td>5107</td>\n",
       "      <td>5107</td>\n",
       "      <td>3036731</td>\n",
       "      <td>360</td>\n",
       "      <td>316769177</td>\n",
       "      <td>9.780317e+12</td>\n",
       "      <td>J.D. Salinger</td>\n",
       "      <td>1951</td>\n",
       "      <td>The Catcher in the Rye</td>\n",
       "      <td>...</td>\n",
       "      <td>2044241</td>\n",
       "      <td>2120637</td>\n",
       "      <td>44920</td>\n",
       "      <td>109383</td>\n",
       "      <td>185520</td>\n",
       "      <td>455042</td>\n",
       "      <td>661516</td>\n",
       "      <td>709176</td>\n",
       "      <td>https://images.gr-assets.com/books/1398034300m...</td>\n",
       "      <td>https://images.gr-assets.com/books/1398034300s...</td>\n",
       "    </tr>\n",
       "    <tr>\n",
       "      <th>8</th>\n",
       "      <td>9</td>\n",
       "      <td>960</td>\n",
       "      <td>960</td>\n",
       "      <td>3338963</td>\n",
       "      <td>311</td>\n",
       "      <td>1416524797</td>\n",
       "      <td>9.781417e+12</td>\n",
       "      <td>Dan Brown</td>\n",
       "      <td>2000</td>\n",
       "      <td>Angels &amp; Demons</td>\n",
       "      <td>...</td>\n",
       "      <td>2001311</td>\n",
       "      <td>2078754</td>\n",
       "      <td>25112</td>\n",
       "      <td>77841</td>\n",
       "      <td>145740</td>\n",
       "      <td>458429</td>\n",
       "      <td>716569</td>\n",
       "      <td>680175</td>\n",
       "      <td>https://images.gr-assets.com/books/1303390735m...</td>\n",
       "      <td>https://images.gr-assets.com/books/1303390735s...</td>\n",
       "    </tr>\n",
       "    <tr>\n",
       "      <th>9</th>\n",
       "      <td>10</td>\n",
       "      <td>1885</td>\n",
       "      <td>1885</td>\n",
       "      <td>3060926</td>\n",
       "      <td>3455</td>\n",
       "      <td>679783261</td>\n",
       "      <td>9.780680e+12</td>\n",
       "      <td>Jane Austen</td>\n",
       "      <td>1813</td>\n",
       "      <td>Pride and Prejudice</td>\n",
       "      <td>...</td>\n",
       "      <td>2035490</td>\n",
       "      <td>2191465</td>\n",
       "      <td>49152</td>\n",
       "      <td>54700</td>\n",
       "      <td>86485</td>\n",
       "      <td>284852</td>\n",
       "      <td>609755</td>\n",
       "      <td>1155673</td>\n",
       "      <td>https://images.gr-assets.com/books/1320399351m...</td>\n",
       "      <td>https://images.gr-assets.com/books/1320399351s...</td>\n",
       "    </tr>\n",
       "  </tbody>\n",
       "</table>\n",
       "<p>10 rows × 23 columns</p>\n",
       "</div>"
      ],
      "text/plain": [
       "   book_id  goodreads_book_id  best_book_id   work_id  books_count  \\\n",
       "0        1            2767052       2767052   2792775          272   \n",
       "1        2                  3             3   4640799          491   \n",
       "2        3              41865         41865   3212258          226   \n",
       "3        4               2657          2657   3275794          487   \n",
       "4        5               4671          4671    245494         1356   \n",
       "5        6           11870085      11870085  16827462          226   \n",
       "6        7               5907          5907   1540236          969   \n",
       "7        8               5107          5107   3036731          360   \n",
       "8        9                960           960   3338963          311   \n",
       "9       10               1885          1885   3060926         3455   \n",
       "\n",
       "         isbn        isbn13                      authors  \\\n",
       "0   439023483  9.780439e+12              Suzanne Collins   \n",
       "1   439554934  9.780440e+12  J.K. Rowling, Mary GrandPré   \n",
       "2   316015849  9.780316e+12              Stephenie Meyer   \n",
       "3    61120081  9.780061e+12                   Harper Lee   \n",
       "4   743273567  9.780743e+12          F. Scott Fitzgerald   \n",
       "5   525478817  9.780525e+12                   John Green   \n",
       "6   618260307  9.780618e+12               J.R.R. Tolkien   \n",
       "7   316769177  9.780317e+12                J.D. Salinger   \n",
       "8  1416524797  9.781417e+12                    Dan Brown   \n",
       "9   679783261  9.780680e+12                  Jane Austen   \n",
       "\n",
       "   original_publication_year                            original_title  ...  \\\n",
       "0                       2008                          The Hunger Games  ...   \n",
       "1                       1997  Harry Potter and the Philosopher's Stone  ...   \n",
       "2                       2005                                  Twilight  ...   \n",
       "3                       1960                     To Kill a Mockingbird  ...   \n",
       "4                       1925                          The Great Gatsby  ...   \n",
       "5                       2012                    The Fault in Our Stars  ...   \n",
       "6                       1937        The Hobbit or There and Back Again  ...   \n",
       "7                       1951                    The Catcher in the Rye  ...   \n",
       "8                       2000                          Angels & Demons   ...   \n",
       "9                       1813                       Pride and Prejudice  ...   \n",
       "\n",
       "  ratings_count work_ratings_count  work_text_reviews_count  ratings_1  \\\n",
       "0       4780653            4942365                   155254      66715   \n",
       "1       4602479            4800065                    75867      75504   \n",
       "2       3866839            3916824                    95009     456191   \n",
       "3       3198671            3340896                    72586      60427   \n",
       "4       2683664            2773745                    51992      86236   \n",
       "5       2346404            2478609                   140739      47994   \n",
       "6       2071616            2196809                    37653      46023   \n",
       "7       2044241            2120637                    44920     109383   \n",
       "8       2001311            2078754                    25112      77841   \n",
       "9       2035490            2191465                    49152      54700   \n",
       "\n",
       "   ratings_2  ratings_3  ratings_4  ratings_5  \\\n",
       "0     127936     560092    1481305    2706317   \n",
       "1     101676     455024    1156318    3011543   \n",
       "2     436802     793319     875073    1355439   \n",
       "3     117415     446835    1001952    1714267   \n",
       "4     197621     606158     936012     947718   \n",
       "5      92723     327550     698471    1311871   \n",
       "6      76784     288649     665635    1119718   \n",
       "7     185520     455042     661516     709176   \n",
       "8     145740     458429     716569     680175   \n",
       "9      86485     284852     609755    1155673   \n",
       "\n",
       "                                           image_url  \\\n",
       "0  https://images.gr-assets.com/books/1447303603m...   \n",
       "1  https://images.gr-assets.com/books/1474154022m...   \n",
       "2  https://images.gr-assets.com/books/1361039443m...   \n",
       "3  https://images.gr-assets.com/books/1361975680m...   \n",
       "4  https://images.gr-assets.com/books/1490528560m...   \n",
       "5  https://images.gr-assets.com/books/1360206420m...   \n",
       "6  https://images.gr-assets.com/books/1372847500m...   \n",
       "7  https://images.gr-assets.com/books/1398034300m...   \n",
       "8  https://images.gr-assets.com/books/1303390735m...   \n",
       "9  https://images.gr-assets.com/books/1320399351m...   \n",
       "\n",
       "                                     small_image_url  \n",
       "0  https://images.gr-assets.com/books/1447303603s...  \n",
       "1  https://images.gr-assets.com/books/1474154022s...  \n",
       "2  https://images.gr-assets.com/books/1361039443s...  \n",
       "3  https://images.gr-assets.com/books/1361975680s...  \n",
       "4  https://images.gr-assets.com/books/1490528560s...  \n",
       "5  https://images.gr-assets.com/books/1360206420s...  \n",
       "6  https://images.gr-assets.com/books/1372847500s...  \n",
       "7  https://images.gr-assets.com/books/1398034300s...  \n",
       "8  https://images.gr-assets.com/books/1303390735s...  \n",
       "9  https://images.gr-assets.com/books/1320399351s...  \n",
       "\n",
       "[10 rows x 23 columns]"
      ]
     },
     "execution_count": 54,
     "metadata": {},
     "output_type": "execute_result"
    }
   ],
   "source": [
    "import pandas as pd\n",
    "\n",
    "# Load books.csv\n",
    "books = pd.read_csv('../data/goodbooks-10k/books.csv')\n",
    "\n",
    "# Drop rows where publication year is missing\n",
    "books = books.dropna(subset=['original_publication_year'])\n",
    "\n",
    "# Convert publication year to integer\n",
    "books['original_publication_year'] = books['original_publication_year'].astype(int)\n",
    "\n",
    "# Save the cleaned data (overwrite the file)\n",
    "books.to_csv('books.csv', index=False)\n",
    "\n",
    "# Print result\n",
    "print(f\"Total books after cleaning: {len(books)}\")\n",
    "\n",
    "# Show a random sample\n",
    "print(\"\\nRandom sample of books:\")\n",
    "books.head(10)\n"
   ]
  },
  {
   "cell_type": "code",
   "execution_count": 55,
   "metadata": {},
   "outputs": [
    {
     "name": "stdout",
     "output_type": "stream",
     "text": [
      "['Nausea' 'Being and Nothingness' 'No Exit and Three Other Plays'\n",
      " 'No Exit' 'The Wall' 'Existentialism Is a Humanism'\n",
      " 'The Wretched of the Earth']\n"
     ]
    }
   ],
   "source": [
    "import pandas as pd\n",
    "\n",
    "# Load the books.csv file\n",
    "data_path = '../data/goodbooks-10k'\n",
    "books = pd.read_csv(os.path.join(data_path, 'books.csv'))\n",
    "\n",
    "# Define common variations of J.K. Rowling's name\n",
    "name_variations = [ 'sartre', 'sarter']\n",
    "\n",
    "# Combine into a regex pattern for case-insensitive search\n",
    "pattern = '|'.join(name_variations)\n",
    "\n",
    "# Search for rows where the 'author' column contains any of the variations\n",
    "rowling_books = books[books['authors'].str.lower().str.contains(pattern, na=False)]\n",
    "\n",
    "# Display result\n",
    "print(rowling_books['title'].unique())"
   ]
  },
  {
   "cell_type": "code",
   "execution_count": 56,
   "metadata": {},
   "outputs": [
    {
     "name": "stdout",
     "output_type": "stream",
     "text": [
      "Number of unique authors: 4653\n"
     ]
    }
   ],
   "source": [
    "import pandas as pd\n",
    "import os\n",
    "\n",
    "# Load the books.csv file\n",
    "data_path = '../data/goodbooks-10k'\n",
    "books = pd.read_csv(os.path.join(data_path, 'books.csv'))\n",
    "\n",
    "# Count unique authors\n",
    "unique_authors = books['authors'].nunique()\n",
    "\n",
    "# Print the count\n",
    "print(f\"Number of unique authors: {unique_authors}\")\n"
   ]
  },
  {
   "cell_type": "code",
   "execution_count": 46,
   "metadata": {},
   "outputs": [
    {
     "name": "stdout",
     "output_type": "stream",
     "text": [
      "6148       عقاید یک دلقک\n",
      "6759        رباعيات خيام\n",
      "7469              سینوهه\n",
      "7623       درخت زیبای من\n",
      "8319    ماهی سیاه کوچولو\n",
      "8864       سمفونی مردگان\n",
      "9837            هشت کتاب\n",
      "Name: title, dtype: object\n"
     ]
    }
   ],
   "source": [
    "# Define Persian language variations\n",
    "persian_lang_variants = ['per', 'persian', 'fa']\n",
    "\n",
    "# Filter rows where language column matches any variant (case-insensitive)\n",
    "persian_books = books[books['language_code'].str.lower().isin(persian_lang_variants)]\n",
    "# Show only the book titles\n",
    "print(persian_books['title'])"
   ]
  },
  {
   "cell_type": "code",
   "execution_count": 58,
   "metadata": {},
   "outputs": [
    {
     "name": "stdout",
     "output_type": "stream",
     "text": [
      "Unique book IDs in ratings.csv: 10000\n",
      "Unique book IDs in books.csv: 9979\n"
     ]
    }
   ],
   "source": [
    "# Total unique book IDs in ratings file\n",
    "total_unique_books_in_ratings = ratings['book_id'].nunique()\n",
    "\n",
    "# Total unique book IDs in books file (metadata)\n",
    "total_unique_books_in_books = books['book_id'].nunique()\n",
    "\n",
    "print(f\"Unique book IDs in ratings.csv: {total_unique_books_in_ratings}\")\n",
    "print(f\"Unique book IDs in books.csv: {total_unique_books_in_books}\")\n"
   ]
  },
  {
   "cell_type": "code",
   "execution_count": 59,
   "metadata": {},
   "outputs": [
    {
     "name": "stdout",
     "output_type": "stream",
     "text": [
      "Number of titles with multiple publication years: 33\n",
      "\n",
      "Title: 'Salem's Lot\n",
      "Years: [1975, 2005]\n",
      "\n",
      "Title: Anatomy for the Artist\n",
      "Years: [1953, 2001]\n",
      "\n",
      "Title: Arcadia\n",
      "Years: [1993, 2012]\n",
      "\n",
      "Title: Are You My Mother?\n",
      "Years: [1960, 2012]\n",
      "\n",
      "Title: Bambi\n",
      "Years: [1923, 1941]\n",
      "\n",
      "Title: Between the Lines (Between the Lines, #1)\n",
      "Years: [2011, 2012]\n",
      "\n",
      "Title: Invisible\n",
      "Years: [2009, 2014]\n",
      "\n",
      "Title: Leviathan\n",
      "Years: [1651, 1992]\n",
      "\n",
      "Title: Monster\n",
      "Years: [1999, 2005]\n",
      "\n",
      "Title: One Flew Over the Cuckoo's Nest\n",
      "Years: [1962, 1970]\n"
     ]
    }
   ],
   "source": [
    "# Group by title and collect all unique years per title\n",
    "title_years = books.groupby('title')['original_publication_year'].unique()\n",
    "\n",
    "# Filter only titles that have more than 1 unique year\n",
    "multiple_year_titles = title_years[title_years.apply(lambda x: len(x) > 1)]\n",
    "\n",
    "# Print count\n",
    "print(f\"Number of titles with multiple publication years: {len(multiple_year_titles)}\")\n",
    "\n",
    "# Print sample (first 10 titles)\n",
    "for title, years in multiple_year_titles.head(10).items():\n",
    "    print(f\"\\nTitle: {title}\")\n",
    "    print(f\"Years: {sorted(years)}\")\n",
    "\n",
    "# Total unique book IDs in ratings file\n",
    "total_unique_books_in_ratings = ratings['book_id'].nunique()\n",
    "\n",
    "# Total unique book IDs in books file (metadata)\n",
    "total_unique_books_in_books = books['book_id'].nunique()\n",
    "\n"
   ]
  },
  {
   "cell_type": "code",
   "execution_count": 60,
   "metadata": {},
   "outputs": [
    {
     "name": "stdout",
     "output_type": "stream",
     "text": [
      "Sum of total ratings from summary: 5970537\n",
      "Total number of ratings from ratings.csv: 5976479\n",
      "Unique books per decade and total ratings:\n",
      "    decade  unique_books  total_ratings\n",
      "0    -1750             1            730\n",
      "1     -770             1            756\n",
      "2     -750             2           3944\n",
      "3     -720             1           6301\n",
      "4     -560             1           1548\n",
      "..     ...           ...            ...\n",
      "78    1970           400         244194\n",
      "79    1980           704         443368\n",
      "80    1990          1360         847948\n",
      "81    2000          3121        1808808\n",
      "82    2010          3067        1268418\n",
      "\n",
      "[83 rows x 3 columns]\n"
     ]
    }
   ],
   "source": [
    "import pandas as pd\n",
    "import os\n",
    "\n",
    "# Load data\n",
    "data_path = '../data/goodbooks-10k'\n",
    "books = pd.read_csv(f\"{data_path}/books.csv\")\n",
    "ratings = pd.read_csv(f\"{data_path}/ratings.csv\")\n",
    "\n",
    "# Create decade column and merge\n",
    "books['decade'] = (books['original_publication_year'] // 10) * 10\n",
    "merged_df = ratings.merge(books[['book_id', 'decade']], on='book_id')\n",
    "\n",
    "# Groupby decade: count unique books & total ratings\n",
    "summary = merged_df.groupby('decade').agg(\n",
    "    unique_books=('book_id', 'nunique'),\n",
    "    total_ratings=('rating', 'count')\n",
    ").reset_index().sort_values('decade')\n",
    "\n",
    "total_ratings_sum = summary['total_ratings'].sum()\n",
    "print(f\"Sum of total ratings from summary: {total_ratings_sum}\")\n",
    "\n",
    "total_ratings_actual = len(ratings)\n",
    "print(f\"Total number of ratings from ratings.csv: {total_ratings_actual}\")\n",
    "\n",
    "\n",
    "# Print results\n",
    "print(\"Unique books per decade and total ratings:\")\n",
    "print(summary)\n"
   ]
  },
  {
   "cell_type": "code",
   "execution_count": 51,
   "metadata": {},
   "outputs": [
    {
     "name": "stdout",
     "output_type": "stream",
     "text": [
      "Number of book_ids in ratings.csv not found in books.csv: 0\n"
     ]
    }
   ],
   "source": [
    "# How many unique book_ids exist in ratings but not in books\n",
    "missing_books = set(ratings['book_id']) - set(books['book_id'])\n",
    "print(f\"Number of book_ids in ratings.csv not found in books.csv: {len(missing_books)}\")"
   ]
  },
  {
   "cell_type": "code",
   "execution_count": 61,
   "metadata": {},
   "outputs": [
    {
     "name": "stdout",
     "output_type": "stream",
     "text": [
      "Missing ratings count (from missing book_ids): 5942\n",
      "Gap between ratings.csv and merged summary: 5942\n",
      "Does it match? ✅ YES\n"
     ]
    }
   ],
   "source": [
    "import pandas as pd\n",
    "import os\n",
    "\n",
    "# Load data\n",
    "data_path = '../data/goodbooks-10k'\n",
    "books = pd.read_csv(os.path.join(data_path, 'books.csv'))\n",
    "ratings = pd.read_csv(os.path.join(data_path, 'ratings.csv'))\n",
    "\n",
    "# Find book_ids that exist in ratings but not in books\n",
    "book_ids_in_books = set(books['book_id'])\n",
    "book_ids_in_ratings = set(ratings['book_id'])\n",
    "missing_book_ids = book_ids_in_ratings - book_ids_in_books\n",
    "\n",
    "# Get ratings corresponding to missing book_ids\n",
    "missing_ratings = ratings[ratings['book_id'].isin(missing_book_ids)]\n",
    "\n",
    "# Count how many ratings are missing\n",
    "missing_ratings_count = len(missing_ratings)\n",
    "\n",
    "print(f\"Missing ratings count (from missing book_ids): {missing_ratings_count}\")\n",
    "\n",
    "# Compare with gap\n",
    "total_ratings = len(ratings)\n",
    "ratings_after_merge = 5970537  # This is your merged sum above\n",
    "gap = total_ratings - ratings_after_merge\n",
    "\n",
    "print(f\"Gap between ratings.csv and merged summary: {gap}\")\n",
    "print(f\"Does it match? {'✅ YES' if gap == missing_ratings_count else '❌ NO'}\")\n"
   ]
  },
  {
   "cell_type": "code",
   "execution_count": 62,
   "metadata": {},
   "outputs": [
    {
     "name": "stdout",
     "output_type": "stream",
     "text": [
      "Total unique books: 9979\n"
     ]
    }
   ],
   "source": [
    "total_books = books['book_id'].nunique()\n",
    "print(f\"Total unique books: {total_books}\")"
   ]
  },
  {
   "cell_type": "code",
   "execution_count": 31,
   "metadata": {},
   "outputs": [
    {
     "name": "stdout",
     "output_type": "stream",
     "text": [
      "Total ratings: 5976479\n"
     ]
    }
   ],
   "source": [
    "total_ratings = len(ratings)\n",
    "print(f\"Total ratings: {total_ratings}\")"
   ]
  },
  {
   "cell_type": "code",
   "execution_count": 63,
   "metadata": {},
   "outputs": [
    {
     "name": "stdout",
     "output_type": "stream",
     "text": [
      "Books per decade:\n",
      "    decade  unique_books\n",
      "0    -1750             1\n",
      "1     -770             1\n",
      "2     -750             2\n",
      "3     -720             1\n",
      "4     -560             1\n",
      "..     ...           ...\n",
      "78    1970           400\n",
      "79    1980           704\n",
      "80    1990          1360\n",
      "81    2000          3121\n",
      "82    2010          3067\n",
      "\n",
      "[83 rows x 2 columns]\n",
      "\n",
      "Summation of books across decades: 9979\n"
     ]
    }
   ],
   "source": [
    "# Add decade\n",
    "books['decade'] = (books['original_publication_year'] // 10) * 10\n",
    "\n",
    "# Count books per decade (this is from full books.csv not merged one!)\n",
    "books_per_decade = books.groupby('decade')['book_id'].nunique().reset_index(name='unique_books')\n",
    "\n",
    "# Summation of books across decades\n",
    "total_books_from_decades = books_per_decade['unique_books'].sum()\n",
    "\n",
    "print(\"Books per decade:\")\n",
    "print(books_per_decade)\n",
    "print(f\"\\nSummation of books across decades: {total_books_from_decades}\")\n"
   ]
  },
  {
   "cell_type": "code",
   "execution_count": 64,
   "metadata": {},
   "outputs": [
    {
     "name": "stdout",
     "output_type": "stream",
     "text": [
      "Deleted ratings: 5942\n",
      "Unique book_ids deleted: 21\n"
     ]
    }
   ],
   "source": [
    "# Load data\n",
    "data_path = '../data/goodbooks-10k'\n",
    "books = pd.read_csv(f\"{data_path}/books.csv\")\n",
    "ratings = pd.read_csv(f\"{data_path}/ratings.csv\")\n",
    "\n",
    "# Filter ratings where book_id exists in books\n",
    "valid_book_ids = set(books['book_id'])\n",
    "ratings_clean = ratings[ratings['book_id'].isin(valid_book_ids)]\n",
    "\n",
    "# Calculate how many ratings were deleted\n",
    "deleted_ratings = len(ratings) - len(ratings_clean)\n",
    "\n",
    "# Calculate how many unique book_ids were deleted\n",
    "all_rated_book_ids = set(ratings['book_id'])\n",
    "deleted_book_ids = all_rated_book_ids - valid_book_ids\n",
    "deleted_book_ids_count = len(deleted_book_ids)\n",
    "\n",
    "# Report & overwrite\n",
    "print(f\"Deleted ratings: {deleted_ratings}\")\n",
    "print(f\"Unique book_ids deleted: {deleted_book_ids_count}\")\n",
    "\n",
    "ratings_clean.to_csv(f\"{data_path}/ratings.csv\", index=False)\n"
   ]
  },
  {
   "cell_type": "code",
   "execution_count": 65,
   "metadata": {},
   "outputs": [
    {
     "name": "stdout",
     "output_type": "stream",
     "text": [
      "Total unique book_ids in books.csv: 9979\n",
      "Total unique book_ids in ratings.csv: 9979\n",
      "Total ratings: 5970537\n",
      "\n",
      "Books per decade:\n",
      "    decade  unique_books_per_decade\n",
      "0    -1750                        1\n",
      "1     -770                        1\n",
      "2     -750                        2\n",
      "3     -720                        1\n",
      "4     -560                        1\n",
      "..     ...                      ...\n",
      "78    1970                      400\n",
      "79    1980                      704\n",
      "80    1990                     1360\n",
      "81    2000                     3121\n",
      "82    2010                     3067\n",
      "\n",
      "[83 rows x 2 columns]\n",
      "\n",
      "Summation of books across decades: 9979\n"
     ]
    }
   ],
   "source": [
    "# Load cleaned data\n",
    "data_path = '../data/goodbooks-10k'\n",
    "books = pd.read_csv(f\"{data_path}/books.csv\")\n",
    "ratings = pd.read_csv(f\"{data_path}/ratings.csv\")\n",
    "\n",
    "# 1️⃣ Count unique book_id in books.csv\n",
    "unique_books_in_books = books['book_id'].nunique()\n",
    "print(f\"Total unique book_ids in books.csv: {unique_books_in_books}\")\n",
    "\n",
    "# 2️⃣ Count unique book_id in ratings.csv\n",
    "unique_books_in_ratings = ratings['book_id'].nunique()\n",
    "print(f\"Total unique book_ids in ratings.csv: {unique_books_in_ratings}\")\n",
    "\n",
    "# 3️⃣ Count total ratings\n",
    "total_ratings = len(ratings)\n",
    "print(f\"Total ratings: {total_ratings}\")\n",
    "\n",
    "# 4️⃣ Compute decade column\n",
    "books['decade'] = (books['original_publication_year'] // 10) * 10\n",
    "\n",
    "# 5️⃣ Count number of unique books per decade\n",
    "books_per_decade = books.groupby('decade')['book_id'].nunique().reset_index(name='unique_books_per_decade')\n",
    "books_per_decade = books_per_decade.sort_values('decade')\n",
    "\n",
    "print(\"\\nBooks per decade:\")\n",
    "print(books_per_decade)\n",
    "\n",
    "# 6️⃣ Verify summation of books across decades\n",
    "total_books_from_decades = books_per_decade['unique_books_per_decade'].sum()\n",
    "print(f\"\\nSummation of books across decades: {total_books_from_decades}\")\n"
   ]
  },
  {
   "cell_type": "code",
   "execution_count": 66,
   "metadata": {},
   "outputs": [
    {
     "data": {
      "application/vnd.microsoft.datawrangler.viewer.v0+json": {
       "columns": [
        {
         "name": "index",
         "rawType": "int64",
         "type": "integer"
        },
        {
         "name": "decade",
         "rawType": "int64",
         "type": "integer"
        },
        {
         "name": "unique_books_per_decade",
         "rawType": "int64",
         "type": "integer"
        }
       ],
       "ref": "41733a68-db8e-41c7-90f1-1529d56a5d86",
       "rows": [
        [
         "0",
         "-1750",
         "1"
        ],
        [
         "1",
         "-770",
         "1"
        ],
        [
         "2",
         "-750",
         "2"
        ],
        [
         "3",
         "-720",
         "1"
        ],
        [
         "4",
         "-560",
         "1"
        ],
        [
         "5",
         "-500",
         "3"
        ],
        [
         "6",
         "-480",
         "1"
        ],
        [
         "7",
         "-460",
         "2"
        ],
        [
         "8",
         "-450",
         "1"
        ],
        [
         "9",
         "-440",
         "2"
        ],
        [
         "10",
         "-430",
         "1"
        ],
        [
         "11",
         "-420",
         "2"
        ],
        [
         "12",
         "-410",
         "1"
        ],
        [
         "13",
         "-400",
         "2"
        ],
        [
         "14",
         "-390",
         "3"
        ],
        [
         "15",
         "-380",
         "1"
        ],
        [
         "16",
         "-350",
         "2"
        ],
        [
         "17",
         "-340",
         "1"
        ],
        [
         "18",
         "-330",
         "1"
        ],
        [
         "19",
         "-300",
         "1"
        ],
        [
         "20",
         "-20",
         "1"
        ],
        [
         "21",
         "0",
         "1"
        ],
        [
         "22",
         "110",
         "1"
        ],
        [
         "23",
         "180",
         "1"
        ],
        [
         "24",
         "390",
         "1"
        ],
        [
         "25",
         "600",
         "1"
        ],
        [
         "26",
         "800",
         "1"
        ],
        [
         "27",
         "970",
         "1"
        ],
        [
         "28",
         "1120",
         "1"
        ],
        [
         "29",
         "1270",
         "1"
        ],
        [
         "30",
         "1300",
         "1"
        ],
        [
         "31",
         "1320",
         "3"
        ],
        [
         "32",
         "1350",
         "1"
        ],
        [
         "33",
         "1380",
         "1"
        ],
        [
         "34",
         "1390",
         "2"
        ],
        [
         "35",
         "1410",
         "1"
        ],
        [
         "36",
         "1480",
         "1"
        ],
        [
         "37",
         "1510",
         "3"
        ],
        [
         "38",
         "1530",
         "1"
        ],
        [
         "39",
         "1550",
         "2"
        ],
        [
         "40",
         "1560",
         "1"
        ],
        [
         "41",
         "1580",
         "1"
        ],
        [
         "42",
         "1590",
         "14"
        ],
        [
         "43",
         "1600",
         "10"
        ],
        [
         "44",
         "1610",
         "1"
        ],
        [
         "45",
         "1620",
         "2"
        ],
        [
         "46",
         "1630",
         "2"
        ],
        [
         "47",
         "1640",
         "2"
        ],
        [
         "48",
         "1650",
         "1"
        ],
        [
         "49",
         "1660",
         "3"
        ]
       ],
       "shape": {
        "columns": 2,
        "rows": 83
       }
      },
      "text/html": [
       "<div>\n",
       "<style scoped>\n",
       "    .dataframe tbody tr th:only-of-type {\n",
       "        vertical-align: middle;\n",
       "    }\n",
       "\n",
       "    .dataframe tbody tr th {\n",
       "        vertical-align: top;\n",
       "    }\n",
       "\n",
       "    .dataframe thead th {\n",
       "        text-align: right;\n",
       "    }\n",
       "</style>\n",
       "<table border=\"1\" class=\"dataframe\">\n",
       "  <thead>\n",
       "    <tr style=\"text-align: right;\">\n",
       "      <th></th>\n",
       "      <th>decade</th>\n",
       "      <th>unique_books_per_decade</th>\n",
       "    </tr>\n",
       "  </thead>\n",
       "  <tbody>\n",
       "    <tr>\n",
       "      <th>0</th>\n",
       "      <td>-1750</td>\n",
       "      <td>1</td>\n",
       "    </tr>\n",
       "    <tr>\n",
       "      <th>1</th>\n",
       "      <td>-770</td>\n",
       "      <td>1</td>\n",
       "    </tr>\n",
       "    <tr>\n",
       "      <th>2</th>\n",
       "      <td>-750</td>\n",
       "      <td>2</td>\n",
       "    </tr>\n",
       "    <tr>\n",
       "      <th>3</th>\n",
       "      <td>-720</td>\n",
       "      <td>1</td>\n",
       "    </tr>\n",
       "    <tr>\n",
       "      <th>4</th>\n",
       "      <td>-560</td>\n",
       "      <td>1</td>\n",
       "    </tr>\n",
       "    <tr>\n",
       "      <th>...</th>\n",
       "      <td>...</td>\n",
       "      <td>...</td>\n",
       "    </tr>\n",
       "    <tr>\n",
       "      <th>78</th>\n",
       "      <td>1970</td>\n",
       "      <td>400</td>\n",
       "    </tr>\n",
       "    <tr>\n",
       "      <th>79</th>\n",
       "      <td>1980</td>\n",
       "      <td>704</td>\n",
       "    </tr>\n",
       "    <tr>\n",
       "      <th>80</th>\n",
       "      <td>1990</td>\n",
       "      <td>1360</td>\n",
       "    </tr>\n",
       "    <tr>\n",
       "      <th>81</th>\n",
       "      <td>2000</td>\n",
       "      <td>3121</td>\n",
       "    </tr>\n",
       "    <tr>\n",
       "      <th>82</th>\n",
       "      <td>2010</td>\n",
       "      <td>3067</td>\n",
       "    </tr>\n",
       "  </tbody>\n",
       "</table>\n",
       "<p>83 rows × 2 columns</p>\n",
       "</div>"
      ],
      "text/plain": [
       "    decade  unique_books_per_decade\n",
       "0    -1750                        1\n",
       "1     -770                        1\n",
       "2     -750                        2\n",
       "3     -720                        1\n",
       "4     -560                        1\n",
       "..     ...                      ...\n",
       "78    1970                      400\n",
       "79    1980                      704\n",
       "80    1990                     1360\n",
       "81    2000                     3121\n",
       "82    2010                     3067\n",
       "\n",
       "[83 rows x 2 columns]"
      ]
     },
     "execution_count": 66,
     "metadata": {},
     "output_type": "execute_result"
    }
   ],
   "source": [
    "books_per_decade"
   ]
  },
  {
   "cell_type": "code",
   "execution_count": 67,
   "metadata": {},
   "outputs": [
    {
     "name": "stdout",
     "output_type": "stream",
     "text": [
      "   decade_grouped  unique_books_per_decade\n",
      "0            1920                       89\n",
      "1            1930                      121\n",
      "2            1940                      155\n",
      "3            1950                      210\n",
      "4            1960                      272\n",
      "5            1970                      400\n",
      "6            1980                      704\n",
      "7            1990                     1360\n",
      "8            2000                     3121\n",
      "9            2010                     3067\n",
      "10  Ancient Books                      480\n",
      "\n",
      "Total books after grouping: 9979\n"
     ]
    }
   ],
   "source": [
    "# Load cleaned data\n",
    "data_path = '../data/goodbooks-10k'\n",
    "books = pd.read_csv(f\"{data_path}/books.csv\")\n",
    "\n",
    "# Create decade column\n",
    "books['decade'] = (books['original_publication_year'] // 10) * 10\n",
    "\n",
    "# Replace decades before 1920 with 'Ancient Books'\n",
    "books['decade_grouped'] = books['decade'].apply(lambda x: 'Ancient Books' if x < 1920 else int(x))\n",
    "\n",
    "# Count unique book_ids per grouped decade\n",
    "books_per_decade = books.groupby('decade_grouped')['book_id'].nunique().reset_index(name='unique_books_per_decade')\n",
    "\n",
    "# Sort (Ancient Books first, then by decade)\n",
    "books_per_decade['decade_grouped'] = books_per_decade['decade_grouped'].astype(str)\n",
    "books_per_decade = books_per_decade.sort_values(by='decade_grouped')\n",
    "\n",
    "# Print result\n",
    "print(books_per_decade)\n",
    "\n",
    "# Verify sum still equals total books\n",
    "total_books_from_decades = books_per_decade['unique_books_per_decade'].sum()\n",
    "print(f\"\\nTotal books after grouping: {total_books_from_decades}\")\n"
   ]
  },
  {
   "cell_type": "code",
   "execution_count": 68,
   "metadata": {},
   "outputs": [
    {
     "name": "stdout",
     "output_type": "stream",
     "text": [
      "   user_id  book_id  rating decade\n",
      "0        1      258       5   2000\n",
      "1        2     4081       4   2000\n",
      "2        2      260       5   1930\n",
      "3        2     9296       5   1970\n",
      "4        2     2318       3   1990\n",
      "\n",
      "Final dataset shape: (5970537, 4)\n"
     ]
    }
   ],
   "source": [
    "# Load cleaned data\n",
    "data_path = '../data/goodbooks-10k'\n",
    "books = pd.read_csv(f\"{data_path}/books.csv\")\n",
    "ratings = pd.read_csv(f\"{data_path}/ratings.csv\")\n",
    "\n",
    "# Step 1: Create decade column and group into Ancient Books\n",
    "books['decade'] = (books['original_publication_year'] // 10) * 10\n",
    "books['decade_grouped'] = books['decade'].apply(lambda x: 'Ancient Books' if x < 1920 else int(x))\n",
    "\n",
    "# Step 2: Merge ratings with books (attach decade info)\n",
    "merged_df = ratings.merge(books[['book_id', 'decade_grouped']], on='book_id', how='left')\n",
    "\n",
    "# Step 3: Rename columns for clarity\n",
    "final_df = merged_df.rename(columns={'decade_grouped': 'decade'})\n",
    "\n",
    "# Step 4: Reorder columns\n",
    "final_df = final_df[['user_id', 'book_id', 'rating', 'decade']]\n",
    "\n",
    "# Step 5: Save final dataset\n",
    "final_df.to_csv(f\"{data_path}/final_svd_dataset.csv\", index=False)\n",
    "\n",
    "# Print sample and shape for verification\n",
    "print(final_df.head())\n",
    "print(f\"\\nFinal dataset shape: {final_df.shape}\")\n"
   ]
  },
  {
   "cell_type": "code",
   "execution_count": 38,
   "metadata": {},
   "outputs": [
    {
     "name": "stdout",
     "output_type": "stream",
     "text": [
      "count    53424.000000\n",
      "mean       111.757581\n",
      "std         26.075621\n",
      "min         19.000000\n",
      "25%         96.000000\n",
      "50%        111.000000\n",
      "75%        128.000000\n",
      "max        200.000000\n",
      "Name: rating, dtype: float64\n",
      "\n",
      "Users with fewest ratings:\n",
      "user_id\n",
      "34590    19\n",
      "32128    20\n",
      "43675    20\n",
      "51725    21\n",
      "42736    21\n",
      "40753    21\n",
      "37640    22\n",
      "34099    22\n",
      "50918    22\n",
      "25856    22\n",
      "Name: rating, dtype: int64\n",
      "\n",
      "Total number of unique users: 53424\n",
      "Total number of unique books: 9979\n",
      "Minimum number of ratings per user: 19\n",
      "Maximum number of ratings per user: 200\n",
      "Average number of ratings per user: 111.76\n",
      "\n",
      "Average rating score per user:\n",
      "count    53424.000000\n",
      "mean         3.928487\n",
      "std          0.449549\n",
      "min          1.000000\n",
      "25%          3.633663\n",
      "50%          3.920455\n",
      "75%          4.223236\n",
      "max          5.000000\n",
      "Name: rating, dtype: float64\n"
     ]
    }
   ],
   "source": [
    "import pandas as pd\n",
    "import os\n",
    "\n",
    "# Load your cleaned final dataset\n",
    "data_path = '../data/goodbooks-10k'\n",
    "final_df = pd.read_csv(f\"{data_path}/final_svd_dataset.csv\")\n",
    "\n",
    "# Count number of ratings per user\n",
    "reviews_per_user = final_df.groupby('user_id')['rating'].count()\n",
    "\n",
    "# Average rating per user\n",
    "average_rating_per_user = final_df.groupby('user_id')['rating'].mean()\n",
    "\n",
    "# Print basic stats\n",
    "print(reviews_per_user.describe())\n",
    "\n",
    "# Print users with fewest ratings\n",
    "print(\"\\nUsers with fewest ratings:\")\n",
    "print(reviews_per_user.sort_values().head(10))\n",
    "\n",
    "# Count unique users and books\n",
    "unique_users = final_df['user_id'].nunique()\n",
    "unique_books = final_df['book_id'].nunique()\n",
    "\n",
    "print(f\"\\nTotal number of unique users: {unique_users}\")\n",
    "print(f\"Total number of unique books: {unique_books}\")\n",
    "\n",
    "# Get min/max ratings per user\n",
    "min_ratings = reviews_per_user.min()\n",
    "max_ratings = reviews_per_user.max()\n",
    "avg_ratings_per_user = reviews_per_user.mean()\n",
    "\n",
    "print(f\"Minimum number of ratings per user: {min_ratings}\")\n",
    "print(f\"Maximum number of ratings per user: {max_ratings}\")\n",
    "print(f\"Average number of ratings per user: {avg_ratings_per_user:.2f}\")\n",
    "\n",
    "# Print basic stats for average *rating scores* per user\n",
    "print(\"\\nAverage rating score per user:\")\n",
    "print(average_rating_per_user.describe())\n"
   ]
  },
  {
   "cell_type": "code",
   "execution_count": 39,
   "metadata": {},
   "outputs": [
    {
     "data": {
      "application/vnd.microsoft.datawrangler.viewer.v0+json": {
       "columns": [
        {
         "name": "index",
         "rawType": "int64",
         "type": "integer"
        },
        {
         "name": "decade_grouped",
         "rawType": "object",
         "type": "string"
        },
        {
         "name": "unique_books_per_decade",
         "rawType": "int64",
         "type": "integer"
        }
       ],
       "ref": "1c999574-5404-4483-a4d1-4cd07c6522ab",
       "rows": [
        [
         "0",
         "1920",
         "89"
        ],
        [
         "1",
         "1930",
         "121"
        ],
        [
         "2",
         "1940",
         "155"
        ],
        [
         "3",
         "1950",
         "210"
        ],
        [
         "4",
         "1960",
         "272"
        ],
        [
         "5",
         "1970",
         "400"
        ],
        [
         "6",
         "1980",
         "704"
        ],
        [
         "7",
         "1990",
         "1360"
        ],
        [
         "8",
         "2000",
         "3121"
        ],
        [
         "9",
         "2010",
         "3067"
        ],
        [
         "10",
         "Ancient Books",
         "480"
        ]
       ],
       "shape": {
        "columns": 2,
        "rows": 11
       }
      },
      "text/html": [
       "<div>\n",
       "<style scoped>\n",
       "    .dataframe tbody tr th:only-of-type {\n",
       "        vertical-align: middle;\n",
       "    }\n",
       "\n",
       "    .dataframe tbody tr th {\n",
       "        vertical-align: top;\n",
       "    }\n",
       "\n",
       "    .dataframe thead th {\n",
       "        text-align: right;\n",
       "    }\n",
       "</style>\n",
       "<table border=\"1\" class=\"dataframe\">\n",
       "  <thead>\n",
       "    <tr style=\"text-align: right;\">\n",
       "      <th></th>\n",
       "      <th>decade_grouped</th>\n",
       "      <th>unique_books_per_decade</th>\n",
       "    </tr>\n",
       "  </thead>\n",
       "  <tbody>\n",
       "    <tr>\n",
       "      <th>0</th>\n",
       "      <td>1920</td>\n",
       "      <td>89</td>\n",
       "    </tr>\n",
       "    <tr>\n",
       "      <th>1</th>\n",
       "      <td>1930</td>\n",
       "      <td>121</td>\n",
       "    </tr>\n",
       "    <tr>\n",
       "      <th>2</th>\n",
       "      <td>1940</td>\n",
       "      <td>155</td>\n",
       "    </tr>\n",
       "    <tr>\n",
       "      <th>3</th>\n",
       "      <td>1950</td>\n",
       "      <td>210</td>\n",
       "    </tr>\n",
       "    <tr>\n",
       "      <th>4</th>\n",
       "      <td>1960</td>\n",
       "      <td>272</td>\n",
       "    </tr>\n",
       "    <tr>\n",
       "      <th>5</th>\n",
       "      <td>1970</td>\n",
       "      <td>400</td>\n",
       "    </tr>\n",
       "    <tr>\n",
       "      <th>6</th>\n",
       "      <td>1980</td>\n",
       "      <td>704</td>\n",
       "    </tr>\n",
       "    <tr>\n",
       "      <th>7</th>\n",
       "      <td>1990</td>\n",
       "      <td>1360</td>\n",
       "    </tr>\n",
       "    <tr>\n",
       "      <th>8</th>\n",
       "      <td>2000</td>\n",
       "      <td>3121</td>\n",
       "    </tr>\n",
       "    <tr>\n",
       "      <th>9</th>\n",
       "      <td>2010</td>\n",
       "      <td>3067</td>\n",
       "    </tr>\n",
       "    <tr>\n",
       "      <th>10</th>\n",
       "      <td>Ancient Books</td>\n",
       "      <td>480</td>\n",
       "    </tr>\n",
       "  </tbody>\n",
       "</table>\n",
       "</div>"
      ],
      "text/plain": [
       "   decade_grouped  unique_books_per_decade\n",
       "0            1920                       89\n",
       "1            1930                      121\n",
       "2            1940                      155\n",
       "3            1950                      210\n",
       "4            1960                      272\n",
       "5            1970                      400\n",
       "6            1980                      704\n",
       "7            1990                     1360\n",
       "8            2000                     3121\n",
       "9            2010                     3067\n",
       "10  Ancient Books                      480"
      ]
     },
     "execution_count": 39,
     "metadata": {},
     "output_type": "execute_result"
    }
   ],
   "source": [
    "books_per_decade"
   ]
  },
  {
   "cell_type": "code",
   "execution_count": 40,
   "metadata": {},
   "outputs": [
    {
     "data": {
      "application/vnd.microsoft.datawrangler.viewer.v0+json": {
       "columns": [
        {
         "name": "index",
         "rawType": "int64",
         "type": "integer"
        },
        {
         "name": "user_id",
         "rawType": "int64",
         "type": "integer"
        },
        {
         "name": "book_id",
         "rawType": "int64",
         "type": "integer"
        },
        {
         "name": "rating",
         "rawType": "int64",
         "type": "integer"
        },
        {
         "name": "decade",
         "rawType": "object",
         "type": "string"
        }
       ],
       "ref": "26dbb3c9-88f4-4879-aee9-09e9161d69b5",
       "rows": [
        [
         "0",
         "1",
         "258",
         "5",
         "2000"
        ],
        [
         "1",
         "2",
         "4081",
         "4",
         "2000"
        ],
        [
         "2",
         "2",
         "260",
         "5",
         "1930"
        ],
        [
         "3",
         "2",
         "9296",
         "5",
         "1970"
        ],
        [
         "4",
         "2",
         "2318",
         "3",
         "1990"
        ],
        [
         "5",
         "2",
         "26",
         "4",
         "2000"
        ],
        [
         "6",
         "2",
         "315",
         "3",
         "1990"
        ],
        [
         "7",
         "2",
         "33",
         "4",
         "1990"
        ],
        [
         "8",
         "2",
         "301",
         "5",
         "Ancient Books"
        ],
        [
         "9",
         "2",
         "2686",
         "5",
         "2000"
        ],
        [
         "10",
         "2",
         "3753",
         "5",
         "2000"
        ],
        [
         "11",
         "2",
         "8519",
         "5",
         "1970"
        ],
        [
         "12",
         "4",
         "70",
         "4",
         "1980"
        ],
        [
         "13",
         "4",
         "264",
         "3",
         "1920"
        ],
        [
         "14",
         "4",
         "388",
         "4",
         "1980"
        ],
        [
         "15",
         "4",
         "18",
         "5",
         "1990"
        ],
        [
         "16",
         "4",
         "27",
         "5",
         "2000"
        ],
        [
         "17",
         "4",
         "21",
         "5",
         "2000"
        ],
        [
         "18",
         "4",
         "2",
         "5",
         "1990"
        ],
        [
         "19",
         "4",
         "23",
         "5",
         "1990"
        ],
        [
         "20",
         "4",
         "24",
         "5",
         "2000"
        ],
        [
         "21",
         "4",
         "964",
         "4",
         "1970"
        ],
        [
         "22",
         "4",
         "103",
         "5",
         "Ancient Books"
        ],
        [
         "23",
         "4",
         "255",
         "2",
         "1950"
        ],
        [
         "24",
         "4",
         "35",
         "5",
         "1980"
        ],
        [
         "25",
         "4",
         "287",
         "3",
         "1940"
        ],
        [
         "26",
         "4",
         "337",
         "4",
         "1990"
        ],
        [
         "27",
         "4",
         "26",
         "3",
         "2000"
        ],
        [
         "28",
         "4",
         "84",
         "4",
         "1990"
        ],
        [
         "29",
         "4",
         "58",
         "4",
         "Ancient Books"
        ],
        [
         "30",
         "4",
         "1117",
         "3",
         "1990"
        ],
        [
         "31",
         "4",
         "660",
         "3",
         "1980"
        ],
        [
         "32",
         "4",
         "111",
         "2",
         "2000"
        ],
        [
         "33",
         "4",
         "5",
         "4",
         "1920"
        ],
        [
         "34",
         "4",
         "413",
         "4",
         "Ancient Books"
        ],
        [
         "35",
         "4",
         "8",
         "4",
         "1950"
        ],
        [
         "36",
         "4",
         "2172",
         "4",
         "1960"
        ],
        [
         "37",
         "4",
         "65",
         "4",
         "1960"
        ],
        [
         "38",
         "4",
         "297",
         "4",
         "1960"
        ],
        [
         "39",
         "4",
         "45",
         "4",
         "2000"
        ],
        [
         "40",
         "4",
         "113",
         "4",
         "1960"
        ],
        [
         "41",
         "4",
         "325",
         "5",
         "1980"
        ],
        [
         "42",
         "4",
         "476",
         "3",
         "1970"
        ],
        [
         "43",
         "6",
         "6351",
         "4",
         "2000"
        ],
        [
         "44",
         "8",
         "2732",
         "5",
         "Ancient Books"
        ],
        [
         "45",
         "8",
         "1432",
         "3",
         "Ancient Books"
        ],
        [
         "46",
         "8",
         "479",
         "4",
         "Ancient Books"
        ],
        [
         "47",
         "8",
         "3020",
         "5",
         "Ancient Books"
        ],
        [
         "48",
         "8",
         "6195",
         "4",
         "1920"
        ],
        [
         "49",
         "8",
         "614",
         "4",
         "1920"
        ]
       ],
       "shape": {
        "columns": 4,
        "rows": 5970537
       }
      },
      "text/html": [
       "<div>\n",
       "<style scoped>\n",
       "    .dataframe tbody tr th:only-of-type {\n",
       "        vertical-align: middle;\n",
       "    }\n",
       "\n",
       "    .dataframe tbody tr th {\n",
       "        vertical-align: top;\n",
       "    }\n",
       "\n",
       "    .dataframe thead th {\n",
       "        text-align: right;\n",
       "    }\n",
       "</style>\n",
       "<table border=\"1\" class=\"dataframe\">\n",
       "  <thead>\n",
       "    <tr style=\"text-align: right;\">\n",
       "      <th></th>\n",
       "      <th>user_id</th>\n",
       "      <th>book_id</th>\n",
       "      <th>rating</th>\n",
       "      <th>decade</th>\n",
       "    </tr>\n",
       "  </thead>\n",
       "  <tbody>\n",
       "    <tr>\n",
       "      <th>0</th>\n",
       "      <td>1</td>\n",
       "      <td>258</td>\n",
       "      <td>5</td>\n",
       "      <td>2000</td>\n",
       "    </tr>\n",
       "    <tr>\n",
       "      <th>1</th>\n",
       "      <td>2</td>\n",
       "      <td>4081</td>\n",
       "      <td>4</td>\n",
       "      <td>2000</td>\n",
       "    </tr>\n",
       "    <tr>\n",
       "      <th>2</th>\n",
       "      <td>2</td>\n",
       "      <td>260</td>\n",
       "      <td>5</td>\n",
       "      <td>1930</td>\n",
       "    </tr>\n",
       "    <tr>\n",
       "      <th>3</th>\n",
       "      <td>2</td>\n",
       "      <td>9296</td>\n",
       "      <td>5</td>\n",
       "      <td>1970</td>\n",
       "    </tr>\n",
       "    <tr>\n",
       "      <th>4</th>\n",
       "      <td>2</td>\n",
       "      <td>2318</td>\n",
       "      <td>3</td>\n",
       "      <td>1990</td>\n",
       "    </tr>\n",
       "    <tr>\n",
       "      <th>...</th>\n",
       "      <td>...</td>\n",
       "      <td>...</td>\n",
       "      <td>...</td>\n",
       "      <td>...</td>\n",
       "    </tr>\n",
       "    <tr>\n",
       "      <th>5970532</th>\n",
       "      <td>49925</td>\n",
       "      <td>510</td>\n",
       "      <td>5</td>\n",
       "      <td>1990</td>\n",
       "    </tr>\n",
       "    <tr>\n",
       "      <th>5970533</th>\n",
       "      <td>49925</td>\n",
       "      <td>528</td>\n",
       "      <td>4</td>\n",
       "      <td>1990</td>\n",
       "    </tr>\n",
       "    <tr>\n",
       "      <th>5970534</th>\n",
       "      <td>49925</td>\n",
       "      <td>722</td>\n",
       "      <td>4</td>\n",
       "      <td>1990</td>\n",
       "    </tr>\n",
       "    <tr>\n",
       "      <th>5970535</th>\n",
       "      <td>49925</td>\n",
       "      <td>949</td>\n",
       "      <td>5</td>\n",
       "      <td>1990</td>\n",
       "    </tr>\n",
       "    <tr>\n",
       "      <th>5970536</th>\n",
       "      <td>49925</td>\n",
       "      <td>1023</td>\n",
       "      <td>4</td>\n",
       "      <td>1990</td>\n",
       "    </tr>\n",
       "  </tbody>\n",
       "</table>\n",
       "<p>5970537 rows × 4 columns</p>\n",
       "</div>"
      ],
      "text/plain": [
       "         user_id  book_id  rating decade\n",
       "0              1      258       5   2000\n",
       "1              2     4081       4   2000\n",
       "2              2      260       5   1930\n",
       "3              2     9296       5   1970\n",
       "4              2     2318       3   1990\n",
       "...          ...      ...     ...    ...\n",
       "5970532    49925      510       5   1990\n",
       "5970533    49925      528       4   1990\n",
       "5970534    49925      722       4   1990\n",
       "5970535    49925      949       5   1990\n",
       "5970536    49925     1023       4   1990\n",
       "\n",
       "[5970537 rows x 4 columns]"
      ]
     },
     "execution_count": 40,
     "metadata": {},
     "output_type": "execute_result"
    }
   ],
   "source": [
    "final_df"
   ]
  }
 ],
 "metadata": {
  "kernelspec": {
   "display_name": "Python 3",
   "language": "python",
   "name": "python3"
  },
  "language_info": {
   "codemirror_mode": {
    "name": "ipython",
    "version": 3
   },
   "file_extension": ".py",
   "mimetype": "text/x-python",
   "name": "python",
   "nbconvert_exporter": "python",
   "pygments_lexer": "ipython3",
   "version": "3.9.6"
  }
 },
 "nbformat": 4,
 "nbformat_minor": 2
}

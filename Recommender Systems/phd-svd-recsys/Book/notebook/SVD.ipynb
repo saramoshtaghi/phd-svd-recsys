{
 "cells": [
  {
   "cell_type": "code",
   "execution_count": 73,
   "metadata": {},
   "outputs": [
    {
     "name": "stderr",
     "output_type": "stream",
     "text": [
      "47774.38s - pydevd: Sending message related to process being replaced timed-out after 5 seconds\n"
     ]
    },
    {
     "name": "stdout",
     "output_type": "stream",
     "text": [
      "Defaulting to user installation because normal site-packages is not writeable\n",
      "Requirement already satisfied: scikit-surprise in /Users/saramoshtaghi/Library/Python/3.9/lib/python/site-packages (1.1.4)\n",
      "Requirement already satisfied: joblib>=1.2.0 in /Users/saramoshtaghi/Library/Python/3.9/lib/python/site-packages (from scikit-surprise) (1.4.2)\n",
      "Requirement already satisfied: numpy>=1.19.5 in /Users/saramoshtaghi/Library/Python/3.9/lib/python/site-packages (from scikit-surprise) (1.23.5)\n",
      "Requirement already satisfied: scipy>=1.6.0 in /Users/saramoshtaghi/Library/Python/3.9/lib/python/site-packages (from scikit-surprise) (1.13.1)\n",
      "\n",
      "\u001b[1m[\u001b[0m\u001b[34;49mnotice\u001b[0m\u001b[1;39;49m]\u001b[0m\u001b[39;49m A new release of pip is available: \u001b[0m\u001b[31;49m25.0.1\u001b[0m\u001b[39;49m -> \u001b[0m\u001b[32;49m25.1.1\u001b[0m\n",
      "\u001b[1m[\u001b[0m\u001b[34;49mnotice\u001b[0m\u001b[1;39;49m]\u001b[0m\u001b[39;49m To update, run: \u001b[0m\u001b[32;49m/Library/Developer/CommandLineTools/usr/bin/python3 -m pip install --upgrade pip\u001b[0m\n",
      "Note: you may need to restart the kernel to use updated packages.\n"
     ]
    }
   ],
   "source": [
    "pip install scikit-surprise"
   ]
  },
  {
   "cell_type": "code",
   "execution_count": 69,
   "metadata": {},
   "outputs": [],
   "source": [
    "df_final = pd.read_csv(f\"{data_path}/final_svd_dataset.csv\")"
   ]
  },
  {
   "cell_type": "code",
   "execution_count": null,
   "metadata": {},
   "outputs": [
    {
     "data": {
      "application/vnd.microsoft.datawrangler.viewer.v0+json": {
       "columns": [
        {
         "name": "index",
         "rawType": "object",
         "type": "string"
        },
        {
         "name": "rating",
         "rawType": "float64",
         "type": "float"
        }
       ],
       "ref": "ea7a6d54-8aed-4888-be52-6ab8b5b46354",
       "rows": [
        [
         "count",
         "5970537.0"
        ],
        [
         "mean",
         "3.9196665224585328"
        ],
        [
         "std",
         "0.9910472682840205"
        ],
        [
         "min",
         "1.0"
        ],
        [
         "25%",
         "3.0"
        ],
        [
         "50%",
         "4.0"
        ],
        [
         "75%",
         "5.0"
        ],
        [
         "max",
         "5.0"
        ]
       ],
       "shape": {
        "columns": 1,
        "rows": 8
       }
      },
      "text/plain": [
       "count    5.970537e+06\n",
       "mean     3.919667e+00\n",
       "std      9.910473e-01\n",
       "min      1.000000e+00\n",
       "25%      3.000000e+00\n",
       "50%      4.000000e+00\n",
       "75%      5.000000e+00\n",
       "max      5.000000e+00\n",
       "Name: rating, dtype: float64"
      ]
     },
     "execution_count": 70,
     "metadata": {},
     "output_type": "execute_result"
    }
   ],
   "source": [
    "df_final['rating'].describe()"
   ]
  },
  {
   "cell_type": "code",
   "execution_count": 72,
   "metadata": {},
   "outputs": [
    {
     "data": {
      "text/plain": [
       "Index(['user_id', 'book_id', 'rating', 'decade'], dtype='object')"
      ]
     },
     "execution_count": 72,
     "metadata": {},
     "output_type": "execute_result"
    }
   ],
   "source": [
    "df_final.columns"
   ]
  },
  {
   "cell_type": "code",
   "execution_count": null,
   "metadata": {},
   "outputs": [],
   "source": [
    "import pandas as pd\n",
    "from surprise import Dataset, Reader, SVD\n",
    "from surprise.model_selection import train_test_split\n",
    "from surprise import accuracy\n",
    "\n",
    "\n",
    "# Define reader for Surprise (rating scale 1 to 5)\n",
    "reader = Reader(rating_scale=(1, 5))\n",
    "\n",
    "# Load data into Surprise format\n",
    "data = Dataset.load_from_df(df_final[['user_id', 'book_id', 'rating']], reader)\n",
    "\n",
    "# Split into train and test sets\n",
    "trainset, testset = train_test_split(data, test_size=0.2, random_state=42)\n",
    "\n",
    "# Apply SVD\n",
    "svd = SVD(n_factors=100, random_state=42)\n",
    "svd.fit(trainset)\n",
    "\n",
    "# Predict on test set (optional evaluation)\n",
    "predictions = svd.test(testset)\n",
    "rmse = accuracy.rmse(predictions)\n",
    "\n",
    "# ---------------------\n",
    "# Generate 25 recommendations per user\n",
    "# ---------------------\n",
    "\n",
    "# Get list of all users and books\n",
    "all_user_ids = df_final['user_id'].unique()\n",
    "all_book_ids = df_final['book_id'].unique()\n",
    "\n",
    "# Build recommendation list\n",
    "user_recommendations = {}\n",
    "\n",
    "for user_id in all_user_ids:\n",
    "    # Get books the user has already rated\n",
    "    rated_books = df_final[df_final['user_id'] == user_id]['book_id'].tolist()\n",
    "    \n",
    "    # Predict ratings for all unseen books\n",
    "    unseen_books = [book for book in all_book_ids if book not in rated_books]\n",
    "    \n",
    "    predictions = [(book, svd.predict(user_id, book).est) for book in unseen_books]\n",
    "    \n",
    "    # Sort by predicted rating\n",
    "    top_predictions = sorted(predictions, key=lambda x: x[1], reverse=True)[:25]\n",
    "    \n",
    "    recommended_books = [book for book, _ in top_predictions]\n",
    "    user_recommendations[user_id] = recommended_books\n",
    "\n",
    "# Example output for one user\n",
    "example_user = list(user_recommendations.keys())[0]\n",
    "print(f\"Top 25 recommendations for user {example_user}: {user_recommendations[example_user]}\")\n"
   ]
  }
 ],
 "metadata": {
  "language_info": {
   "name": "python"
  }
 },
 "nbformat": 4,
 "nbformat_minor": 2
}

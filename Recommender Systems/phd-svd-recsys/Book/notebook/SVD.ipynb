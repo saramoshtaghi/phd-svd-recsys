{
 "cells": [
  {
   "cell_type": "code",
   "execution_count": null,
   "metadata": {},
   "outputs": [],
   "source": [
    "pip install kaggle"
   ]
  },
  {
   "cell_type": "code",
   "execution_count": null,
   "metadata": {},
   "outputs": [],
   "source": [
    "pip install kagglehub\n"
   ]
  },
  {
   "cell_type": "code",
   "execution_count": 13,
   "metadata": {},
   "outputs": [
    {
     "name": "stdout",
     "output_type": "stream",
     "text": [
      "Downloaded to: /Users/saramoshtaghi/.cache/kagglehub/datasets/zygmunt/goodbooks-10k/versions/5\n",
      "Files inside downloaded folder: ['book_tags.csv', 'sample_book.xml', 'tags.csv', 'ratings.csv', 'to_read.csv', 'books.csv']\n",
      "All files successfully copied into: ../data/goodbooks-10k\n"
     ]
    }
   ],
   "source": [
    "import kagglehub\n",
    "import shutil\n",
    "import os\n",
    "\n",
    "# Download dataset\n",
    "path = kagglehub.dataset_download(\"zygmunt/goodbooks-10k\")\n",
    "print(\"Downloaded to:\", path)\n",
    "\n",
    "# Check what's inside path\n",
    "files = os.listdir(path)\n",
    "print(\"Files inside downloaded folder:\", files)\n",
    "\n",
    "# Create target directory if not exists\n",
    "target_path = '../data/goodbooks-10k'\n",
    "os.makedirs(target_path, exist_ok=True)\n",
    "\n",
    "# Move all files (not the directory itself)\n",
    "for filename in files:\n",
    "    full_file_path = os.path.join(path, filename)\n",
    "    shutil.copy(full_file_path, target_path)\n",
    "\n",
    "print(\"All files successfully copied into:\", target_path)\n"
   ]
  },
  {
   "cell_type": "code",
   "execution_count": 19,
   "metadata": {},
   "outputs": [
    {
     "name": "stdout",
     "output_type": "stream",
     "text": [
      "Ratings shape: (981756, 3)\n",
      "Books shape: (10000, 23)\n",
      "   book_id  user_id  rating    year  decade\n",
      "0        1      314       5  2005.0  2000.0\n",
      "1        1      439       3  2005.0  2000.0\n",
      "2        1      588       5  2005.0  2000.0\n",
      "3        1     1169       4  2005.0  2000.0\n",
      "4        1     1185       4  2005.0  2000.0\n"
     ]
    }
   ],
   "source": [
    "import os\n",
    "import pandas as pd\n",
    "\n",
    "# Define your real data directory\n",
    "data_path = '/Users/saramoshtaghi/Documents/Research/Recommender Systems/phd-svd-recsys/Book/data/goodbooks-10k'\n",
    "\n",
    "# Read files\n",
    "ratings = pd.read_csv(os.path.join(data_path, 'ratings.csv'))\n",
    "books = pd.read_csv(os.path.join(data_path, 'books.csv'))\n",
    "\n",
    "# Quick check\n",
    "print(f\"Ratings shape: {ratings.shape}\")\n",
    "print(f\"Books shape: {books.shape}\")\n",
    "\n",
    "# Extract year and decade\n",
    "books['year'] = books['original_publication_year']\n",
    "books['decade'] = (books['year'] // 10) * 10\n",
    "\n",
    "# Handle missing years\n",
    "books['year'] = books['year'].fillna(-1).astype(int)\n",
    "books['decade'] = books['decade'].fillna(-1).astype(int)\n",
    "\n",
    "# Merge ratings with books on book_id\n",
    "merged_df = pd.merge(ratings, books[['book_id', 'year', 'decade']], on='book_id', how='left')\n",
    "\n",
    "# Quick sample\n",
    "print(merged_df.head())\n",
    "\n",
    "# Save for future\n",
    "merged_df.to_csv(os.path.join(data_path, 'goodbooks.csv'), index=False)\n"
   ]
  },
  {
   "cell_type": "code",
   "execution_count": 22,
   "metadata": {},
   "outputs": [
    {
     "name": "stdout",
     "output_type": "stream",
     "text": [
      "Number of unique users: 53424\n",
      "Total number of ratings: 981756\n",
      "Number of unique books: 10000\n",
      "Number of unique decades: 36\n"
     ]
    }
   ],
   "source": [
    "import pandas as pd\n",
    "import os\n",
    "\n",
    "# Load your merged file\n",
    "data_path = '/Users/saramoshtaghi/Documents/Research/Recommender Systems/phd-svd-recsys/Book/data/goodbooks-10k'\n",
    "merged_df = pd.read_csv(os.path.join(data_path, 'goodbooks.csv'))\n",
    "\n",
    "# Number of unique users\n",
    "num_users = merged_df['user_id'].nunique()\n",
    "\n",
    "# Total ratings (number of rows)\n",
    "num_ratings = len(merged_df)\n",
    "\n",
    "# Number of unique books\n",
    "num_books = merged_df['book_id'].nunique()\n",
    "\n",
    "# Number of unique decades\n",
    "num_decades = merged_df['decade'].nunique()\n",
    "\n",
    "# Print results\n",
    "print(f\"Number of unique users: {num_users}\")\n",
    "print(f\"Total number of ratings: {num_ratings}\")\n",
    "print(f\"Number of unique books: {num_books}\")\n",
    "print(f\"Number of unique decades: {num_decades}\")\n"
   ]
  },
  {
   "cell_type": "code",
   "execution_count": 23,
   "metadata": {},
   "outputs": [
    {
     "name": "stdout",
     "output_type": "stream",
     "text": [
      "Valid decades: [1800.0, 1810.0, 1840.0, 1850.0, 1860.0, 1870.0, 1880.0, 1890.0, 1900.0, 1910.0, 1920.0, 1930.0, 1940.0, 1950.0, 1960.0, 1970.0, 1980.0, 1990.0, 2000.0]\n",
      "Invalid decades: [-770.0, -750.0, -720.0, -460.0, -450.0, -440.0, -430.0, -420.0, -410.0, -1.0, 0.0, 1300.0, 1390.0, 1590.0, 1600.0, 1710.0, 1720.0]\n"
     ]
    }
   ],
   "source": [
    "valid_decades = sorted(merged_df[merged_df['decade'] >= 1800]['decade'].unique())\n",
    "invalid_decades = sorted(merged_df[merged_df['decade'] < 1800]['decade'].unique())\n",
    "\n",
    "print(\"Valid decades:\", valid_decades)\n",
    "print(\"Invalid decades:\", invalid_decades)\n"
   ]
  },
  {
   "cell_type": "code",
   "execution_count": 24,
   "metadata": {},
   "outputs": [
    {
     "name": "stdout",
     "output_type": "stream",
     "text": [
      "    decade  book_id\n",
      "0   -770.0        1\n",
      "1   -750.0        1\n",
      "2   -720.0        1\n",
      "3   -460.0        2\n",
      "4   -450.0        1\n",
      "5   -440.0        1\n",
      "6   -430.0        1\n",
      "7   -420.0        1\n",
      "8   -410.0        1\n",
      "9     -1.0        1\n",
      "10     0.0        1\n",
      "11  1300.0        1\n",
      "12  1390.0        2\n",
      "13  1590.0        1\n",
      "14  1600.0        4\n",
      "15  1710.0        1\n",
      "16  1720.0        2\n",
      "17  1800.0        1\n",
      "18  1810.0        4\n",
      "19  1840.0        9\n",
      "20  1850.0        4\n",
      "21  1860.0        6\n",
      "22  1870.0        3\n",
      "23  1880.0        7\n",
      "24  1890.0        7\n",
      "25  1900.0        9\n",
      "26  1910.0        9\n",
      "27  1920.0       12\n",
      "28  1930.0       25\n",
      "29  1940.0       22\n",
      "30  1950.0       37\n",
      "31  1960.0       42\n",
      "32  1970.0       49\n",
      "33  1980.0       86\n",
      "34  1990.0      197\n",
      "35  2000.0      260\n"
     ]
    }
   ],
   "source": [
    "import pandas as pd\n",
    "import os\n",
    "\n",
    "# Load your merged file\n",
    "data_path = '/Users/saramoshtaghi/Documents/Research/Recommender Systems/phd-svd-recsys/Book/data/goodbooks-10k'\n",
    "merged_df = pd.read_csv(os.path.join(data_path, 'goodbooks.csv'))\n",
    "\n",
    "# Group by decade and count unique book_id\n",
    "books_per_decade = merged_df.groupby('decade')['book_id'].nunique().reset_index()\n",
    "\n",
    "# Sort for better view\n",
    "books_per_decade = books_per_decade.sort_values(by='decade')\n",
    "\n",
    "# Print result\n",
    "print(books_per_decade)\n"
   ]
  }
 ],
 "metadata": {
  "kernelspec": {
   "display_name": "Python 3",
   "language": "python",
   "name": "python3"
  },
  "language_info": {
   "codemirror_mode": {
    "name": "ipython",
    "version": 3
   },
   "file_extension": ".py",
   "mimetype": "text/x-python",
   "name": "python",
   "nbconvert_exporter": "python",
   "pygments_lexer": "ipython3",
   "version": "3.9.6"
  }
 },
 "nbformat": 4,
 "nbformat_minor": 2
}

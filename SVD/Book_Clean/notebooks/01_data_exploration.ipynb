{
 "cells": [
  {
   "cell_type": "markdown",
   "metadata": {},
   "source": [
    "# Book Recommendation System - Data Exploration\n",
    "\n",
    "This notebook explores the original Goodbooks 10K dataset to understand:\n",
    "- Dataset structure and statistics\n",
    "- Genre distributions\n",
    "- User-book interaction patterns\n",
    "- Identification of Adventure and Mystery books for bias experiments"
   ]
  },
  {
   "cell_type": "code",
   "execution_count": 10,
   "metadata": {},
   "outputs": [],
   "source": [
    "import pandas as pd\n",
    "import numpy as np\n",
    "import matplotlib.pyplot as plt\n",
    "import seaborn as sns\n",
    "from collections import Counter\n",
    "import warnings\n",
    "warnings.filterwarnings('ignore')\n",
    "\n",
    "# Set display options\n",
    "pd.set_option('display.max_columns', None)\n",
    "plt.style.use('default')\n",
    "plt.rcParams['figure.figsize'] = (12, 8)"
   ]
  },
  {
   "cell_type": "markdown",
   "metadata": {},
   "source": [
    "## 1. Load Original Data"
   ]
  },
  {
   "cell_type": "code",
   "execution_count": 11,
   "metadata": {},
   "outputs": [
    {
     "name": "stdout",
     "output_type": "stream",
     "text": [
      "📚 Books: (10000, 23)\n",
      "⭐ Ratings: (5976479, 3)\n",
      "🏷️  Book Tags: (999912, 3)\n",
      "🏷️  Tags: (34252, 2)\n"
     ]
    }
   ],
   "source": [
    "# Load datasets\n",
    "data_path = '../data/original/goodbooks-10k'\n",
    "\n",
    "books = pd.read_csv(f'{data_path}/books.csv')\n",
    "ratings = pd.read_csv(f'{data_path}/ratings.csv')\n",
    "book_tags = pd.read_csv(f'{data_path}/book_tags.csv')\n",
    "tags = pd.read_csv(f'{data_path}/tags.csv')\n",
    "\n",
    "print(f\"📚 Books: {books.shape}\")\n",
    "print(f\"⭐ Ratings: {ratings.shape}\")\n",
    "print(f\"🏷️  Book Tags: {book_tags.shape}\")\n",
    "print(f\"🏷️  Tags: {tags.shape}\")"
   ]
  },
  {
   "cell_type": "markdown",
   "metadata": {},
   "source": [
    "## 2. Basic Dataset Statistics"
   ]
  },
  {
   "cell_type": "code",
   "execution_count": 12,
   "metadata": {},
   "outputs": [
    {
     "name": "stdout",
     "output_type": "stream",
     "text": [
      "=== DATASET OVERVIEW ===\n",
      "📖 Total books: 10,000\n",
      "👥 Total users: 53,424\n",
      "⭐ Total ratings: 5,976,479\n",
      "🏷️  Total tags: 34,252\n",
      "\n",
      "=== RATING DISTRIBUTION ===\n",
      "Rating 1: 124,195 (2.1%)\n",
      "Rating 2: 359,257 (6.0%)\n",
      "Rating 3: 1,370,916 (22.9%)\n",
      "Rating 4: 2,139,018 (35.8%)\n",
      "Rating 5: 1,983,093 (33.2%)\n",
      "\n",
      "📊 Average rating: 3.92\n"
     ]
    }
   ],
   "source": [
    "# Basic statistics\n",
    "print(\"=== DATASET OVERVIEW ===\")\n",
    "print(f\"📖 Total books: {books['book_id'].nunique():,}\")\n",
    "print(f\"👥 Total users: {ratings['user_id'].nunique():,}\")\n",
    "print(f\"⭐ Total ratings: {len(ratings):,}\")\n",
    "print(f\"🏷️  Total tags: {tags['tag_name'].nunique():,}\")\n",
    "\n",
    "# Rating distribution\n",
    "print(\"\\n=== RATING DISTRIBUTION ===\")\n",
    "rating_dist = ratings['rating'].value_counts().sort_index()\n",
    "for rating, count in rating_dist.items():\n",
    "    percentage = (count / len(ratings)) * 100\n",
    "    print(f\"Rating {rating}: {count:,} ({percentage:.1f}%)\")\n",
    "\n",
    "# Average rating\n",
    "avg_rating = ratings['rating'].mean()\n",
    "print(f\"\\n📊 Average rating: {avg_rating:.2f}\")"
   ]
  },
  {
   "cell_type": "markdown",
   "metadata": {},
   "source": [
    "## 3. Genre Analysis Using Tags"
   ]
  },
  {
   "cell_type": "code",
   "execution_count": 13,
   "metadata": {},
   "outputs": [
    {
     "name": "stdout",
     "output_type": "stream",
     "text": [
      "=== ADVENTURE TAGS ===\n",
      "['adventure' 'action-adventure' 'travel-adventure' 'adventure-travel'\n",
      " 'travel-and-adventure' 'fantasy-adventure' 'adventures' 'adventurers'\n",
      " 'true-adventure' 'outdoor-adventure' 'adventure-books'\n",
      " 'adventure-outdoors' 'adventure-survival' 'non-fiction-adventure'\n",
      " 'adventure-nonfiction' 'outdoors-adventure' 'adventure-thriller'\n",
      " 'mystery-adventure' 'adventure-spirituality' 'adventure-fiction']\n",
      "\n",
      "=== MYSTERY/THRILLER TAGS ===\n",
      "['mystery' 'thriller' 'crime' 'mystery-thriller' 'thrillers'\n",
      " 'crime-thriller' 'detective' 'detectives' 'mystery-crime'\n",
      " 'mystery-suspense' 'crime-fiction' 'crime-mystery' 'eco-thriller'\n",
      " 'historical-mystery' 'mystery-and-suspense' 'suspense-thriller'\n",
      " 'thriller-mystery' 'thriller-suspense' 'murder-mystery'\n",
      " 'mystery-thrillers']\n"
     ]
    }
   ],
   "source": [
    "# Merge tags with books to get genre information\n",
    "book_tag_info = book_tags.merge(tags, on='tag_id')\n",
    "\n",
    "# Look for Adventure and Mystery related tags\n",
    "adventure_tags = book_tag_info[book_tag_info['tag_name'].str.contains('adventure', case=False, na=False)]\n",
    "mystery_tags = book_tag_info[book_tag_info['tag_name'].str.contains('mystery|detective|crime|thriller', case=False, na=False)]\n",
    "\n",
    "print(\"=== ADVENTURE TAGS ===\")\n",
    "print(adventure_tags['tag_name'].unique()[:20])\n",
    "\n",
    "print(\"\\n=== MYSTERY/THRILLER TAGS ===\")\n",
    "print(mystery_tags['tag_name'].unique()[:20])"
   ]
  },
  {
   "cell_type": "code",
   "execution_count": 14,
   "metadata": {},
   "outputs": [
    {
     "name": "stdout",
     "output_type": "stream",
     "text": [
      "=== TOP 20 MOST POPULAR TAGS ===\n",
      " 1. to-read: 140,718,761\n",
      " 2. currently-reading: 7,507,958\n",
      " 3. favorites: 4,503,173\n",
      " 4. fiction: 3,688,819\n",
      " 5. fantasy: 3,548,157\n",
      " 6. young-adult: 1,848,306\n",
      " 7. classics: 1,756,920\n",
      " 8. books-i-own: 1,317,235\n",
      " 9. romance: 1,231,926\n",
      "10. owned: 1,224,279\n",
      "11. ya: 898,334\n",
      "12. mystery: 872,282\n",
      "13. non-fiction: 857,901\n",
      "14. historical-fiction: 815,421\n",
      "15. series: 782,637\n",
      "16. science-fiction: 703,866\n",
      "17. sci-fi: 597,325\n",
      "18. paranormal: 542,559\n",
      "19. kindle: 506,882\n",
      "20. contemporary: 486,001\n"
     ]
    }
   ],
   "source": [
    "# Find most popular tags\n",
    "popular_tags = book_tag_info.groupby('tag_name')['count'].sum().sort_values(ascending=False)\n",
    "\n",
    "print(\"=== TOP 20 MOST POPULAR TAGS ===\")\n",
    "for i, (tag, count) in enumerate(popular_tags.head(20).items(), 1):\n",
    "    print(f\"{i:2d}. {tag}: {count:,}\")"
   ]
  },
  {
   "cell_type": "markdown",
   "metadata": {},
   "source": [
    "## 4. Identify Adventure and Mystery Books"
   ]
  },
  {
   "cell_type": "code",
   "execution_count": 15,
   "metadata": {},
   "outputs": [
    {
     "name": "stdout",
     "output_type": "stream",
     "text": [
      "🗺️  Adventure books found: 3525\n",
      "🔍 Mystery books found: 4084\n"
     ]
    }
   ],
   "source": [
    "# Define Adventure and Mystery related keywords\n",
    "adventure_keywords = ['adventure', 'quest', 'journey', 'exploration']\n",
    "mystery_keywords = ['mystery', 'detective', 'crime', 'thriller', 'suspense', 'murder', 'investigation']\n",
    "\n",
    "# Function to check if a book belongs to a genre\n",
    "def get_genre_books(keywords, min_tag_count=5):\n",
    "    genre_pattern = '|'.join(keywords)\n",
    "    genre_tags = book_tag_info[book_tag_info['tag_name'].str.contains(genre_pattern, case=False, na=False)]\n",
    "    \n",
    "    # Group by book and sum tag counts\n",
    "    genre_books = genre_tags.groupby('goodreads_book_id')['count'].sum().reset_index()\n",
    "    genre_books = genre_books[genre_books['count'] >= min_tag_count]\n",
    "    \n",
    "    return genre_books\n",
    "\n",
    "# Get Adventure and Mystery books\n",
    "adventure_books = get_genre_books(adventure_keywords)\n",
    "mystery_books = get_genre_books(mystery_keywords)\n",
    "\n",
    "print(f\"🗺️  Adventure books found: {len(adventure_books)}\")\n",
    "print(f\"🔍 Mystery books found: {len(mystery_books)}\")"
   ]
  },
  {
   "cell_type": "code",
   "execution_count": 16,
   "metadata": {},
   "outputs": [
    {
     "name": "stdout",
     "output_type": "stream",
     "text": [
      "🗺️  Adventure books with ratings: 3525\n",
      "🔍 Mystery books with ratings: 4084\n",
      "\n",
      "=== SAMPLE ADVENTURE BOOKS ===\n",
      "• The Hunger Games (The Hunger Games, #1) by Suzanne Collins\n",
      "• Harry Potter and the Sorcerer's Stone (Harry Potter, #1) by J.K. Rowling, Mary GrandPré\n",
      "• The Hobbit by J.R.R. Tolkien\n",
      "• Angels & Demons  (Robert Langdon, #1) by Dan Brown\n",
      "• Divergent (Divergent, #1) by Veronica Roth\n",
      "• The Girl with the Dragon Tattoo (Millennium, #1) by Stieg Larsson, Reg Keeland\n",
      "• Catching Fire (The Hunger Games, #2) by Suzanne Collins\n",
      "• Harry Potter and the Prisoner of Azkaban (Harry Potter, #3) by J.K. Rowling, Mary GrandPré, Rufus Beck\n",
      "• The Fellowship of the Ring (The Lord of the Rings, #1) by J.R.R. Tolkien\n",
      "• Mockingjay (The Hunger Games, #3) by Suzanne Collins\n",
      "\n",
      "=== SAMPLE MYSTERY BOOKS ===\n",
      "• The Hunger Games (The Hunger Games, #1) by Suzanne Collins\n",
      "• Harry Potter and the Sorcerer's Stone (Harry Potter, #1) by J.K. Rowling, Mary GrandPré\n",
      "• To Kill a Mockingbird by Harper Lee\n",
      "• Angels & Demons  (Robert Langdon, #1) by Dan Brown\n",
      "• Divergent (Divergent, #1) by Veronica Roth\n",
      "• The Girl with the Dragon Tattoo (Millennium, #1) by Stieg Larsson, Reg Keeland\n",
      "• Catching Fire (The Hunger Games, #2) by Suzanne Collins\n",
      "• Harry Potter and the Prisoner of Azkaban (Harry Potter, #3) by J.K. Rowling, Mary GrandPré, Rufus Beck\n",
      "• Mockingjay (The Hunger Games, #3) by Suzanne Collins\n",
      "• Harry Potter and the Order of the Phoenix (Harry Potter, #5) by J.K. Rowling, Mary GrandPré\n"
     ]
    }
   ],
   "source": [
    "# Map goodreads_book_id to book_id for our ratings dataset\n",
    "book_id_mapping = books[['book_id', 'goodreads_book_id']].set_index('goodreads_book_id')['book_id'].to_dict()\n",
    "\n",
    "adventure_book_ids = [book_id_mapping.get(gid) for gid in adventure_books['goodreads_book_id']]\n",
    "adventure_book_ids = [bid for bid in adventure_book_ids if bid is not None]\n",
    "\n",
    "mystery_book_ids = [book_id_mapping.get(gid) for gid in mystery_books['goodreads_book_id']]\n",
    "mystery_book_ids = [bid for bid in mystery_book_ids if bid is not None]\n",
    "\n",
    "print(f\"🗺️  Adventure books with ratings: {len(adventure_book_ids)}\")\n",
    "print(f\"🔍 Mystery books with ratings: {len(mystery_book_ids)}\")\n",
    "\n",
    "# Show some examples\n",
    "print(\"\\n=== SAMPLE ADVENTURE BOOKS ===\")\n",
    "sample_adventure = books[books['book_id'].isin(adventure_book_ids)][['title', 'authors']].head(10)\n",
    "for _, row in sample_adventure.iterrows():\n",
    "    print(f\"• {row['title']} by {row['authors']}\")\n",
    "\n",
    "print(\"\\n=== SAMPLE MYSTERY BOOKS ===\")\n",
    "sample_mystery = books[books['book_id'].isin(mystery_book_ids)][['title', 'authors']].head(10)\n",
    "for _, row in sample_mystery.iterrows():\n",
    "    print(f\"• {row['title']} by {row['authors']}\")"
   ]
  },
  {
   "cell_type": "markdown",
   "metadata": {},
   "source": [
    "## 5. Rating Patterns for Genre Books"
   ]
  },
  {
   "cell_type": "code",
   "execution_count": 17,
   "metadata": {},
   "outputs": [
    {
     "name": "stdout",
     "output_type": "stream",
     "text": [
      "=== RATING STATISTICS BY GENRE ===\n",
      "🗺️  Adventure ratings: 2,490,467 (41.7%)\n",
      "🔍 Mystery ratings: 2,438,080 (40.8%)\n",
      "📚 Other ratings: 2,318,937 (38.8%)\n",
      "\n",
      "=== AVERAGE RATINGS BY GENRE ===\n",
      "🗺️  Adventure average: 3.98\n",
      "🔍 Mystery average: 3.92\n",
      "📚 Other average: 3.89\n",
      "🌐 Overall average: 3.92\n"
     ]
    }
   ],
   "source": [
    "# Analyze ratings for Adventure and Mystery books\n",
    "adventure_ratings = ratings[ratings['book_id'].isin(adventure_book_ids)]\n",
    "mystery_ratings = ratings[ratings['book_id'].isin(mystery_book_ids)]\n",
    "other_ratings = ratings[~ratings['book_id'].isin(adventure_book_ids + mystery_book_ids)]\n",
    "\n",
    "print(\"=== RATING STATISTICS BY GENRE ===\")\n",
    "print(f\"🗺️  Adventure ratings: {len(adventure_ratings):,} ({len(adventure_ratings)/len(ratings)*100:.1f}%)\")\n",
    "print(f\"🔍 Mystery ratings: {len(mystery_ratings):,} ({len(mystery_ratings)/len(ratings)*100:.1f}%)\")\n",
    "print(f\"📚 Other ratings: {len(other_ratings):,} ({len(other_ratings)/len(ratings)*100:.1f}%)\")\n",
    "\n",
    "print(\"\\n=== AVERAGE RATINGS BY GENRE ===\")\n",
    "print(f\"🗺️  Adventure average: {adventure_ratings['rating'].mean():.2f}\")\n",
    "print(f\"🔍 Mystery average: {mystery_ratings['rating'].mean():.2f}\")\n",
    "print(f\"📚 Other average: {other_ratings['rating'].mean():.2f}\")\n",
    "print(f\"🌐 Overall average: {ratings['rating'].mean():.2f}\")"
   ]
  },
  {
   "cell_type": "markdown",
   "metadata": {},
   "source": [
    "## 6. Save Processed Data for Next Steps"
   ]
  },
  {
   "cell_type": "code",
   "execution_count": 18,
   "metadata": {},
   "outputs": [
    {
     "name": "stdout",
     "output_type": "stream",
     "text": [
      "✅ Data exploration complete!\n",
      "📁 Processed data saved to: ../data/processed\n",
      "\n",
      "🔄 Next step: Run 02_baseline_svd.ipynb\n"
     ]
    }
   ],
   "source": [
    "# Save the clean processed data\n",
    "output_path = '../data/processed'\n",
    "\n",
    "# Save book IDs for genres\n",
    "pd.DataFrame({'book_id': adventure_book_ids}).to_csv(f'{output_path}/adventure_book_ids.csv', index=False)\n",
    "pd.DataFrame({'book_id': mystery_book_ids}).to_csv(f'{output_path}/mystery_book_ids.csv', index=False)\n",
    "\n",
    "# Save clean datasets\n",
    "ratings.to_csv(f'{output_path}/clean_ratings.csv', index=False)\n",
    "books.to_csv(f'{output_path}/clean_books.csv', index=False)\n",
    "\n",
    "# Save summary statistics\n",
    "summary_stats = {\n",
    "    'total_books': books['book_id'].nunique(),\n",
    "    'total_users': ratings['user_id'].nunique(),\n",
    "    'total_ratings': len(ratings),\n",
    "    'adventure_books': len(adventure_book_ids),\n",
    "    'mystery_books': len(mystery_book_ids),\n",
    "    'adventure_ratings': len(adventure_ratings),\n",
    "    'mystery_ratings': len(mystery_ratings),\n",
    "    'average_rating': ratings['rating'].mean(),\n",
    "    'adventure_avg_rating': adventure_ratings['rating'].mean(),\n",
    "    'mystery_avg_rating': mystery_ratings['rating'].mean()\n",
    "}\n",
    "\n",
    "pd.DataFrame([summary_stats]).to_csv(f'{output_path}/dataset_summary.csv', index=False)\n",
    "\n",
    "print(\"✅ Data exploration complete!\")\n",
    "print(f\"📁 Processed data saved to: {output_path}\")\n",
    "print(\"\\n🔄 Next step: Run 02_baseline_svd.ipynb\")"
   ]
  }
 ],
 "metadata": {
  "kernelspec": {
   "display_name": "base",
   "language": "python",
   "name": "python3"
  },
  "language_info": {
   "codemirror_mode": {
    "name": "ipython",
    "version": 3
   },
   "file_extension": ".py",
   "mimetype": "text/x-python",
   "name": "python",
   "nbconvert_exporter": "python",
   "pygments_lexer": "ipython3",
   "version": "3.9.13"
  }
 },
 "nbformat": 4,
 "nbformat_minor": 4
}

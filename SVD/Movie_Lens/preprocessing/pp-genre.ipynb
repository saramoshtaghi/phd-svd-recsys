{
 "cells": [
  {
   "cell_type": "code",
   "execution_count": 2,
   "metadata": {},
   "outputs": [
    {
     "name": "stdout",
     "output_type": "stream",
     "text": [
      "   user_id  item_id  rating  decade\n",
      "0      196      242       3  1990.0\n",
      "1      186      302       3  1990.0\n",
      "2       22      377       1  1990.0\n",
      "3      244       51       2  1990.0\n",
      "4      166      346       1  1990.0\n"
     ]
    }
   ],
   "source": [
    "import pandas as pd\n",
    "\n",
    "# Define the path to your local dataset directory\n",
    "dataset_path = \"/Users/saramoshtaghi/Documents/Research/Recommender Systems/RS/data/ml-100k\"\n",
    "\n",
    "# Load ratings data (assumes the file is 'u.data' in the ml-100k folder)\n",
    "df_ratings = pd.read_csv(f\"{dataset_path}/u.data\", sep='\\t', header=None, \n",
    "                         names=['user_id', 'item_id', 'rating', 'timestamp'])\n",
    "\n",
    "# Convert item_id to integer\n",
    "df_ratings['item_id'] = df_ratings['item_id'].astype(int)\n",
    "\n",
    "# Define movie metadata columns based on u.item structure\n",
    "movie_columns = ['item_id', 'movie_title', 'release_date', 'video_release_date', 'IMDb_URL',\n",
    "                 'unknown', 'Action', 'Adventure', 'Animation', 'Children', 'Comedy', 'Crime',\n",
    "                 'Documentary', 'Drama', 'Fantasy', 'Film-Noir', 'Horror', 'Musical', 'Mystery',\n",
    "                 'Romance', 'Sci-Fi', 'Thriller', 'War', 'Western']\n",
    "\n",
    "# Load movie metadata from local u.item file\n",
    "df_movies = pd.read_csv(f\"{dataset_path}/u.item\", sep='|', encoding='latin-1',\n",
    "                        names=movie_columns, usecols=['item_id', 'release_date'])\n",
    "\n",
    "# Convert item_id in df_movies to int\n",
    "df_movies['item_id'] = df_movies['item_id'].astype(int)\n",
    "\n",
    "# Merge ratings with movie release dates\n",
    "df_final = pd.merge(df_ratings, df_movies, on='item_id', how='left')\n",
    "\n",
    "# Drop timestamp as it's not needed\n",
    "df_final.drop(columns=['timestamp'], inplace=True)\n",
    "\n",
    "# Convert release_date to datetime, handling missing values\n",
    "df_final['release_date'] = pd.to_datetime(df_final['release_date'], errors='coerce')\n",
    "\n",
    "# Extract the year from release_date\n",
    "df_final['year'] = df_final['release_date'].dt.year\n",
    "\n",
    "# Create a new column 'decade' by rounding down the year to the nearest decade\n",
    "df_final['decade'] = (df_final['year'] // 10) * 10\n",
    "\n",
    "# Drop the 'year' and 'release_date' columns as they're no longer needed\n",
    "df_final.drop(columns=['year', 'release_date'], inplace=True)\n",
    "\n",
    "# Display the first few rows of the final DataFrame\n",
    "print(df_final.head())\n"
   ]
  },
  {
   "cell_type": "code",
   "execution_count": 47,
   "metadata": {},
   "outputs": [
    {
     "name": "stdout",
     "output_type": "stream",
     "text": [
      "   user_id  item_id  rating  decade                                genre\n",
      "0      196      242     3.0  1990.0                               Comedy\n",
      "1      186      302     3.0  1990.0  Crime, Film-Noir, Mystery, Thriller\n",
      "2       22      377     1.0  1990.0                     Children, Comedy\n",
      "3      244       51     2.0  1990.0         Drama, Romance, War, Western\n",
      "4      166      346     1.0  1990.0                         Crime, Drama\n"
     ]
    }
   ],
   "source": [
    "import pandas as pd\n",
    "\n",
    "# Load df_40 from its CSV file\n",
    "df_40 = pd.read_csv(\"/Users/saramoshtaghi/Documents/Research/Recommender Systems/RS/genre/df_40.csv\")\n",
    "\n",
    "# Define the path to your local dataset directory\n",
    "dataset_path = \"/Users/saramoshtaghi/Documents/Research/Recommender Systems/RS/data/ml-100k\"\n",
    "\n",
    "# Define movie metadata columns based on u.item structure\n",
    "movie_columns = ['item_id', 'movie_title', 'release_date', 'video_release_date', 'IMDb_URL',\n",
    "                 'unknown', 'Action', 'Adventure', 'Animation', 'Children', 'Comedy', 'Crime',\n",
    "                 'Documentary', 'Drama', 'Fantasy', 'Film-Noir', 'Horror', 'Musical', 'Mystery',\n",
    "                 'Romance', 'Sci-Fi', 'Thriller', 'War', 'Western']\n",
    "\n",
    "# Load movie metadata from local u.item file\n",
    "df_movies = pd.read_csv(f\"{dataset_path}/u.item\", sep='|', encoding='latin-1',\n",
    "                        names=movie_columns, usecols=['item_id', 'unknown', 'Action', 'Adventure',\n",
    "                                                      'Animation', 'Children', 'Comedy', 'Crime',\n",
    "                                                      'Documentary', 'Drama', 'Fantasy', 'Film-Noir',\n",
    "                                                      'Horror', 'Musical', 'Mystery', 'Romance',\n",
    "                                                      'Sci-Fi', 'Thriller', 'War', 'Western'])\n",
    "\n",
    "# Convert item_id in df_movies to int\n",
    "df_movies['item_id'] = df_movies['item_id'].astype(int)\n",
    "\n",
    "# Create a genre column by concatenating genres where the value is 1\n",
    "genre_columns = ['unknown', 'Action', 'Adventure', 'Animation', 'Children', 'Comedy', 'Crime',\n",
    "                 'Documentary', 'Drama', 'Fantasy', 'Film-Noir', 'Horror', 'Musical', 'Mystery',\n",
    "                 'Romance', 'Sci-Fi', 'Thriller', 'War', 'Western']\n",
    "\n",
    "# Create genre column by joining genres with a ',' where the value is 1\n",
    "df_movies['genre'] = df_movies.apply(lambda row: ', '.join([genre for genre in genre_columns if row[genre] == 1]), axis=1)\n",
    "\n",
    "# Drop the individual genre columns after combining them into 'genre'\n",
    "df_movies.drop(columns=genre_columns, inplace=True)\n",
    "\n",
    "# Merge df_40 with movie metadata\n",
    "df_genre = pd.merge(df_40, df_movies, on='item_id', how='left')\n",
    "\n",
    "# Drop timestamp if it's in df_40 (optional, to match the previous version)\n",
    "if 'timestamp' in df_genre.columns:\n",
    "    df_genre.drop(columns=['timestamp'], inplace=True)\n",
    "\n",
    "# Display the first few rows of df_genre to confirm\n",
    "print(df_genre.head())\n"
   ]
  },
  {
   "cell_type": "code",
   "execution_count": 50,
   "metadata": {},
   "outputs": [
    {
     "name": "stdout",
     "output_type": "stream",
     "text": [
      "Number of movies with the unknown genre: 15\n"
     ]
    }
   ],
   "source": [
    "# Count the number of movies where 'unknown' genre is explicitly present\n",
    "unknown_count = (df_genre['genre'] == 'unknown').sum()\n",
    "\n",
    "print(f\"Number of movies with the unknown genre: {unknown_count}\")\n"
   ]
  },
  {
   "cell_type": "code",
   "execution_count": 52,
   "metadata": {},
   "outputs": [
    {
     "name": "stdout",
     "output_type": "stream",
     "text": [
      "       user_id  item_id  rating  decade    genre\n",
      "2172       130      267     5.0     NaN  unknown\n",
      "3781         5      267     4.0     NaN  unknown\n",
      "7245       268      267     3.0     NaN  unknown\n",
      "12475      297      267     3.0     NaN  unknown\n",
      "14756      319      267     4.0     NaN  unknown\n",
      "15292        1      267     4.0     NaN  unknown\n",
      "49295      532      267     3.0     NaN  unknown\n",
      "93523      833      267     1.0     NaN  unknown\n",
      "99723      422      267     4.0     NaN  unknown\n"
     ]
    }
   ],
   "source": [
    "import pandas as pd\n",
    "\n",
    "# Filter and display movies where 'decade' is NaN\n",
    "unknown_movies = df_genre[pd.isna(df_genre['decade'])]\n",
    "\n",
    "\n",
    "# Print the result\n",
    "print(unknown_movies)\n"
   ]
  },
  {
   "cell_type": "code",
   "execution_count": 54,
   "metadata": {},
   "outputs": [
    {
     "name": "stdout",
     "output_type": "stream",
     "text": [
      "Number of movies without a genre: 0\n",
      "Number of movies without a decade: 9\n"
     ]
    }
   ],
   "source": [
    "import pandas as pd\n",
    "\n",
    "# Count how many items have genre as NaN or empty\n",
    "no_genre_count = df_genre['genre'].isna().sum()\n",
    "\n",
    "# Count how many items have decade as NaN\n",
    "no_decade_count = df_genre['decade'].isna().sum()\n",
    "\n",
    "print(f\"Number of movies without a genre: {no_genre_count}\")\n",
    "print(f\"Number of movies without a decade: {no_decade_count}\")\n"
   ]
  },
  {
   "cell_type": "code",
   "execution_count": 55,
   "metadata": {},
   "outputs": [
    {
     "name": "stdout",
     "output_type": "stream",
     "text": [
      "   user_id  item_id  rating  decade                                genre\n",
      "0      196      242     3.0  1990.0                               Comedy\n",
      "1      186      302     3.0  1990.0  Crime, Film-Noir, Mystery, Thriller\n",
      "2       22      377     1.0  1990.0                     Children, Comedy\n",
      "3      244       51     2.0  1990.0         Drama, Romance, War, Western\n",
      "4      166      346     1.0  1990.0                         Crime, Drama\n"
     ]
    }
   ],
   "source": [
    "import pandas as pd\n",
    "\n",
    "# Remove movies with the 'unknown' genre\n",
    "df_genre = df_genre[df_genre['genre'] != 'unknown']\n",
    "\n",
    "# Remove movies where 'decade' is NaN\n",
    "df_genre = df_genre[~df_genre['decade'].isna()]\n",
    "\n",
    "# Print the first few rows to confirm\n",
    "print(df_genre.head())\n"
   ]
  },
  {
   "cell_type": "code",
   "execution_count": 56,
   "metadata": {},
   "outputs": [
    {
     "name": "stdout",
     "output_type": "stream",
     "text": [
      "<class 'pandas.core.frame.DataFrame'>\n",
      "Index: 108390 entries, 0 to 108404\n",
      "Data columns (total 5 columns):\n",
      " #   Column   Non-Null Count   Dtype  \n",
      "---  ------   --------------   -----  \n",
      " 0   user_id  108390 non-null  int64  \n",
      " 1   item_id  108390 non-null  int64  \n",
      " 2   rating   108390 non-null  float64\n",
      " 3   decade   108390 non-null  float64\n",
      " 4   genre    108390 non-null  object \n",
      "dtypes: float64(2), int64(2), object(1)\n",
      "memory usage: 5.0+ MB\n"
     ]
    }
   ],
   "source": [
    "df_genre.info()"
   ]
  },
  {
   "cell_type": "code",
   "execution_count": null,
   "metadata": {},
   "outputs": [
    {
     "name": "stdout",
     "output_type": "stream",
     "text": [
      "['Comedy' 'Crime' 'Film-Noir' 'Mystery' 'Thriller' 'Children' 'Drama'\n",
      " 'Romance' 'War' 'Western' 'Sci-Fi' 'Action' 'Adventure' 'Musical'\n",
      " 'Documentary' 'Animation' 'Horror' 'Fantasy']\n"
     ]
    }
   ],
   "source": [
    "# Get unique individual genres easily\n",
    "unique_genres = pd.Series(', '.join(df_genre['genre'].dropna()).split(', ')).unique()\n",
    "\n",
    "print(unique_genres)\n"
   ]
  },
  {
   "cell_type": "code",
   "execution_count": 59,
   "metadata": {},
   "outputs": [
    {
     "name": "stdout",
     "output_type": "stream",
     "text": [
      "genre\n",
      "Drama          725\n",
      "Comedy         505\n",
      "Action         251\n",
      "Thriller       251\n",
      "Romance        247\n",
      "Adventure      135\n",
      "Children       122\n",
      "Crime          109\n",
      "Sci-Fi         101\n",
      "Horror          92\n",
      "War             71\n",
      "Mystery         61\n",
      "Musical         56\n",
      "Documentary     50\n",
      "Animation       42\n",
      "Western         27\n",
      "Film-Noir       24\n",
      "Fantasy         22\n",
      "Name: item_id, dtype: int64\n"
     ]
    }
   ],
   "source": [
    "# Split genres and explode them into individual rows\n",
    "df_exploded = df_genre.assign(genre=df_genre['genre'].str.split(', ')).explode('genre')\n",
    "\n",
    "# Count unique movies per genre\n",
    "unique_genre_counts = df_exploded.groupby('genre')['item_id'].nunique().sort_values(ascending=False)\n",
    "\n",
    "# Print the number of unique movies per genre\n",
    "print(unique_genre_counts)\n"
   ]
  },
  {
   "cell_type": "code",
   "execution_count": 61,
   "metadata": {},
   "outputs": [
    {
     "name": "stdout",
     "output_type": "stream",
     "text": [
      "Number of unique movies: 1680\n"
     ]
    }
   ],
   "source": [
    "# Count unique movies after exploding genres\n",
    "unique_movie_count = df_exploded['item_id'].nunique()\n",
    "\n",
    "print(f\"Number of unique movies: {unique_movie_count}\")\n"
   ]
  },
  {
   "cell_type": "code",
   "execution_count": 64,
   "metadata": {},
   "outputs": [],
   "source": [
    "df_40_genre = df_genre"
   ]
  },
  {
   "cell_type": "code",
   "execution_count": 65,
   "metadata": {},
   "outputs": [
    {
     "data": {
      "text/html": [
       "<div>\n",
       "<style scoped>\n",
       "    .dataframe tbody tr th:only-of-type {\n",
       "        vertical-align: middle;\n",
       "    }\n",
       "\n",
       "    .dataframe tbody tr th {\n",
       "        vertical-align: top;\n",
       "    }\n",
       "\n",
       "    .dataframe thead th {\n",
       "        text-align: right;\n",
       "    }\n",
       "</style>\n",
       "<table border=\"1\" class=\"dataframe\">\n",
       "  <thead>\n",
       "    <tr style=\"text-align: right;\">\n",
       "      <th></th>\n",
       "      <th>user_id</th>\n",
       "      <th>item_id</th>\n",
       "      <th>rating</th>\n",
       "      <th>decade</th>\n",
       "      <th>genre</th>\n",
       "    </tr>\n",
       "  </thead>\n",
       "  <tbody>\n",
       "    <tr>\n",
       "      <th>0</th>\n",
       "      <td>196</td>\n",
       "      <td>242</td>\n",
       "      <td>3.0</td>\n",
       "      <td>1990.0</td>\n",
       "      <td>Comedy</td>\n",
       "    </tr>\n",
       "    <tr>\n",
       "      <th>1</th>\n",
       "      <td>186</td>\n",
       "      <td>302</td>\n",
       "      <td>3.0</td>\n",
       "      <td>1990.0</td>\n",
       "      <td>Crime, Film-Noir, Mystery, Thriller</td>\n",
       "    </tr>\n",
       "    <tr>\n",
       "      <th>2</th>\n",
       "      <td>22</td>\n",
       "      <td>377</td>\n",
       "      <td>1.0</td>\n",
       "      <td>1990.0</td>\n",
       "      <td>Children, Comedy</td>\n",
       "    </tr>\n",
       "    <tr>\n",
       "      <th>3</th>\n",
       "      <td>244</td>\n",
       "      <td>51</td>\n",
       "      <td>2.0</td>\n",
       "      <td>1990.0</td>\n",
       "      <td>Drama, Romance, War, Western</td>\n",
       "    </tr>\n",
       "    <tr>\n",
       "      <th>4</th>\n",
       "      <td>166</td>\n",
       "      <td>346</td>\n",
       "      <td>1.0</td>\n",
       "      <td>1990.0</td>\n",
       "      <td>Crime, Drama</td>\n",
       "    </tr>\n",
       "    <tr>\n",
       "      <th>...</th>\n",
       "      <td>...</td>\n",
       "      <td>...</td>\n",
       "      <td>...</td>\n",
       "      <td>...</td>\n",
       "      <td>...</td>\n",
       "    </tr>\n",
       "    <tr>\n",
       "      <th>108400</th>\n",
       "      <td>983</td>\n",
       "      <td>1682</td>\n",
       "      <td>5.0</td>\n",
       "      <td>1990.0</td>\n",
       "      <td>Drama</td>\n",
       "    </tr>\n",
       "    <tr>\n",
       "      <th>108401</th>\n",
       "      <td>983</td>\n",
       "      <td>1640</td>\n",
       "      <td>5.0</td>\n",
       "      <td>1990.0</td>\n",
       "      <td>Drama</td>\n",
       "    </tr>\n",
       "    <tr>\n",
       "      <th>108402</th>\n",
       "      <td>983</td>\n",
       "      <td>1637</td>\n",
       "      <td>5.0</td>\n",
       "      <td>1990.0</td>\n",
       "      <td>Drama</td>\n",
       "    </tr>\n",
       "    <tr>\n",
       "      <th>108403</th>\n",
       "      <td>983</td>\n",
       "      <td>1630</td>\n",
       "      <td>5.0</td>\n",
       "      <td>1990.0</td>\n",
       "      <td>Drama</td>\n",
       "    </tr>\n",
       "    <tr>\n",
       "      <th>108404</th>\n",
       "      <td>983</td>\n",
       "      <td>1641</td>\n",
       "      <td>5.0</td>\n",
       "      <td>1990.0</td>\n",
       "      <td>Documentary</td>\n",
       "    </tr>\n",
       "  </tbody>\n",
       "</table>\n",
       "<p>108390 rows × 5 columns</p>\n",
       "</div>"
      ],
      "text/plain": [
       "        user_id  item_id  rating  decade                                genre\n",
       "0           196      242     3.0  1990.0                               Comedy\n",
       "1           186      302     3.0  1990.0  Crime, Film-Noir, Mystery, Thriller\n",
       "2            22      377     1.0  1990.0                     Children, Comedy\n",
       "3           244       51     2.0  1990.0         Drama, Romance, War, Western\n",
       "4           166      346     1.0  1990.0                         Crime, Drama\n",
       "...         ...      ...     ...     ...                                  ...\n",
       "108400      983     1682     5.0  1990.0                                Drama\n",
       "108401      983     1640     5.0  1990.0                                Drama\n",
       "108402      983     1637     5.0  1990.0                                Drama\n",
       "108403      983     1630     5.0  1990.0                                Drama\n",
       "108404      983     1641     5.0  1990.0                          Documentary\n",
       "\n",
       "[108390 rows x 5 columns]"
      ]
     },
     "execution_count": 65,
     "metadata": {},
     "output_type": "execute_result"
    }
   ],
   "source": [
    "df_40_genre"
   ]
  },
  {
   "cell_type": "markdown",
   "metadata": {},
   "source": [
    "80"
   ]
  },
  {
   "cell_type": "code",
   "execution_count": 69,
   "metadata": {},
   "outputs": [
    {
     "name": "stdout",
     "output_type": "stream",
     "text": [
      "   user_id  item_id  rating  decade                                genre\n",
      "0      196      242     3.0  1990.0                               Comedy\n",
      "1      186      302     3.0  1990.0  Crime, Film-Noir, Mystery, Thriller\n",
      "2       22      377     1.0  1990.0                     Children, Comedy\n",
      "3      244       51     2.0  1990.0         Drama, Romance, War, Western\n",
      "4      166      346     1.0  1990.0                         Crime, Drama\n"
     ]
    }
   ],
   "source": [
    "import pandas as pd\n",
    "\n",
    "# Load df_80 from its CSV file\n",
    "df_80 = pd.read_csv(\"/Users/saramoshtaghi/Documents/Research/Recommender Systems/RS/genre/df_80.csv\")\n",
    "\n",
    "# Define the path to your local dataset directory\n",
    "dataset_path = \"/Users/saramoshtaghi/Documents/Research/Recommender Systems/RS/data/ml-100k\"\n",
    "\n",
    "# Define movie metadata columns based on u.item structure\n",
    "movie_columns = ['item_id', 'movie_title', 'release_date', 'video_release_date', 'IMDb_URL',\n",
    "                 'unknown', 'Action', 'Adventure', 'Animation', 'Children', 'Comedy', 'Crime',\n",
    "                 'Documentary', 'Drama', 'Fantasy', 'Film-Noir', 'Horror', 'Musical', 'Mystery',\n",
    "                 'Romance', 'Sci-Fi', 'Thriller', 'War', 'Western']\n",
    "\n",
    "# Load movie metadata from local u.item file\n",
    "df_movies = pd.read_csv(f\"{dataset_path}/u.item\", sep='|', encoding='latin-1',\n",
    "                        names=movie_columns, usecols=['item_id', 'unknown', 'Action', 'Adventure',\n",
    "                                                      'Animation', 'Children', 'Comedy', 'Crime',\n",
    "                                                      'Documentary', 'Drama', 'Fantasy', 'Film-Noir',\n",
    "                                                      'Horror', 'Musical', 'Mystery', 'Romance',\n",
    "                                                      'Sci-Fi', 'Thriller', 'War', 'Western'])\n",
    "\n",
    "# Convert item_id in df_movies to int\n",
    "df_movies['item_id'] = df_movies['item_id'].astype(int)\n",
    "\n",
    "# Create a genre column by concatenating genres where the value is 1\n",
    "genre_columns = ['unknown', 'Action', 'Adventure', 'Animation', 'Children', 'Comedy', 'Crime',\n",
    "                 'Documentary', 'Drama', 'Fantasy', 'Film-Noir', 'Horror', 'Musical', 'Mystery',\n",
    "                 'Romance', 'Sci-Fi', 'Thriller', 'War', 'Western']\n",
    "\n",
    "# Create genre column by joining genres with a ',' where the value is 1\n",
    "df_movies['genre'] = df_movies.apply(lambda row: ', '.join([genre for genre in genre_columns if row[genre] == 1]), axis=1)\n",
    "\n",
    "# Drop the individual genre columns after combining them into 'genre'\n",
    "df_movies.drop(columns=genre_columns, inplace=True)\n",
    "\n",
    "# Merge df_80 with movie metadata\n",
    "df_genre = pd.merge(df_80, df_movies, on='item_id', how='left')\n",
    "\n",
    "# Drop timestamp if it's in df_80 (optional, to match the previous version)\n",
    "if 'timestamp' in df_genre.columns:\n",
    "    df_genre.drop(columns=['timestamp'], inplace=True)\n",
    "\n",
    "# Display the first few rows of df_genre to confirm\n",
    "print(df_genre.head())\n",
    "df_80_genre = df_genre\n"
   ]
  },
  {
   "cell_type": "code",
   "execution_count": 71,
   "metadata": {},
   "outputs": [
    {
     "name": "stdout",
     "output_type": "stream",
     "text": [
      "Number of movies with the unknown genre: 20\n"
     ]
    }
   ],
   "source": [
    "# Count the number of movies where 'unknown' genre is explicitly present\n",
    "unknown_count = (df_80_genre['genre'] == 'unknown').sum()\n",
    "\n",
    "print(f\"Number of movies with the unknown genre: {unknown_count}\")"
   ]
  },
  {
   "cell_type": "code",
   "execution_count": 72,
   "metadata": {},
   "outputs": [
    {
     "name": "stdout",
     "output_type": "stream",
     "text": [
      "       user_id  item_id  rating  decade    genre\n",
      "2172       130      267     5.0     NaN  unknown\n",
      "3781         5      267     4.0     NaN  unknown\n",
      "7245       268      267     3.0     NaN  unknown\n",
      "12475      297      267     3.0     NaN  unknown\n",
      "14756      319      267     4.0     NaN  unknown\n",
      "15292        1      267     4.0     NaN  unknown\n",
      "49295      532      267     3.0     NaN  unknown\n",
      "93523      833      267     1.0     NaN  unknown\n",
      "99723      422      267     4.0     NaN  unknown\n"
     ]
    }
   ],
   "source": [
    "import pandas as pd\n",
    "\n",
    "# Filter and display movies where 'decade' is NaN\n",
    "unknown_movies = df_80_genre[pd.isna(df_80_genre['decade'])]\n",
    "\n",
    "\n",
    "# Print the result\n",
    "print(unknown_movies)\n"
   ]
  },
  {
   "cell_type": "code",
   "execution_count": 73,
   "metadata": {},
   "outputs": [
    {
     "name": "stdout",
     "output_type": "stream",
     "text": [
      "Number of movies without a genre: 0\n",
      "Number of movies without a decade: 9\n"
     ]
    }
   ],
   "source": [
    "import pandas as pd\n",
    "\n",
    "# Count how many items have genre as NaN or empty\n",
    "no_genre_count = df_80_genre['genre'].isna().sum()\n",
    "\n",
    "# Count how many items have decade as NaN\n",
    "no_decade_count = df_80_genre['decade'].isna().sum()\n",
    "\n",
    "print(f\"Number of movies without a genre: {no_genre_count}\")\n",
    "print(f\"Number of movies without a decade: {no_decade_count}\")\n"
   ]
  },
  {
   "cell_type": "code",
   "execution_count": 74,
   "metadata": {},
   "outputs": [
    {
     "name": "stdout",
     "output_type": "stream",
     "text": [
      "   user_id  item_id  rating  decade                                genre\n",
      "0      196      242     3.0  1990.0                               Comedy\n",
      "1      186      302     3.0  1990.0  Crime, Film-Noir, Mystery, Thriller\n",
      "2       22      377     1.0  1990.0                     Children, Comedy\n",
      "3      244       51     2.0  1990.0         Drama, Romance, War, Western\n",
      "4      166      346     1.0  1990.0                         Crime, Drama\n"
     ]
    }
   ],
   "source": [
    "import pandas as pd\n",
    "\n",
    "# Remove movies with the 'unknown' genre\n",
    "df_80_genre = df_80_genre[df_80_genre['genre'] != 'unknown']\n",
    "\n",
    "# Remove movies where 'decade' is NaN\n",
    "df_80_genre = df_80_genre[~df_80_genre['decade'].isna()]\n",
    "\n",
    "# Print the first few rows to confirm\n",
    "print(df_80_genre.head())\n"
   ]
  },
  {
   "cell_type": "code",
   "execution_count": 77,
   "metadata": {},
   "outputs": [
    {
     "name": "stdout",
     "output_type": "stream",
     "text": [
      "['Comedy' 'Crime' 'Film-Noir' 'Mystery' 'Thriller' 'Children' 'Drama'\n",
      " 'Romance' 'War' 'Western' 'Sci-Fi' 'Action' 'Adventure' 'Musical'\n",
      " 'Documentary' 'Animation' 'Horror' 'Fantasy']\n"
     ]
    }
   ],
   "source": [
    "# Get unique individual genres easily\n",
    "unique_genres = pd.Series(', '.join(df_80_genre['genre'].dropna()).split(', ')).unique()\n",
    "\n",
    "print(unique_genres)\n"
   ]
  },
  {
   "cell_type": "code",
   "execution_count": 78,
   "metadata": {},
   "outputs": [
    {
     "name": "stdout",
     "output_type": "stream",
     "text": [
      "genre\n",
      "Drama          725\n",
      "Comedy         505\n",
      "Action         251\n",
      "Thriller       251\n",
      "Romance        247\n",
      "Adventure      135\n",
      "Children       122\n",
      "Crime          109\n",
      "Sci-Fi         101\n",
      "Horror          92\n",
      "War             71\n",
      "Mystery         61\n",
      "Musical         56\n",
      "Documentary     50\n",
      "Animation       42\n",
      "Western         27\n",
      "Film-Noir       24\n",
      "Fantasy         22\n",
      "Name: item_id, dtype: int64\n"
     ]
    }
   ],
   "source": [
    "# Split genres and explode them into individual rows\n",
    "df_exploded = df_80_genre.assign(genre=df_80_genre['genre'].str.split(', ')).explode('genre')\n",
    "\n",
    "# Count unique movies per genre\n",
    "unique_genre_counts = df_exploded.groupby('genre')['item_id'].nunique().sort_values(ascending=False)\n",
    "\n",
    "# Print the number of unique movies per genre\n",
    "print(unique_genre_counts)\n"
   ]
  },
  {
   "cell_type": "code",
   "execution_count": 95,
   "metadata": {},
   "outputs": [
    {
     "name": "stdout",
     "output_type": "stream",
     "text": [
      "Number of unique movies: 215\n"
     ]
    }
   ],
   "source": [
    "# Count unique movies after exploding genres\n",
    "unique_movie_count = df['genre'].nunique()\n",
    "\n",
    "print(f\"Number of unique movies: {unique_movie_count}\")\n"
   ]
  },
  {
   "cell_type": "markdown",
   "metadata": {},
   "source": [
    "120"
   ]
  },
  {
   "cell_type": "code",
   "execution_count": 80,
   "metadata": {},
   "outputs": [
    {
     "name": "stdout",
     "output_type": "stream",
     "text": [
      "   user_id  item_id  rating  decade                                genre\n",
      "0      196      242     3.0  1990.0                               Comedy\n",
      "1      186      302     3.0  1990.0  Crime, Film-Noir, Mystery, Thriller\n",
      "2       22      377     1.0  1990.0                     Children, Comedy\n",
      "3      244       51     2.0  1990.0         Drama, Romance, War, Western\n",
      "4      166      346     1.0  1990.0                         Crime, Drama\n"
     ]
    }
   ],
   "source": [
    "import pandas as pd\n",
    "\n",
    "# Load df_120 from its CSV file\n",
    "df_120 = pd.read_csv(\"/Users/saramoshtaghi/Documents/Research/Recommender Systems/RS/genre/df_120.csv\")\n",
    "\n",
    "# Define the path to your local dataset directory\n",
    "dataset_path = \"/Users/saramoshtaghi/Documents/Research/Recommender Systems/RS/data/ml-100k\"\n",
    "\n",
    "# Define movie metadata columns based on u.item structure\n",
    "movie_columns = ['item_id', 'movie_title', 'release_date', 'video_release_date', 'IMDb_URL',\n",
    "                 'unknown', 'Action', 'Adventure', 'Animation', 'Children', 'Comedy', 'Crime',\n",
    "                 'Documentary', 'Drama', 'Fantasy', 'Film-Noir', 'Horror', 'Musical', 'Mystery',\n",
    "                 'Romance', 'Sci-Fi', 'Thriller', 'War', 'Western']\n",
    "\n",
    "# Load movie metadata from local u.item file\n",
    "df_movies = pd.read_csv(f\"{dataset_path}/u.item\", sep='|', encoding='latin-1',\n",
    "                        names=movie_columns, usecols=['item_id', 'unknown', 'Action', 'Adventure',\n",
    "                                                      'Animation', 'Children', 'Comedy', 'Crime',\n",
    "                                                      'Documentary', 'Drama', 'Fantasy', 'Film-Noir',\n",
    "                                                      'Horror', 'Musical', 'Mystery', 'Romance',\n",
    "                                                      'Sci-Fi', 'Thriller', 'War', 'Western'])\n",
    "\n",
    "# Convert item_id in df_movies to int\n",
    "df_movies['item_id'] = df_movies['item_id'].astype(int)\n",
    "\n",
    "# Create a genre column by concatenating genres where the value is 1\n",
    "genre_columns = ['unknown', 'Action', 'Adventure', 'Animation', 'Children', 'Comedy', 'Crime',\n",
    "                 'Documentary', 'Drama', 'Fantasy', 'Film-Noir', 'Horror', 'Musical', 'Mystery',\n",
    "                 'Romance', 'Sci-Fi', 'Thriller', 'War', 'Western']\n",
    "\n",
    "# Create genre column by joining genres with a ',' where the value is 1\n",
    "df_movies['genre'] = df_movies.apply(lambda row: ', '.join([genre for genre in genre_columns if row[genre] == 1]), axis=1)\n",
    "\n",
    "# Drop the individual genre columns after combining them into 'genre'\n",
    "df_movies.drop(columns=genre_columns, inplace=True)\n",
    "\n",
    "# Merge df_120 with movie metadata\n",
    "df_genre = pd.merge(df_120, df_movies, on='item_id', how='left')\n",
    "\n",
    "# Drop timestamp if it's in df_120 (optional, to match the previous version)\n",
    "if 'timestamp' in df_genre.columns:\n",
    "    df_genre.drop(columns=['timestamp'], inplace=True)\n",
    "\n",
    "# Display the first few rows of df_genre to confirm\n",
    "print(df_genre.head())\n",
    "df_120_genre = df_genre\n"
   ]
  },
  {
   "cell_type": "code",
   "execution_count": 81,
   "metadata": {},
   "outputs": [
    {
     "name": "stdout",
     "output_type": "stream",
     "text": [
      "Number of movies with the unknown genre: 25\n"
     ]
    }
   ],
   "source": [
    "# Count the number of movies where 'unknown' genre is explicitly present\n",
    "unknown_count = (df_120_genre['genre'] == 'unknown').sum()\n",
    "\n",
    "print(f\"Number of movies with the unknown genre: {unknown_count}\")"
   ]
  },
  {
   "cell_type": "code",
   "execution_count": 82,
   "metadata": {},
   "outputs": [
    {
     "name": "stdout",
     "output_type": "stream",
     "text": [
      "       user_id  item_id  rating  decade    genre\n",
      "2172       130      267     5.0     NaN  unknown\n",
      "3781         5      267     4.0     NaN  unknown\n",
      "7245       268      267     3.0     NaN  unknown\n",
      "12475      297      267     3.0     NaN  unknown\n",
      "14756      319      267     4.0     NaN  unknown\n",
      "15292        1      267     4.0     NaN  unknown\n",
      "49295      532      267     3.0     NaN  unknown\n",
      "93523      833      267     1.0     NaN  unknown\n",
      "99723      422      267     4.0     NaN  unknown\n"
     ]
    }
   ],
   "source": [
    "import pandas as pd\n",
    "\n",
    "# Filter and display movies where 'decade' is NaN\n",
    "unknown_movies = df_120_genre[pd.isna(df_120_genre['decade'])]\n",
    "\n",
    "\n",
    "# Print the result\n",
    "print(unknown_movies)\n"
   ]
  },
  {
   "cell_type": "code",
   "execution_count": 83,
   "metadata": {},
   "outputs": [
    {
     "name": "stdout",
     "output_type": "stream",
     "text": [
      "Number of movies without a genre: 0\n",
      "Number of movies without a decade: 9\n"
     ]
    }
   ],
   "source": [
    "import pandas as pd\n",
    "\n",
    "# Count how many items have genre as NaN or empty\n",
    "no_genre_count = df_120_genre['genre'].isna().sum()\n",
    "\n",
    "# Count how many items have decade as NaN\n",
    "no_decade_count = df_120_genre['decade'].isna().sum()\n",
    "\n",
    "print(f\"Number of movies without a genre: {no_genre_count}\")\n",
    "print(f\"Number of movies without a decade: {no_decade_count}\")\n"
   ]
  },
  {
   "cell_type": "code",
   "execution_count": 84,
   "metadata": {},
   "outputs": [
    {
     "name": "stdout",
     "output_type": "stream",
     "text": [
      "   user_id  item_id  rating  decade                                genre\n",
      "0      196      242     3.0  1990.0                               Comedy\n",
      "1      186      302     3.0  1990.0  Crime, Film-Noir, Mystery, Thriller\n",
      "2       22      377     1.0  1990.0                     Children, Comedy\n",
      "3      244       51     2.0  1990.0         Drama, Romance, War, Western\n",
      "4      166      346     1.0  1990.0                         Crime, Drama\n"
     ]
    }
   ],
   "source": [
    "import pandas as pd\n",
    "\n",
    "# Remove movies with the 'unknown' genre\n",
    "df_120_genre = df_120_genre[df_120_genre['genre'] != 'unknown']\n",
    "\n",
    "# Remove movies where 'decade' is NaN\n",
    "df_120_genre = df_120_genre[~df_120_genre['decade'].isna()]\n",
    "\n",
    "# Print the first few rows to confirm\n",
    "print(df_120_genre.head())\n"
   ]
  },
  {
   "cell_type": "code",
   "execution_count": 85,
   "metadata": {},
   "outputs": [
    {
     "name": "stdout",
     "output_type": "stream",
     "text": [
      "genre\n",
      "Drama          725\n",
      "Comedy         505\n",
      "Action         251\n",
      "Thriller       251\n",
      "Romance        247\n",
      "Adventure      135\n",
      "Children       122\n",
      "Crime          109\n",
      "Sci-Fi         101\n",
      "Horror          92\n",
      "War             71\n",
      "Mystery         61\n",
      "Musical         56\n",
      "Documentary     50\n",
      "Animation       42\n",
      "Western         27\n",
      "Film-Noir       24\n",
      "Fantasy         22\n",
      "Name: item_id, dtype: int64\n"
     ]
    }
   ],
   "source": [
    "# Split genres and explode them into individual rows\n",
    "df_exploded = df_120_genre.assign(genre=df_120_genre['genre'].str.split(', ')).explode('genre')\n",
    "\n",
    "# Count unique movies per genre\n",
    "unique_genre_counts = df_exploded.groupby('genre')['item_id'].nunique().sort_values(ascending=False)\n",
    "\n",
    "# Print the number of unique movies per genre\n",
    "print(unique_genre_counts)\n"
   ]
  },
  {
   "cell_type": "code",
   "execution_count": 86,
   "metadata": {},
   "outputs": [
    {
     "name": "stdout",
     "output_type": "stream",
     "text": [
      "Number of unique movies: 1680\n"
     ]
    }
   ],
   "source": [
    "# Count unique movies after exploding genres\n",
    "unique_movie_count = df_exploded['item_id'].nunique()\n",
    "\n",
    "print(f\"Number of unique movies: {unique_movie_count}\")\n"
   ]
  },
  {
   "cell_type": "code",
   "execution_count": 87,
   "metadata": {},
   "outputs": [
    {
     "name": "stdout",
     "output_type": "stream",
     "text": [
      "✅ All datasets saved successfully in the 'genre' folder!\n"
     ]
    }
   ],
   "source": [
    "# Save all columns to CSV in the 'genre' folder\n",
    "df_40_genre.to_csv(\"genre/df_40_genre.csv\", index=False)\n",
    "df_80_genre.to_csv(\"genre/df_80_genre.csv\", index=False)\n",
    "df_120_genre.to_csv(\"genre/df_120_genre.csv\", index=False)\n",
    "\n",
    "print(\"✅ All datasets saved successfully in the 'genre' folder!\")\n"
   ]
  },
  {
   "cell_type": "code",
   "execution_count": null,
   "metadata": {},
   "outputs": [],
   "source": [
    "import matplotlib.pyplot as plt\n",
    "import numpy as np\n",
    "\n",
    "# Data\n",
    "categories = ['Books', 'Ratings', 'Tags', 'To-Read Lists']\n",
    "values = [10000, 5976479, 34252, 912705]\n",
    "colors = ['#2E86AB', '#A23B72', '#F18F01', '#C73E1D']\n",
    "\n",
    "# Create figure\n",
    "fig, ax = plt.subplots(figsize=(5, 6))\n",
    "\n",
    "# Vertical bar chart with log scale\n",
    "bars = ax.bar(categories, values, color=colors, alpha=0.8, edgecolor='black', linewidth=1)\n",
    "\n",
    "# Set log scale for better visualization\n",
    "ax.set_yscale('log')\n",
    "\n",
    "# Extend Y-axis limits to give more space for the ratings label\n",
    "ax.set_ylim(1000, 50000000)  # Extend upper limit to 50M\n",
    "\n",
    "# Add value labels on top of bars (horizontally oriented)\n",
    "for i, (bar, value) in enumerate(zip(bars, values)):\n",
    "    height = bar.get_height()\n",
    "    ax.text(bar.get_x() + bar.get_width()/2, height * 1.3,  # Increased multiplier from 1.1 to 1.3\n",
    "            f'{value:,}', ha='center', va='bottom', \n",
    "            fontsize=14, fontweight='bold')\n",
    "\n",
    "# Styling\n",
    "ax.set_ylabel('Count (Log Scale)', fontsize=16, fontweight='bold')\n",
    "ax.set_title('Goodreads Dataset Scale: Real-World Data Volume', \n",
    "             fontsize=18, fontweight='bold', pad=20)\n",
    "\n",
    "# Grid and formatting\n",
    "ax.grid(axis='y', alpha=0.3, linestyle='--')\n",
    "ax.set_axisbelow(True)\n",
    "plt.xticks(fontsize=12, fontweight='bold', rotation=45, ha='right')\n",
    "plt.yticks(fontsize=12, fontweight='bold')\n",
    "\n",
    "# Fix the layout to accommodate labels - give more space at the top\n",
    "plt.subplots_adjust(top=0.85, bottom=0.15)\n",
    "\n",
    "# Save high-resolution figure before showing\n",
    "plt.savefig(\"goodreads_dataset_scale.png\", dpi=600, bbox_inches=\"tight\")\n",
    "\n",
    "# Show\n",
    "plt.show()\n"
   ]
  }
 ],
 "metadata": {
  "kernelspec": {
   "display_name": "base",
   "language": "python",
   "name": "python3"
  },
  "language_info": {
   "codemirror_mode": {
    "name": "ipython",
    "version": 3
   },
   "file_extension": ".py",
   "mimetype": "text/x-python",
   "name": "python",
   "nbconvert_exporter": "python",
   "pygments_lexer": "ipython3",
   "version": "3.9.13"
  }
 },
 "nbformat": 4,
 "nbformat_minor": 2
}

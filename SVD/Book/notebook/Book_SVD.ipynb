{
 "cells": [
  {
   "cell_type": "code",
   "execution_count": null,
   "metadata": {},
   "outputs": [
    {
     "name": "stdout",
     "output_type": "stream",
     "text": [
      "Defaulting to user installation because normal site-packages is not writeable\n",
      "Requirement already satisfied: scikit-surprise in /Users/saramoshtaghi/Library/Python/3.9/lib/python/site-packages (1.1.4)\n",
      "Requirement already satisfied: joblib>=1.2.0 in /Users/saramoshtaghi/Library/Python/3.9/lib/python/site-packages (from scikit-surprise) (1.4.2)\n",
      "Requirement already satisfied: numpy>=1.19.5 in /Users/saramoshtaghi/Library/Python/3.9/lib/python/site-packages (from scikit-surprise) (1.23.5)\n",
      "Requirement already satisfied: scipy>=1.6.0 in /Users/saramoshtaghi/Library/Python/3.9/lib/python/site-packages (from scikit-surprise) (1.13.1)\n",
      "\n",
      "\u001b[1m[\u001b[0m\u001b[34;49mnotice\u001b[0m\u001b[1;39;49m]\u001b[0m\u001b[39;49m A new release of pip is available: \u001b[0m\u001b[31;49m25.0.1\u001b[0m\u001b[39;49m -> \u001b[0m\u001b[32;49m25.1.1\u001b[0m\n",
      "\u001b[1m[\u001b[0m\u001b[34;49mnotice\u001b[0m\u001b[1;39;49m]\u001b[0m\u001b[39;49m To update, run: \u001b[0m\u001b[32;49m/Library/Developer/CommandLineTools/usr/bin/python3 -m pip install --upgrade pip\u001b[0m\n",
      "Note: you may need to restart the kernel to use updated packages.\n"
     ]
    }
   ],
   "source": [
    "pip install scikit-surprise"
   ]
  },
  {
   "cell_type": "code",
   "execution_count": 14,
   "metadata": {},
   "outputs": [],
   "source": [
    "df_final = pd.read_csv(\"../data/goodbooks-10k/final_svd_dataset.csv\")"
   ]
  },
  {
   "cell_type": "code",
   "execution_count": null,
   "metadata": {},
   "outputs": [
    {
     "data": {
      "application/vnd.microsoft.datawrangler.viewer.v0+json": {
       "columns": [
        {
         "name": "decade",
         "rawType": "object",
         "type": "string"
        },
        {
         "name": "book_id",
         "rawType": "int64",
         "type": "integer"
        }
       ],
       "ref": "96ce8c75-40b6-496a-a233-7bf44a85ccc9",
       "rows": [
        [
         "1920",
         "77298"
        ],
        [
         "1930",
         "121695"
        ],
        [
         "1940",
         "133772"
        ],
        [
         "1950",
         "254674"
        ],
        [
         "1960",
         "249719"
        ],
        [
         "1970",
         "244194"
        ],
        [
         "1980",
         "443368"
        ],
        [
         "1990",
         "847948"
        ],
        [
         "2000",
         "1808808"
        ],
        [
         "2010",
         "1268418"
        ],
        [
         "Ancient Books",
         "520643"
        ]
       ],
       "shape": {
        "columns": 1,
        "rows": 11
       }
      },
      "text/plain": [
       "decade\n",
       "1920               77298\n",
       "1930              121695\n",
       "1940              133772\n",
       "1950              254674\n",
       "1960              249719\n",
       "1970              244194\n",
       "1980              443368\n",
       "1990              847948\n",
       "2000             1808808\n",
       "2010             1268418\n",
       "Ancient Books     520643\n",
       "Name: book_id, dtype: int64"
      ]
     },
     "execution_count": 21,
     "metadata": {},
     "output_type": "execute_result"
    }
   ],
   "source": [
    "df_final.groupby('decade')['book_id'].count(),uniqeu\n"
   ]
  },
  {
   "cell_type": "code",
   "execution_count": 23,
   "metadata": {},
   "outputs": [
    {
     "data": {
      "application/vnd.microsoft.datawrangler.viewer.v0+json": {
       "columns": [
        {
         "name": "decade",
         "rawType": "object",
         "type": "string"
        },
        {
         "name": "book_id",
         "rawType": "int64",
         "type": "integer"
        }
       ],
       "ref": "842c2f86-ab1a-4345-b01a-5e2fcf5455a9",
       "rows": [
        [
         "1920",
         "89"
        ],
        [
         "1930",
         "121"
        ],
        [
         "1940",
         "155"
        ],
        [
         "1950",
         "210"
        ],
        [
         "1960",
         "272"
        ],
        [
         "1970",
         "400"
        ],
        [
         "1980",
         "704"
        ],
        [
         "1990",
         "1360"
        ],
        [
         "2000",
         "3121"
        ],
        [
         "2010",
         "3067"
        ],
        [
         "Ancient Books",
         "480"
        ]
       ],
       "shape": {
        "columns": 1,
        "rows": 11
       }
      },
      "text/plain": [
       "decade\n",
       "1920               89\n",
       "1930              121\n",
       "1940              155\n",
       "1950              210\n",
       "1960              272\n",
       "1970              400\n",
       "1980              704\n",
       "1990             1360\n",
       "2000             3121\n",
       "2010             3067\n",
       "Ancient Books     480\n",
       "Name: book_id, dtype: int64"
      ]
     },
     "execution_count": 23,
     "metadata": {},
     "output_type": "execute_result"
    }
   ],
   "source": [
    "df_final.groupby('decade')['book_id'].nunique()"
   ]
  },
  {
   "cell_type": "code",
   "execution_count": null,
   "metadata": {},
   "outputs": [
    {
     "data": {
      "application/vnd.microsoft.datawrangler.viewer.v0+json": {
       "columns": [
        {
         "name": "index",
         "rawType": "object",
         "type": "string"
        },
        {
         "name": "rating",
         "rawType": "float64",
         "type": "float"
        }
       ],
       "ref": "ea7a6d54-8aed-4888-be52-6ab8b5b46354",
       "rows": [
        [
         "count",
         "5970537.0"
        ],
        [
         "mean",
         "3.9196665224585328"
        ],
        [
         "std",
         "0.9910472682840205"
        ],
        [
         "min",
         "1.0"
        ],
        [
         "25%",
         "3.0"
        ],
        [
         "50%",
         "4.0"
        ],
        [
         "75%",
         "5.0"
        ],
        [
         "max",
         "5.0"
        ]
       ],
       "shape": {
        "columns": 1,
        "rows": 8
       }
      },
      "text/plain": [
       "count    5.970537e+06\n",
       "mean     3.919667e+00\n",
       "std      9.910473e-01\n",
       "min      1.000000e+00\n",
       "25%      3.000000e+00\n",
       "50%      4.000000e+00\n",
       "75%      5.000000e+00\n",
       "max      5.000000e+00\n",
       "Name: rating, dtype: float64"
      ]
     },
     "execution_count": 70,
     "metadata": {},
     "output_type": "execute_result"
    }
   ],
   "source": [
    "df_final['rating'].describe()"
   ]
  },
  {
   "cell_type": "code",
   "execution_count": 72,
   "metadata": {},
   "outputs": [
    {
     "data": {
      "text/plain": [
       "Index(['user_id', 'book_id', 'rating', 'decade'], dtype='object')"
      ]
     },
     "execution_count": 72,
     "metadata": {},
     "output_type": "execute_result"
    }
   ],
   "source": [
    "df_final.columns"
   ]
  },
  {
   "cell_type": "code",
   "execution_count": 24,
   "metadata": {},
   "outputs": [
    {
     "data": {
      "application/vnd.microsoft.datawrangler.viewer.v0+json": {
       "columns": [
        {
         "name": "index",
         "rawType": "int64",
         "type": "integer"
        },
        {
         "name": "user_id",
         "rawType": "int64",
         "type": "integer"
        },
        {
         "name": "book_id",
         "rawType": "int64",
         "type": "integer"
        },
        {
         "name": "rating",
         "rawType": "int64",
         "type": "integer"
        },
        {
         "name": "decade",
         "rawType": "object",
         "type": "string"
        }
       ],
       "ref": "6f677dca-ce60-4b81-9a05-5bfe5b3b8fd1",
       "rows": [
        [
         "0",
         "1",
         "258",
         "5",
         "2000"
        ],
        [
         "1",
         "2",
         "4081",
         "4",
         "2000"
        ],
        [
         "2",
         "2",
         "260",
         "5",
         "1930"
        ],
        [
         "3",
         "2",
         "9296",
         "5",
         "1970"
        ],
        [
         "4",
         "2",
         "2318",
         "3",
         "1990"
        ],
        [
         "5",
         "2",
         "26",
         "4",
         "2000"
        ],
        [
         "6",
         "2",
         "315",
         "3",
         "1990"
        ],
        [
         "7",
         "2",
         "33",
         "4",
         "1990"
        ],
        [
         "8",
         "2",
         "301",
         "5",
         "Ancient Books"
        ],
        [
         "9",
         "2",
         "2686",
         "5",
         "2000"
        ],
        [
         "10",
         "2",
         "3753",
         "5",
         "2000"
        ],
        [
         "11",
         "2",
         "8519",
         "5",
         "1970"
        ],
        [
         "12",
         "4",
         "70",
         "4",
         "1980"
        ],
        [
         "13",
         "4",
         "264",
         "3",
         "1920"
        ],
        [
         "14",
         "4",
         "388",
         "4",
         "1980"
        ],
        [
         "15",
         "4",
         "18",
         "5",
         "1990"
        ],
        [
         "16",
         "4",
         "27",
         "5",
         "2000"
        ],
        [
         "17",
         "4",
         "21",
         "5",
         "2000"
        ],
        [
         "18",
         "4",
         "2",
         "5",
         "1990"
        ],
        [
         "19",
         "4",
         "23",
         "5",
         "1990"
        ],
        [
         "20",
         "4",
         "24",
         "5",
         "2000"
        ],
        [
         "21",
         "4",
         "964",
         "4",
         "1970"
        ],
        [
         "22",
         "4",
         "103",
         "5",
         "Ancient Books"
        ],
        [
         "23",
         "4",
         "255",
         "2",
         "1950"
        ],
        [
         "24",
         "4",
         "35",
         "5",
         "1980"
        ],
        [
         "25",
         "4",
         "287",
         "3",
         "1940"
        ],
        [
         "26",
         "4",
         "337",
         "4",
         "1990"
        ],
        [
         "27",
         "4",
         "26",
         "3",
         "2000"
        ],
        [
         "28",
         "4",
         "84",
         "4",
         "1990"
        ],
        [
         "29",
         "4",
         "58",
         "4",
         "Ancient Books"
        ],
        [
         "30",
         "4",
         "1117",
         "3",
         "1990"
        ],
        [
         "31",
         "4",
         "660",
         "3",
         "1980"
        ],
        [
         "32",
         "4",
         "111",
         "2",
         "2000"
        ],
        [
         "33",
         "4",
         "5",
         "4",
         "1920"
        ],
        [
         "34",
         "4",
         "413",
         "4",
         "Ancient Books"
        ],
        [
         "35",
         "4",
         "8",
         "4",
         "1950"
        ],
        [
         "36",
         "4",
         "2172",
         "4",
         "1960"
        ],
        [
         "37",
         "4",
         "65",
         "4",
         "1960"
        ],
        [
         "38",
         "4",
         "297",
         "4",
         "1960"
        ],
        [
         "39",
         "4",
         "45",
         "4",
         "2000"
        ],
        [
         "40",
         "4",
         "113",
         "4",
         "1960"
        ],
        [
         "41",
         "4",
         "325",
         "5",
         "1980"
        ],
        [
         "42",
         "4",
         "476",
         "3",
         "1970"
        ],
        [
         "43",
         "6",
         "6351",
         "4",
         "2000"
        ],
        [
         "44",
         "8",
         "2732",
         "5",
         "Ancient Books"
        ],
        [
         "45",
         "8",
         "1432",
         "3",
         "Ancient Books"
        ],
        [
         "46",
         "8",
         "479",
         "4",
         "Ancient Books"
        ],
        [
         "47",
         "8",
         "3020",
         "5",
         "Ancient Books"
        ],
        [
         "48",
         "8",
         "6195",
         "4",
         "1920"
        ],
        [
         "49",
         "8",
         "614",
         "4",
         "1920"
        ]
       ],
       "shape": {
        "columns": 4,
        "rows": 5970537
       }
      },
      "text/html": [
       "<div>\n",
       "<style scoped>\n",
       "    .dataframe tbody tr th:only-of-type {\n",
       "        vertical-align: middle;\n",
       "    }\n",
       "\n",
       "    .dataframe tbody tr th {\n",
       "        vertical-align: top;\n",
       "    }\n",
       "\n",
       "    .dataframe thead th {\n",
       "        text-align: right;\n",
       "    }\n",
       "</style>\n",
       "<table border=\"1\" class=\"dataframe\">\n",
       "  <thead>\n",
       "    <tr style=\"text-align: right;\">\n",
       "      <th></th>\n",
       "      <th>user_id</th>\n",
       "      <th>book_id</th>\n",
       "      <th>rating</th>\n",
       "      <th>decade</th>\n",
       "    </tr>\n",
       "  </thead>\n",
       "  <tbody>\n",
       "    <tr>\n",
       "      <th>0</th>\n",
       "      <td>1</td>\n",
       "      <td>258</td>\n",
       "      <td>5</td>\n",
       "      <td>2000</td>\n",
       "    </tr>\n",
       "    <tr>\n",
       "      <th>1</th>\n",
       "      <td>2</td>\n",
       "      <td>4081</td>\n",
       "      <td>4</td>\n",
       "      <td>2000</td>\n",
       "    </tr>\n",
       "    <tr>\n",
       "      <th>2</th>\n",
       "      <td>2</td>\n",
       "      <td>260</td>\n",
       "      <td>5</td>\n",
       "      <td>1930</td>\n",
       "    </tr>\n",
       "    <tr>\n",
       "      <th>3</th>\n",
       "      <td>2</td>\n",
       "      <td>9296</td>\n",
       "      <td>5</td>\n",
       "      <td>1970</td>\n",
       "    </tr>\n",
       "    <tr>\n",
       "      <th>4</th>\n",
       "      <td>2</td>\n",
       "      <td>2318</td>\n",
       "      <td>3</td>\n",
       "      <td>1990</td>\n",
       "    </tr>\n",
       "    <tr>\n",
       "      <th>...</th>\n",
       "      <td>...</td>\n",
       "      <td>...</td>\n",
       "      <td>...</td>\n",
       "      <td>...</td>\n",
       "    </tr>\n",
       "    <tr>\n",
       "      <th>5970532</th>\n",
       "      <td>49925</td>\n",
       "      <td>510</td>\n",
       "      <td>5</td>\n",
       "      <td>1990</td>\n",
       "    </tr>\n",
       "    <tr>\n",
       "      <th>5970533</th>\n",
       "      <td>49925</td>\n",
       "      <td>528</td>\n",
       "      <td>4</td>\n",
       "      <td>1990</td>\n",
       "    </tr>\n",
       "    <tr>\n",
       "      <th>5970534</th>\n",
       "      <td>49925</td>\n",
       "      <td>722</td>\n",
       "      <td>4</td>\n",
       "      <td>1990</td>\n",
       "    </tr>\n",
       "    <tr>\n",
       "      <th>5970535</th>\n",
       "      <td>49925</td>\n",
       "      <td>949</td>\n",
       "      <td>5</td>\n",
       "      <td>1990</td>\n",
       "    </tr>\n",
       "    <tr>\n",
       "      <th>5970536</th>\n",
       "      <td>49925</td>\n",
       "      <td>1023</td>\n",
       "      <td>4</td>\n",
       "      <td>1990</td>\n",
       "    </tr>\n",
       "  </tbody>\n",
       "</table>\n",
       "<p>5970537 rows × 4 columns</p>\n",
       "</div>"
      ],
      "text/plain": [
       "         user_id  book_id  rating decade\n",
       "0              1      258       5   2000\n",
       "1              2     4081       4   2000\n",
       "2              2      260       5   1930\n",
       "3              2     9296       5   1970\n",
       "4              2     2318       3   1990\n",
       "...          ...      ...     ...    ...\n",
       "5970532    49925      510       5   1990\n",
       "5970533    49925      528       4   1990\n",
       "5970534    49925      722       4   1990\n",
       "5970535    49925      949       5   1990\n",
       "5970536    49925     1023       4   1990\n",
       "\n",
       "[5970537 rows x 4 columns]"
      ]
     },
     "execution_count": 24,
     "metadata": {},
     "output_type": "execute_result"
    }
   ],
   "source": [
    "df_final"
   ]
  },
  {
   "cell_type": "code",
   "execution_count": null,
   "metadata": {},
   "outputs": [
    {
     "ename": "KeyboardInterrupt",
     "evalue": "",
     "output_type": "error",
     "traceback": [
      "\u001b[0;31m---------------------------------------------------------------------------\u001b[0m",
      "\u001b[0;31mKeyboardInterrupt\u001b[0m                         Traceback (most recent call last)",
      "Cell \u001b[0;32mIn [76], line 11\u001b[0m\n\u001b[1;32m      8\u001b[0m reader \u001b[38;5;241m=\u001b[39m Reader(rating_scale\u001b[38;5;241m=\u001b[39m(\u001b[38;5;241m1\u001b[39m, \u001b[38;5;241m5\u001b[39m))\n\u001b[1;32m     10\u001b[0m \u001b[38;5;66;03m# Load data into Surprise format\u001b[39;00m\n\u001b[0;32m---> 11\u001b[0m data \u001b[38;5;241m=\u001b[39m Dataset\u001b[38;5;241m.\u001b[39mload_from_df(df_final[[\u001b[38;5;124m'\u001b[39m\u001b[38;5;124muser_id\u001b[39m\u001b[38;5;124m'\u001b[39m, \u001b[38;5;124m'\u001b[39m\u001b[38;5;124mbook_id\u001b[39m\u001b[38;5;124m'\u001b[39m, \u001b[38;5;124m'\u001b[39m\u001b[38;5;124mrating\u001b[39m\u001b[38;5;124m'\u001b[39m]], reader)\n\u001b[1;32m     13\u001b[0m \u001b[38;5;66;03m# Split into train and test sets\u001b[39;00m\n\u001b[1;32m     14\u001b[0m trainset, testset \u001b[38;5;241m=\u001b[39m train_test_split(data, test_size\u001b[38;5;241m=\u001b[39m\u001b[38;5;241m0.2\u001b[39m, random_state\u001b[38;5;241m=\u001b[39m\u001b[38;5;241m42\u001b[39m)\n",
      "File \u001b[0;32m~/Library/Python/3.9/lib/python/site-packages/surprise/dataset.py:167\u001b[0m, in \u001b[0;36mDataset.load_from_df\u001b[0;34m(cls, df, reader)\u001b[0m\n\u001b[1;32m    150\u001b[0m \u001b[38;5;129m@classmethod\u001b[39m\n\u001b[1;32m    151\u001b[0m \u001b[38;5;28;01mdef\u001b[39;00m \u001b[38;5;21mload_from_df\u001b[39m(\u001b[38;5;28mcls\u001b[39m, df, reader):\n\u001b[1;32m    152\u001b[0m     \u001b[38;5;124;03m\"\"\"Load a dataset from a pandas dataframe.\u001b[39;00m\n\u001b[1;32m    153\u001b[0m \n\u001b[1;32m    154\u001b[0m \u001b[38;5;124;03m    Use this if you want to use a custom dataset that is stored in a pandas\u001b[39;00m\n\u001b[0;32m   (...)\u001b[0m\n\u001b[1;32m    164\u001b[0m \u001b[38;5;124;03m            specified.\u001b[39;00m\n\u001b[1;32m    165\u001b[0m \u001b[38;5;124;03m    \"\"\"\u001b[39;00m\n\u001b[0;32m--> 167\u001b[0m     \u001b[38;5;28;01mreturn\u001b[39;00m \u001b[43mDatasetAutoFolds\u001b[49m\u001b[43m(\u001b[49m\u001b[43mreader\u001b[49m\u001b[38;5;241;43m=\u001b[39;49m\u001b[43mreader\u001b[49m\u001b[43m,\u001b[49m\u001b[43m \u001b[49m\u001b[43mdf\u001b[49m\u001b[38;5;241;43m=\u001b[39;49m\u001b[43mdf\u001b[49m\u001b[43m)\u001b[49m\n",
      "File \u001b[0;32m~/Library/Python/3.9/lib/python/site-packages/surprise/dataset.py:262\u001b[0m, in \u001b[0;36mDatasetAutoFolds.__init__\u001b[0;34m(self, ratings_file, reader, df)\u001b[0m\n\u001b[1;32m    260\u001b[0m \u001b[38;5;28;01melif\u001b[39;00m df \u001b[38;5;129;01mis\u001b[39;00m \u001b[38;5;129;01mnot\u001b[39;00m \u001b[38;5;28;01mNone\u001b[39;00m:\n\u001b[1;32m    261\u001b[0m     \u001b[38;5;28mself\u001b[39m\u001b[38;5;241m.\u001b[39mdf \u001b[38;5;241m=\u001b[39m df\n\u001b[0;32m--> 262\u001b[0m     \u001b[38;5;28mself\u001b[39m\u001b[38;5;241m.\u001b[39mraw_ratings \u001b[38;5;241m=\u001b[39m [\n\u001b[1;32m    263\u001b[0m         (uid, iid, \u001b[38;5;28mfloat\u001b[39m(r), \u001b[38;5;28;01mNone\u001b[39;00m)\n\u001b[1;32m    264\u001b[0m         \u001b[38;5;28;01mfor\u001b[39;00m (uid, iid, r) \u001b[38;5;129;01min\u001b[39;00m \u001b[38;5;28mself\u001b[39m\u001b[38;5;241m.\u001b[39mdf\u001b[38;5;241m.\u001b[39mitertuples(index\u001b[38;5;241m=\u001b[39m\u001b[38;5;28;01mFalse\u001b[39;00m)\n\u001b[1;32m    265\u001b[0m     ]\n\u001b[1;32m    266\u001b[0m \u001b[38;5;28;01melse\u001b[39;00m:\n\u001b[1;32m    267\u001b[0m     \u001b[38;5;28;01mraise\u001b[39;00m \u001b[38;5;167;01mValueError\u001b[39;00m(\u001b[38;5;124m\"\u001b[39m\u001b[38;5;124mMust specify ratings file or dataframe.\u001b[39m\u001b[38;5;124m\"\u001b[39m)\n",
      "File \u001b[0;32m~/Library/Python/3.9/lib/python/site-packages/surprise/dataset.py:263\u001b[0m, in \u001b[0;36m<listcomp>\u001b[0;34m(.0)\u001b[0m\n\u001b[1;32m    260\u001b[0m \u001b[38;5;28;01melif\u001b[39;00m df \u001b[38;5;129;01mis\u001b[39;00m \u001b[38;5;129;01mnot\u001b[39;00m \u001b[38;5;28;01mNone\u001b[39;00m:\n\u001b[1;32m    261\u001b[0m     \u001b[38;5;28mself\u001b[39m\u001b[38;5;241m.\u001b[39mdf \u001b[38;5;241m=\u001b[39m df\n\u001b[1;32m    262\u001b[0m     \u001b[38;5;28mself\u001b[39m\u001b[38;5;241m.\u001b[39mraw_ratings \u001b[38;5;241m=\u001b[39m [\n\u001b[0;32m--> 263\u001b[0m         (uid, iid, \u001b[38;5;28;43mfloat\u001b[39;49m\u001b[43m(\u001b[49m\u001b[43mr\u001b[49m\u001b[43m)\u001b[49m, \u001b[38;5;28;01mNone\u001b[39;00m)\n\u001b[1;32m    264\u001b[0m         \u001b[38;5;28;01mfor\u001b[39;00m (uid, iid, r) \u001b[38;5;129;01min\u001b[39;00m \u001b[38;5;28mself\u001b[39m\u001b[38;5;241m.\u001b[39mdf\u001b[38;5;241m.\u001b[39mitertuples(index\u001b[38;5;241m=\u001b[39m\u001b[38;5;28;01mFalse\u001b[39;00m)\n\u001b[1;32m    265\u001b[0m     ]\n\u001b[1;32m    266\u001b[0m \u001b[38;5;28;01melse\u001b[39;00m:\n\u001b[1;32m    267\u001b[0m     \u001b[38;5;28;01mraise\u001b[39;00m \u001b[38;5;167;01mValueError\u001b[39;00m(\u001b[38;5;124m\"\u001b[39m\u001b[38;5;124mMust specify ratings file or dataframe.\u001b[39m\u001b[38;5;124m\"\u001b[39m)\n",
      "\u001b[0;31mKeyboardInterrupt\u001b[0m: "
     ]
    }
   ],
   "source": [
    "import pandas as pd\n",
    "from surprise import Dataset, Reader, SVD\n",
    "from surprise.model_selection import train_test_split\n",
    "from surprise import accuracy\n",
    "import csv\n",
    "import os\n",
    "\n",
    "# ---------------------\n",
    "# Load dataset\n",
    "# ---------------------\n",
    "df_final = pd.read_csv(\"df_original.csv\")  # Ensure the file is in the same directory\n",
    "\n",
    "# Optional: Convert user_id and book_id to strings (Surprise handles strings better)\n",
    "df_final['user_id'] = df_final['user_id'].astype(str)\n",
    "df_final['book_id'] = df_final['book_id'].astype(str)\n",
    "\n",
    "# ---------------------\n",
    "# Prepare Surprise Dataset\n",
    "# ---------------------\n",
    "reader = Reader(rating_scale=(1, 5))\n",
    "data = Dataset.load_from_df(df_final[['user_id', 'book_id', 'rating']], reader)\n",
    "\n",
    "# Split into train and test sets\n",
    "trainset, testset = train_test_split(data, test_size=0.2, random_state=42)\n",
    "\n",
    "# ---------------------\n",
    "# Train SVD model\n",
    "# ---------------------\n",
    "svd = SVD(n_factors=100, random_state=42)\n",
    "svd.fit(trainset)\n",
    "\n",
    "# ---------------------\n",
    "# Evaluate RMSE\n",
    "# ---------------------\n",
    "predictions = svd.test(testset)\n",
    "rmse = accuracy.rmse(predictions)\n",
    "# ---------------------\n",
    "# Generate Top-25 Recommendations per User\n",
    "# ---------------------\n",
    "all_user_ids = df_final['user_id'].unique()\n",
    "all_book_ids = df_final['book_id'].unique()\n",
    "\n",
    "user_recommendations = {}\n",
    "\n",
    "print(\"Generating recommendations...\")\n",
    "for i, user_id in enumerate(all_user_ids):\n",
    "    rated_books = df_final[df_final['user_id'] == user_id]['book_id'].tolist()\n",
    "    unseen_books = [book for book in all_book_ids if book not in rated_books]\n",
    "    \n",
    "    preds = [(book, svd.predict(user_id, book).est) for book in unseen_books]\n",
    "    top_preds = sorted(preds, key=lambda x: x[1], reverse=True)[:25]\n",
    "    \n",
    "    user_recommendations[user_id] = [book for book, _ in top_preds]\n",
    "    \n",
    "    if i % 500 == 0:\n",
    "        print(f\"Processed {i}/{len(all_user_ids)} users\")\n",
    "\n",
    "# ---------------------\n",
    "# Save Recommendations to CSV\n",
    "# ---------------------\n",
    "with open('user_recommendations.csv', 'w', newline='') as csvfile:\n",
    "    writer = csv.writer(csvfile)\n",
    "    writer.writerow(['user_id', 'recommended_books'])\n",
    "    for user_id, books in user_recommendations.items():\n",
    "        writer.writerow([user_id, ','.join(map(str, books))])\n",
    "\n",
    "# ---------------------\n",
    "# Save RMSE to a text file\n",
    "# ---------------------\n",
    "with open('svd_rmse.txt', 'w') as f:\n",
    "    f.write(f\"RMSE: {rmse:.4f}\\n\")\n",
    "\n",
    "# ---------------------\n",
    "# Optional: Load and display a preview\n",
    "# ---------------------\n",
    "df_recommendations = pd.read_csv('user_recommendations.csv')\n",
    "print(\"\\nSample recommendations:\")\n",
    "print(df_recommendations.head())\n"
   ]
  },
  {
   "cell_type": "code",
   "execution_count": null,
   "metadata": {},
   "outputs": [],
   "source": [
    "import os\n",
    "import pandas as pd\n",
    "from transformers import pipeline\n",
    "from tqdm import tqdm\n",
    "from collections import Counter\n",
    "\n",
    "# === Load dataset ===\n",
    "data_path = '../data/goodbooks-10k'\n",
    "books = pd.read_csv(os.path.join(data_path, 'books.csv'))\n",
    "df_books = books[['book_id', 'original_title', 'authors']].dropna(subset=['original_title']).reset_index(drop=True)\n",
    "\n",
    "# === Take 10% of data ===\n",
    "num_books_10_percent = int(len(df_books) * 0.10)\n",
    "df_books_sample = df_books.iloc[:num_books_10_percent].reset_index(drop=True)\n",
    "\n",
    "GENRE_LIST = [\n",
    "    \"Fantasy\", \"Science Fiction\", \"Romance\", \"Mystery\", \"Thriller\",\n",
    "    \"Historical\", \"Adult\", \"Horror\", \"Children's\",\n",
    "    \"Adventure\", \"Classics\", \"Nonfiction\", \"Drama\"\n",
    "]\n",
    "\n",
    "# === Initialize zero-shot classification pipeline ===\n",
    "classifier = pipeline(\"zero-shot-classification\", model=\"facebook/bart-large-mnli\")\n",
    "\n",
    "genres_predicted = []\n",
    "\n",
    "BATCH_SIZE = 100\n",
    "for start in tqdm(range(0, len(df_books_sample), BATCH_SIZE), desc=\"Processing batches\"):\n",
    "    end = min(start + BATCH_SIZE, len(df_books_sample))\n",
    "    batch_df = df_books_sample.iloc[start:end]\n",
    "    titles = [f\"{title} by {author}\" for title, author in zip(batch_df['original_title'], batch_df['authors'])]\n",
    "    results = classifier(titles, GENRE_LIST, multi_label=True)\n",
    "    for result, title in zip(results, titles):\n",
    "        top2 = sorted(zip(result['labels'], result['scores']), key=lambda x: -x[1])[:2]\n",
    "        top2_genres = f\"{top2[0][0]}, {top2[1][0]}\"\n",
    "        genres_predicted.append(top2_genres)\n",
    "        print(f\"{title} → {top2_genres}\")\n",
    "\n",
    "# Add predictions to dataframe\n",
    "df_books_sample['genres'] = genres_predicted\n",
    "\n",
    "# Count genre occurrences in top-2 predictions\n",
    "genre_counter = Counter()\n",
    "for entry in genres_predicted:\n",
    "    for genre in entry.split(', '):\n",
    "        genre_counter[genre] += 1\n",
    "\n",
    "# Print counts per genre\n",
    "print(\"\\n✅ Genre prediction counts in 10% sample:\")\n",
    "for genre, count in genre_counter.most_common():\n",
    "    print(f\"{genre}: {count}\")\n",
    "\n",
    "# Save predictions\n",
    "df_books_sample.to_csv(\"/home/moshtasa/Research/phd-svd-recsys/SVD/Book/data/LLM/10%k_zeroshot_10percent.csv\", index=False)\n",
    "\n",
    "print(\"\\n✅ 10% of books processed and saved to 10k_zeroshot_10percent.csv!\")\n"
   ]
  },
  {
   "cell_type": "code",
   "execution_count": 39,
   "metadata": {},
   "outputs": [
    {
     "name": "stdout",
     "output_type": "stream",
     "text": [
      "\n",
      "📚 Number of unique books processed:\n",
      "Zero-shot dataset: 8600 unique books\n",
      "FLAN-T5 dataset:   9415 unique books\n",
      "\n",
      "📊 Genre counts (Zero-shot vs FLAN-T5):\n",
      "\n",
      "Adult           | Zero-shot:  3719 | FLAN-T5:   839\n",
      "Adventure       | Zero-shot:   357 | FLAN-T5:   316\n",
      "Children's      | Zero-shot:   622 | FLAN-T5:  1159\n",
      "Classics        | Zero-shot:   713 | FLAN-T5:   188\n",
      "Drama           | Zero-shot:  1367 | FLAN-T5:  1284\n",
      "Fantasy         | Zero-shot:   702 | FLAN-T5:  1794\n",
      "Historical      | Zero-shot:  1548 | FLAN-T5:   957\n",
      "Horror          | Zero-shot:  1150 | FLAN-T5:    48\n",
      "Mystery         | Zero-shot:   355 | FLAN-T5:  1847\n",
      "Nonfiction      | Zero-shot:  3663 | FLAN-T5:  1988\n",
      "Romance         | Zero-shot:   642 | FLAN-T5:  2028\n",
      "Science Fiction | Zero-shot:  1976 | FLAN-T5:  1023\n",
      "Thriller        | Zero-shot:   386 | FLAN-T5:  5359\n"
     ]
    },
    {
     "data": {
      "image/png": "[encoded data removed]",
      "text/plain": [
       "<Figure size 1400x600 with 1 Axes>"
      ]
     },
     "metadata": {},
     "output_type": "display_data"
    }
   ],
   "source": [
    "import pandas as pd\n",
    "import matplotlib.pyplot as plt\n",
    "from collections import Counter\n",
    "\n",
    "# === File paths ===\n",
    "file_zeroshot = \"/home/moshtasa/Research/phd-svd-recsys/SVD/Book/data/LLM/10k_zeroshot.csv\"\n",
    "file_flan = \"/home/moshtasa/Research/phd-svd-recsys/SVD/Book/data/LLM/10k_flan_t5.csv\"\n",
    "\n",
    "# === Read both datasets ===\n",
    "df_zeroshot = pd.read_csv(file_zeroshot)\n",
    "df_flan = pd.read_csv(file_flan)\n",
    "\n",
    "# === Count number of unique books in each dataset ===\n",
    "num_uniq_zeroshot = df_zeroshot['book_id'].nunique()\n",
    "num_uniq_flan = df_flan['book_id'].nunique()\n",
    "\n",
    "print(f\"\\n📚 Number of unique books processed:\")\n",
    "print(f\"Zero-shot dataset: {num_uniq_zeroshot} unique books\")\n",
    "print(f\"FLAN-T5 dataset:   {num_uniq_flan} unique books\")\n",
    "\n",
    "# === Function to count genres in a dataframe ===\n",
    "def count_genres(df):\n",
    "    genre_counter = Counter()\n",
    "    for entry in df['genres'].dropna():\n",
    "        for genre in entry.split(', '):\n",
    "            genre_counter[genre] += 1\n",
    "    return genre_counter\n",
    "\n",
    "counts_zeroshot = count_genres(df_zeroshot)\n",
    "counts_flan = count_genres(df_flan)\n",
    "\n",
    "# === Sort genres for consistent plotting ===\n",
    "all_genres = sorted(set(counts_zeroshot.keys()).union(counts_flan.keys()))\n",
    "\n",
    "zeroshot_values = [counts_zeroshot.get(g, 0) for g in all_genres]\n",
    "flan_values = [counts_flan.get(g, 0) for g in all_genres]\n",
    "\n",
    "# === Print the numbers for each genre ===\n",
    "print(\"\\n📊 Genre counts (Zero-shot vs FLAN-T5):\\n\")\n",
    "for genre, z_count, f_count in zip(all_genres, zeroshot_values, flan_values):\n",
    "    print(f\"{genre:15s} | Zero-shot: {z_count:5d} | FLAN-T5: {f_count:5d}\")\n",
    "\n",
    "# === Create side-by-side bar plot ===\n",
    "x = range(len(all_genres))\n",
    "width = 0.35\n",
    "\n",
    "plt.figure(figsize=(14, 6))\n",
    "plt.bar(x, zeroshot_values, width=width, label=\"Zero-shot\", align='center')\n",
    "plt.bar([i + width for i in x], flan_values, width=width, label=\"FLAN-T5\", align='center')\n",
    "\n",
    "plt.xticks([i + width/2 for i in x], all_genres, rotation=45, ha='right')\n",
    "plt.ylabel(\"Count of predicted genres\")\n",
    "plt.title(\"Genre distribution comparison (Zero-shot vs FLAN-T5)\")\n",
    "plt.legend()\n",
    "plt.tight_layout()\n",
    "plt.show()\n"
   ]
  },
  {
   "cell_type": "code",
   "execution_count": 8,
   "metadata": {},
   "outputs": [
    {
     "name": "stdout",
     "output_type": "stream",
     "text": [
      "\n",
      "📚 Number of books processed:\n",
      "Zero-shot dataset (10% sample): 941 books\n",
      "FLAN-T5 dataset (full):         9415 books\n",
      "\n",
      "📊 Estimated genre counts (Zero-shot ×10) vs FLAN-T5:\n",
      "\n",
      "Adult           | Zero-shot (×10):  3990 | FLAN-T5:   839\n",
      "Adventure       | Zero-shot (×10):   390 | FLAN-T5:   316\n",
      "Children's      | Zero-shot (×10):   650 | FLAN-T5:  1159\n",
      "Classics        | Zero-shot (×10):  1510 | FLAN-T5:   188\n",
      "Drama           | Zero-shot (×10):  1710 | FLAN-T5:  1284\n",
      "Fantasy         | Zero-shot (×10):  1040 | FLAN-T5:  1794\n",
      "Historical      | Zero-shot (×10):  1310 | FLAN-T5:   957\n",
      "Horror          | Zero-shot (×10):  1380 | FLAN-T5:    48\n",
      "Mystery         | Zero-shot (×10):   350 | FLAN-T5:  1847\n",
      "Nonfiction      | Zero-shot (×10):  3070 | FLAN-T5:  1988\n",
      "Romance         | Zero-shot (×10):   880 | FLAN-T5:  2028\n",
      "Science Fiction | Zero-shot (×10):  1940 | FLAN-T5:  1023\n",
      "Thriller        | Zero-shot (×10):   600 | FLAN-T5:  5359\n"
     ]
    },
    {
     "data": {
      "image/png": "[encoded data removed]",
      "text/plain": [
       "<Figure size 1400x600 with 1 Axes>"
      ]
     },
     "metadata": {},
     "output_type": "display_data"
    }
   ],
   "source": [
    "import pandas as pd\n",
    "import matplotlib.pyplot as plt\n",
    "from collections import Counter\n",
    "\n",
    "# === File paths ===\n",
    "file_zeroshot = \"/home/moshtasa/Research/phd-svd-recsys/SVD/Book/data/LLM/10%k_zeroshot_10percent.csv\"\n",
    "file_flan = \"/home/moshtasa/Research/phd-svd-recsys/SVD/Book/data/LLM/10k_flan_t5.csv\"\n",
    "\n",
    "# === Read both datasets ===\n",
    "df_zeroshot = pd.read_csv(file_zeroshot)\n",
    "df_flan = pd.read_csv(file_flan)\n",
    "\n",
    "# === Count number of books ===\n",
    "num_books_zeroshot = len(df_zeroshot)\n",
    "num_books_flan = len(df_flan)\n",
    "\n",
    "print(f\"\\n📚 Number of books processed:\")\n",
    "print(f\"Zero-shot dataset (10% sample): {num_books_zeroshot} books\")\n",
    "print(f\"FLAN-T5 dataset (full):         {num_books_flan} books\")\n",
    "\n",
    "# === Function to count genres in a dataframe ===\n",
    "def count_genres(df):\n",
    "    genre_counter = Counter()\n",
    "    for entry in df['genres'].dropna():\n",
    "        for genre in entry.split(', '):\n",
    "            genre_counter[genre] += 1\n",
    "    return genre_counter\n",
    "\n",
    "counts_zeroshot = count_genres(df_zeroshot)\n",
    "counts_flan = count_genres(df_flan)\n",
    "\n",
    "# === Multiply zero-shot counts by 10 to approximate full dataset ===\n",
    "counts_zeroshot_scaled = {genre: count * 10 for genre, count in counts_zeroshot.items()}\n",
    "\n",
    "# === Sort genres for consistent plotting ===\n",
    "all_genres = sorted(set(counts_zeroshot_scaled.keys()).union(counts_flan.keys()))\n",
    "\n",
    "zeroshot_values = [counts_zeroshot_scaled.get(g, 0) for g in all_genres]\n",
    "flan_values = [counts_flan.get(g, 0) for g in all_genres]\n",
    "\n",
    "# === Print the values for each genre ===\n",
    "print(\"\\n📊 Estimated genre counts (Zero-shot ×10) vs FLAN-T5:\\n\")\n",
    "for genre, z_val, f_val in zip(all_genres, zeroshot_values, flan_values):\n",
    "    print(f\"{genre:15s} | Zero-shot (×10): {z_val:5d} | FLAN-T5: {f_val:5d}\")\n",
    "\n",
    "# === Create side-by-side bar plot ===\n",
    "x = range(len(all_genres))\n",
    "width = 0.35\n",
    "\n",
    "plt.figure(figsize=(14, 6))\n",
    "plt.bar(x, zeroshot_values, width=width, label=\"Zero-shot (×10)\", align='center')\n",
    "plt.bar([i + width for i in x], flan_values, width=width, label=\"FLAN-T5\", align='center')\n",
    "\n",
    "plt.xticks([i + width/2 for i in x], all_genres, rotation=45, ha='right')\n",
    "plt.ylabel(\"Estimated count of predicted genres\")\n",
    "plt.title(\"Genre distribution comparison (Zero-shot ×10 vs FLAN-T5)\")\n",
    "plt.legend()\n",
    "plt.tight_layout()\n",
    "plt.show()\n"
   ]
  },
  {
   "cell_type": "code",
   "execution_count": 25,
   "metadata": {},
   "outputs": [
    {
     "name": "stdout",
     "output_type": "stream",
     "text": [
      "✅ Number of unique book IDs: 9415\n"
     ]
    }
   ],
   "source": [
    "import os\n",
    "import pandas as pd\n",
    "\n",
    "# === Load dataset ===\n",
    "\n",
    "books = pd.read_csv(\"/home/moshtasa/Research/phd-svd-recsys/SVD/Book/data/LLM/10k_flan_t5.csv\")\n",
    "df_books = books[['book_id', 'original_title', 'authors']].dropna(subset=['original_title']).reset_index(drop=True)\n",
    "\n",
    "# === Count unique book IDs ===\n",
    "num_unique_book_ids = df_books['book_id'].nunique()\n",
    "print(f\"✅ Number of unique book IDs: {num_unique_book_ids}\")\n"
   ]
  },
  {
   "cell_type": "code",
   "execution_count": 11,
   "metadata": {},
   "outputs": [
    {
     "name": "stdout",
     "output_type": "stream",
     "text": [
      "✅ Total number of books in dataset: 9415\n"
     ]
    }
   ],
   "source": [
    "import os\n",
    "import pandas as pd\n",
    "\n",
    "# === Load dataset ===\n",
    "data_path = '../data/goodbooks-10k'\n",
    "books = pd.read_csv(os.path.join(data_path, 'books.csv'))\n",
    "df_books = books[['book_id', 'original_title', 'authors']].dropna(subset=['original_title']).reset_index(drop=True)\n",
    "\n",
    "# === Count total number of books ===\n",
    "num_books_total = len(df_books)\n",
    "print(f\"✅ Total number of books in dataset: {num_books_total}\")\n"
   ]
  },
  {
   "cell_type": "code",
   "execution_count": 12,
   "metadata": {},
   "outputs": [
    {
     "name": "stdout",
     "output_type": "stream",
     "text": [
      "books.csv shape: (10000, 23)\n",
      "ratings.csv shape: (5976479, 3)\n",
      "to_read.csv shape: (912705, 2)\n",
      "book_tags.csv shape: (999912, 3)\n",
      "tags.csv shape: (34252, 2)\n",
      "\n",
      "Books sample:\n",
      "   book_id  goodreads_book_id  best_book_id  work_id  books_count       isbn  \\\n",
      "0        1            2767052       2767052  2792775          272  439023483   \n",
      "1        2                  3             3  4640799          491  439554934   \n",
      "2        3              41865         41865  3212258          226  316015849   \n",
      "3        4               2657          2657  3275794          487   61120081   \n",
      "4        5               4671          4671   245494         1356  743273567   \n",
      "\n",
      "         isbn13                      authors  original_publication_year  \\\n",
      "0  9.780439e+12              Suzanne Collins                     2008.0   \n",
      "1  9.780440e+12  J.K. Rowling, Mary GrandPré                     1997.0   \n",
      "2  9.780316e+12              Stephenie Meyer                     2005.0   \n",
      "3  9.780061e+12                   Harper Lee                     1960.0   \n",
      "4  9.780743e+12          F. Scott Fitzgerald                     1925.0   \n",
      "\n",
      "                             original_title  ... ratings_count  \\\n",
      "0                          The Hunger Games  ...       4780653   \n",
      "1  Harry Potter and the Philosopher's Stone  ...       4602479   \n",
      "2                                  Twilight  ...       3866839   \n",
      "3                     To Kill a Mockingbird  ...       3198671   \n",
      "4                          The Great Gatsby  ...       2683664   \n",
      "\n",
      "  work_ratings_count  work_text_reviews_count  ratings_1  ratings_2  \\\n",
      "0            4942365                   155254      66715     127936   \n",
      "1            4800065                    75867      75504     101676   \n",
      "2            3916824                    95009     456191     436802   \n",
      "3            3340896                    72586      60427     117415   \n",
      "4            2773745                    51992      86236     197621   \n",
      "\n",
      "   ratings_3  ratings_4  ratings_5  \\\n",
      "0     560092    1481305    2706317   \n",
      "1     455024    1156318    3011543   \n",
      "2     793319     875073    1355439   \n",
      "3     446835    1001952    1714267   \n",
      "4     606158     936012     947718   \n",
      "\n",
      "                                           image_url  \\\n",
      "0  https://images.gr-assets.com/books/1447303603m...   \n",
      "1  https://images.gr-assets.com/books/1474154022m...   \n",
      "2  https://images.gr-assets.com/books/1361039443m...   \n",
      "3  https://images.gr-assets.com/books/1361975680m...   \n",
      "4  https://images.gr-assets.com/books/1490528560m...   \n",
      "\n",
      "                                     small_image_url  \n",
      "0  https://images.gr-assets.com/books/1447303603s...  \n",
      "1  https://images.gr-assets.com/books/1474154022s...  \n",
      "2  https://images.gr-assets.com/books/1361039443s...  \n",
      "3  https://images.gr-assets.com/books/1361975680s...  \n",
      "4  https://images.gr-assets.com/books/1490528560s...  \n",
      "\n",
      "[5 rows x 23 columns]\n",
      "\n",
      "Ratings sample:\n",
      "   user_id  book_id  rating\n",
      "0        1      258       5\n",
      "1        2     4081       4\n",
      "2        2      260       5\n",
      "3        2     9296       5\n",
      "4        2     2318       3\n",
      "\n",
      "To-Read sample:\n",
      "   user_id  book_id\n",
      "0        9        8\n",
      "1       15      398\n",
      "2       15      275\n",
      "3       37     7173\n",
      "4       34      380\n",
      "\n",
      "Book Tags sample:\n",
      "   goodreads_book_id  tag_id   count\n",
      "0                  1   30574  167697\n",
      "1                  1   11305   37174\n",
      "2                  1   11557   34173\n",
      "3                  1    8717   12986\n",
      "4                  1   33114   12716\n",
      "\n",
      "Tags sample:\n",
      "   tag_id tag_name\n",
      "0       0        -\n",
      "1       1     --1-\n",
      "2       2    --10-\n",
      "3       3    --12-\n",
      "4       4   --122-\n"
     ]
    }
   ],
   "source": [
    "# Define your local data path\n",
    "data_path = '../data/goodbooks-10k'  # adjust path if needed\n",
    "\n",
    "# Load all available CSV files\n",
    "books = pd.read_csv(os.path.join(data_path, 'books.csv'))\n",
    "ratings = pd.read_csv(os.path.join(data_path, 'ratings.csv'))\n",
    "to_read = pd.read_csv(os.path.join(data_path, 'to_read.csv'))\n",
    "book_tags = pd.read_csv(os.path.join(data_path, 'book_tags.csv'))\n",
    "tags = pd.read_csv(os.path.join(data_path, 'tags.csv'))\n",
    "\n",
    "# Quick verification:\n",
    "print(f\"books.csv shape: {books.shape}\")\n",
    "print(f\"ratings.csv shape: {ratings.shape}\")\n",
    "print(f\"to_read.csv shape: {to_read.shape}\")\n",
    "print(f\"book_tags.csv shape: {book_tags.shape}\")\n",
    "print(f\"tags.csv shape: {tags.shape}\")\n",
    "\n",
    "# Preview few rows from each file:\n",
    "print(\"\\nBooks sample:\")\n",
    "print(books.head())\n",
    "\n",
    "print(\"\\nRatings sample:\")\n",
    "print(ratings.head())\n",
    "\n",
    "print(\"\\nTo-Read sample:\")\n",
    "print(to_read.head())\n",
    "\n",
    "print(\"\\nBook Tags sample:\")\n",
    "print(book_tags.head())\n",
    "\n",
    "print(\"\\nTags sample:\")\n",
    "print(tags.head())\n"
   ]
  }
 ],
 "metadata": {
  "kernelspec": {
   "display_name": "base",
   "language": "python",
   "name": "python3"
  },
  "language_info": {
   "codemirror_mode": {
    "name": "ipython",
    "version": 3
   },
   "file_extension": ".py",
   "mimetype": "text/x-python",
   "name": "python",
   "nbconvert_exporter": "python",
   "pygments_lexer": "ipython3",
   "version": "3.9.13"
  }
 },
 "nbformat": 4,
 "nbformat_minor": 2
}
